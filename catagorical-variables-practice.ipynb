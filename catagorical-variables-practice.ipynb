{
 "cells": [
  {
   "cell_type": "markdown",
   "id": "00c9b279",
   "metadata": {
    "papermill": {
     "duration": 0.041348,
     "end_time": "2021-08-22T06:28:06.256144",
     "exception": false,
     "start_time": "2021-08-22T06:28:06.214796",
     "status": "completed"
    },
    "tags": []
   },
   "source": [
    "# Bismillahir Rahmanir Rahim"
   ]
  },
  {
   "cell_type": "markdown",
   "id": "976f7fe0",
   "metadata": {
    "papermill": {
     "duration": 0.039764,
     "end_time": "2021-08-22T06:28:06.336165",
     "exception": false,
     "start_time": "2021-08-22T06:28:06.296401",
     "status": "completed"
    },
    "tags": []
   },
   "source": [
    "In this particular notebook, we gonna learn about catagorical varibles and approaches to <br>\n",
    "handle these. If you aren't familiar with catagirical variables before, learn from [here](https://www.tutorialspoint.com/python_pandas/python_pandas_categorical_data.htm)<br>\n",
    "I would like to mention that, I am going the use the dataset from [Melbourne Housing Snapshot](https://www.kaggle.com/dansbecker/melbourne-housing-snapshot) <br>\n",
    "This notebook is inspired from [Categorical Variables](https://www.kaggle.com/alexisbcook/categorical-variables)<br>\n",
    "So, have a quick look there to learn about catagorical variable and relevant things which will be mentioned below.\n",
    "\n",
    "Ok, let's start with what we've learned so far."
   ]
  },
  {
   "cell_type": "code",
   "execution_count": 1,
   "id": "d7a0b56b",
   "metadata": {
    "execution": {
     "iopub.execute_input": "2021-08-22T06:28:06.422040Z",
     "iopub.status.busy": "2021-08-22T06:28:06.420769Z",
     "iopub.status.idle": "2021-08-22T06:28:07.653544Z",
     "shell.execute_reply": "2021-08-22T06:28:07.652709Z",
     "shell.execute_reply.started": "2021-08-17T13:34:23.907134Z"
    },
    "papermill": {
     "duration": 1.27714,
     "end_time": "2021-08-22T06:28:07.653724",
     "exception": false,
     "start_time": "2021-08-22T06:28:06.376584",
     "status": "completed"
    },
    "tags": []
   },
   "outputs": [],
   "source": [
    "import pandas as pd\n",
    "from sklearn.model_selection import train_test_split\n",
    "\n",
    "# data read\n",
    "data = pd.read_csv('../input/melbourne-housing-snapshot/melb_data.csv')\n",
    "\n",
    "# this is the target, isolating it from dataset \n",
    "# so that this can't be in train/validation set\n",
    "y = data.Price\n",
    "X = data.drop(['Price'], axis=1)\n",
    "\n",
    "# Divide data into training and validation subsets\n",
    "X_train_full, X_valid_full, y_train, y_valid = train_test_split(X, y, train_size=0.8, test_size=0.2,\n",
    "                                                                random_state=0)\n"
   ]
  },
  {
   "cell_type": "code",
   "execution_count": 2,
   "id": "cc83dfb8",
   "metadata": {
    "execution": {
     "iopub.execute_input": "2021-08-22T06:28:07.740670Z",
     "iopub.status.busy": "2021-08-22T06:28:07.739636Z",
     "iopub.status.idle": "2021-08-22T06:28:07.773114Z",
     "shell.execute_reply": "2021-08-22T06:28:07.773647Z",
     "shell.execute_reply.started": "2021-08-17T13:34:24.88514Z"
    },
    "papermill": {
     "duration": 0.080143,
     "end_time": "2021-08-22T06:28:07.773828",
     "exception": false,
     "start_time": "2021-08-22T06:28:07.693685",
     "status": "completed"
    },
    "tags": []
   },
   "outputs": [
    {
     "data": {
      "text/html": [
       "<div>\n",
       "<style scoped>\n",
       "    .dataframe tbody tr th:only-of-type {\n",
       "        vertical-align: middle;\n",
       "    }\n",
       "\n",
       "    .dataframe tbody tr th {\n",
       "        vertical-align: top;\n",
       "    }\n",
       "\n",
       "    .dataframe thead th {\n",
       "        text-align: right;\n",
       "    }\n",
       "</style>\n",
       "<table border=\"1\" class=\"dataframe\">\n",
       "  <thead>\n",
       "    <tr style=\"text-align: right;\">\n",
       "      <th></th>\n",
       "      <th>Suburb</th>\n",
       "      <th>Address</th>\n",
       "      <th>Rooms</th>\n",
       "      <th>Type</th>\n",
       "      <th>Method</th>\n",
       "      <th>SellerG</th>\n",
       "      <th>Date</th>\n",
       "      <th>Distance</th>\n",
       "      <th>Postcode</th>\n",
       "      <th>Bedroom2</th>\n",
       "      <th>Bathroom</th>\n",
       "      <th>Car</th>\n",
       "      <th>Landsize</th>\n",
       "      <th>BuildingArea</th>\n",
       "      <th>YearBuilt</th>\n",
       "      <th>CouncilArea</th>\n",
       "      <th>Lattitude</th>\n",
       "      <th>Longtitude</th>\n",
       "      <th>Regionname</th>\n",
       "      <th>Propertycount</th>\n",
       "    </tr>\n",
       "  </thead>\n",
       "  <tbody>\n",
       "    <tr>\n",
       "      <th>12167</th>\n",
       "      <td>St Kilda</td>\n",
       "      <td>11/22 Charnwood Cr</td>\n",
       "      <td>1</td>\n",
       "      <td>u</td>\n",
       "      <td>S</td>\n",
       "      <td>hockingstuart</td>\n",
       "      <td>29/07/2017</td>\n",
       "      <td>5.0</td>\n",
       "      <td>3182.0</td>\n",
       "      <td>1.0</td>\n",
       "      <td>1.0</td>\n",
       "      <td>1.0</td>\n",
       "      <td>0.0</td>\n",
       "      <td>NaN</td>\n",
       "      <td>1940.0</td>\n",
       "      <td>Port Phillip</td>\n",
       "      <td>-37.85984</td>\n",
       "      <td>144.9867</td>\n",
       "      <td>Southern Metropolitan</td>\n",
       "      <td>13240.0</td>\n",
       "    </tr>\n",
       "    <tr>\n",
       "      <th>6524</th>\n",
       "      <td>Williamstown</td>\n",
       "      <td>18 James St</td>\n",
       "      <td>2</td>\n",
       "      <td>h</td>\n",
       "      <td>SA</td>\n",
       "      <td>Hunter</td>\n",
       "      <td>17/09/2016</td>\n",
       "      <td>8.0</td>\n",
       "      <td>3016.0</td>\n",
       "      <td>2.0</td>\n",
       "      <td>2.0</td>\n",
       "      <td>1.0</td>\n",
       "      <td>193.0</td>\n",
       "      <td>NaN</td>\n",
       "      <td>NaN</td>\n",
       "      <td>Hobsons Bay</td>\n",
       "      <td>-37.85800</td>\n",
       "      <td>144.9005</td>\n",
       "      <td>Western Metropolitan</td>\n",
       "      <td>6380.0</td>\n",
       "    </tr>\n",
       "    <tr>\n",
       "      <th>8413</th>\n",
       "      <td>Sunshine</td>\n",
       "      <td>10 Dundalk St</td>\n",
       "      <td>3</td>\n",
       "      <td>h</td>\n",
       "      <td>S</td>\n",
       "      <td>Barry</td>\n",
       "      <td>8/04/2017</td>\n",
       "      <td>12.6</td>\n",
       "      <td>3020.0</td>\n",
       "      <td>3.0</td>\n",
       "      <td>1.0</td>\n",
       "      <td>1.0</td>\n",
       "      <td>555.0</td>\n",
       "      <td>NaN</td>\n",
       "      <td>NaN</td>\n",
       "      <td>Brimbank</td>\n",
       "      <td>-37.79880</td>\n",
       "      <td>144.8220</td>\n",
       "      <td>Western Metropolitan</td>\n",
       "      <td>3755.0</td>\n",
       "    </tr>\n",
       "    <tr>\n",
       "      <th>2919</th>\n",
       "      <td>Glenroy</td>\n",
       "      <td>1/2 Prospect St</td>\n",
       "      <td>3</td>\n",
       "      <td>u</td>\n",
       "      <td>SP</td>\n",
       "      <td>Brad</td>\n",
       "      <td>18/06/2016</td>\n",
       "      <td>13.0</td>\n",
       "      <td>3046.0</td>\n",
       "      <td>3.0</td>\n",
       "      <td>1.0</td>\n",
       "      <td>1.0</td>\n",
       "      <td>265.0</td>\n",
       "      <td>NaN</td>\n",
       "      <td>1995.0</td>\n",
       "      <td>Moreland</td>\n",
       "      <td>-37.70830</td>\n",
       "      <td>144.9158</td>\n",
       "      <td>Northern Metropolitan</td>\n",
       "      <td>8870.0</td>\n",
       "    </tr>\n",
       "    <tr>\n",
       "      <th>6043</th>\n",
       "      <td>Sunshine North</td>\n",
       "      <td>35 Furlong Rd</td>\n",
       "      <td>3</td>\n",
       "      <td>h</td>\n",
       "      <td>S</td>\n",
       "      <td>First</td>\n",
       "      <td>22/05/2016</td>\n",
       "      <td>13.3</td>\n",
       "      <td>3020.0</td>\n",
       "      <td>3.0</td>\n",
       "      <td>1.0</td>\n",
       "      <td>2.0</td>\n",
       "      <td>673.0</td>\n",
       "      <td>673.0</td>\n",
       "      <td>1970.0</td>\n",
       "      <td>Brimbank</td>\n",
       "      <td>-37.76230</td>\n",
       "      <td>144.8272</td>\n",
       "      <td>Western Metropolitan</td>\n",
       "      <td>4217.0</td>\n",
       "    </tr>\n",
       "  </tbody>\n",
       "</table>\n",
       "</div>"
      ],
      "text/plain": [
       "               Suburb             Address  Rooms Type Method        SellerG  \\\n",
       "12167        St Kilda  11/22 Charnwood Cr      1    u      S  hockingstuart   \n",
       "6524     Williamstown         18 James St      2    h     SA         Hunter   \n",
       "8413         Sunshine       10 Dundalk St      3    h      S          Barry   \n",
       "2919          Glenroy     1/2 Prospect St      3    u     SP           Brad   \n",
       "6043   Sunshine North       35 Furlong Rd      3    h      S          First   \n",
       "\n",
       "             Date  Distance  Postcode  Bedroom2  Bathroom  Car  Landsize  \\\n",
       "12167  29/07/2017       5.0    3182.0       1.0       1.0  1.0       0.0   \n",
       "6524   17/09/2016       8.0    3016.0       2.0       2.0  1.0     193.0   \n",
       "8413    8/04/2017      12.6    3020.0       3.0       1.0  1.0     555.0   \n",
       "2919   18/06/2016      13.0    3046.0       3.0       1.0  1.0     265.0   \n",
       "6043   22/05/2016      13.3    3020.0       3.0       1.0  2.0     673.0   \n",
       "\n",
       "       BuildingArea  YearBuilt   CouncilArea  Lattitude  Longtitude  \\\n",
       "12167           NaN     1940.0  Port Phillip  -37.85984    144.9867   \n",
       "6524            NaN        NaN   Hobsons Bay  -37.85800    144.9005   \n",
       "8413            NaN        NaN      Brimbank  -37.79880    144.8220   \n",
       "2919            NaN     1995.0      Moreland  -37.70830    144.9158   \n",
       "6043          673.0     1970.0      Brimbank  -37.76230    144.8272   \n",
       "\n",
       "                  Regionname  Propertycount  \n",
       "12167  Southern Metropolitan        13240.0  \n",
       "6524    Western Metropolitan         6380.0  \n",
       "8413    Western Metropolitan         3755.0  \n",
       "2919   Northern Metropolitan         8870.0  \n",
       "6043    Western Metropolitan         4217.0  "
      ]
     },
     "execution_count": 2,
     "metadata": {},
     "output_type": "execute_result"
    }
   ],
   "source": [
    "X_train_full.head()"
   ]
  },
  {
   "cell_type": "code",
   "execution_count": 3,
   "id": "b87a4fc6",
   "metadata": {
    "execution": {
     "iopub.execute_input": "2021-08-22T06:28:07.870725Z",
     "iopub.status.busy": "2021-08-22T06:28:07.870018Z",
     "iopub.status.idle": "2021-08-22T06:28:07.878970Z",
     "shell.execute_reply": "2021-08-22T06:28:07.878324Z",
     "shell.execute_reply.started": "2021-08-17T13:34:24.920639Z"
    },
    "papermill": {
     "duration": 0.063674,
     "end_time": "2021-08-22T06:28:07.879110",
     "exception": false,
     "start_time": "2021-08-22T06:28:07.815436",
     "status": "completed"
    },
    "tags": []
   },
   "outputs": [
    {
     "data": {
      "text/plain": [
       "['Car', 'BuildingArea', 'YearBuilt', 'CouncilArea']"
      ]
     },
     "execution_count": 3,
     "metadata": {},
     "output_type": "execute_result"
    }
   ],
   "source": [
    "# let's drop the missing value columns\n",
    "missing_cols = [col for col in X_train_full.columns if X_train_full[col].isnull().any()]\n",
    "missing_cols"
   ]
  },
  {
   "cell_type": "markdown",
   "id": "4dbe743c",
   "metadata": {
    "papermill": {
     "duration": 0.04034,
     "end_time": "2021-08-22T06:28:07.959847",
     "exception": false,
     "start_time": "2021-08-22T06:28:07.919507",
     "status": "completed"
    },
    "tags": []
   },
   "source": [
    "Dropping out columns having missing values"
   ]
  },
  {
   "cell_type": "code",
   "execution_count": 4,
   "id": "3689064f",
   "metadata": {
    "execution": {
     "iopub.execute_input": "2021-08-22T06:28:08.058408Z",
     "iopub.status.busy": "2021-08-22T06:28:08.057664Z",
     "iopub.status.idle": "2021-08-22T06:28:08.076849Z",
     "shell.execute_reply": "2021-08-22T06:28:08.075899Z",
     "shell.execute_reply.started": "2021-08-17T13:34:24.939825Z"
    },
    "papermill": {
     "duration": 0.075024,
     "end_time": "2021-08-22T06:28:08.077062",
     "exception": false,
     "start_time": "2021-08-22T06:28:08.002038",
     "status": "completed"
    },
    "tags": []
   },
   "outputs": [
    {
     "name": "stderr",
     "output_type": "stream",
     "text": [
      "/opt/conda/lib/python3.7/site-packages/pandas/core/frame.py:4315: SettingWithCopyWarning: \n",
      "A value is trying to be set on a copy of a slice from a DataFrame\n",
      "\n",
      "See the caveats in the documentation: https://pandas.pydata.org/pandas-docs/stable/user_guide/indexing.html#returning-a-view-versus-a-copy\n",
      "  errors=errors,\n"
     ]
    }
   ],
   "source": [
    "cols_with_missing = [col for col in X_train_full.columns if X_train_full[col].isnull().any()] \n",
    "X_train_full.drop(cols_with_missing, axis=1, inplace=True)\n",
    "X_valid_full.drop(cols_with_missing, axis=1, inplace=True)"
   ]
  },
  {
   "cell_type": "code",
   "execution_count": 5,
   "id": "a74dc069",
   "metadata": {
    "execution": {
     "iopub.execute_input": "2021-08-22T06:28:08.165876Z",
     "iopub.status.busy": "2021-08-22T06:28:08.165190Z",
     "iopub.status.idle": "2021-08-22T06:28:08.169492Z",
     "shell.execute_reply": "2021-08-22T06:28:08.169004Z",
     "shell.execute_reply.started": "2021-08-17T13:34:24.966909Z"
    },
    "papermill": {
     "duration": 0.050084,
     "end_time": "2021-08-22T06:28:08.169662",
     "exception": false,
     "start_time": "2021-08-22T06:28:08.119578",
     "status": "completed"
    },
    "tags": []
   },
   "outputs": [
    {
     "name": "stdout",
     "output_type": "stream",
     "text": [
      "Index(['Suburb', 'Address', 'Rooms', 'Type', 'Method', 'SellerG', 'Date',\n",
      "       'Distance', 'Postcode', 'Bedroom2', 'Bathroom', 'Landsize', 'Lattitude',\n",
      "       'Longtitude', 'Regionname', 'Propertycount'],\n",
      "      dtype='object')\n",
      "16\n"
     ]
    }
   ],
   "source": [
    "# number of columns in X_train_full\n",
    "print(X_train_full.columns)\n",
    "print(X_train_full.columns.size)"
   ]
  },
  {
   "cell_type": "markdown",
   "id": "02130e57",
   "metadata": {
    "papermill": {
     "duration": 0.040465,
     "end_time": "2021-08-22T06:28:08.252076",
     "exception": false,
     "start_time": "2021-08-22T06:28:08.211611",
     "status": "completed"
    },
    "tags": []
   },
   "source": [
    "Now, let's see the datatype of each column as we don't need **object** type(strings/texts actually) for our predictio in this example."
   ]
  },
  {
   "cell_type": "code",
   "execution_count": 6,
   "id": "422bde78",
   "metadata": {
    "execution": {
     "iopub.execute_input": "2021-08-22T06:28:08.341642Z",
     "iopub.status.busy": "2021-08-22T06:28:08.340956Z",
     "iopub.status.idle": "2021-08-22T06:28:08.347250Z",
     "shell.execute_reply": "2021-08-22T06:28:08.346454Z",
     "shell.execute_reply.started": "2021-08-17T13:34:24.974454Z"
    },
    "papermill": {
     "duration": 0.054462,
     "end_time": "2021-08-22T06:28:08.347445",
     "exception": false,
     "start_time": "2021-08-22T06:28:08.292983",
     "status": "completed"
    },
    "tags": []
   },
   "outputs": [
    {
     "name": "stdout",
     "output_type": "stream",
     "text": [
      "Suburb object\n",
      "Address object\n",
      "Rooms int64\n",
      "Type object\n",
      "Method object\n",
      "SellerG object\n",
      "Date object\n",
      "Distance float64\n",
      "Postcode float64\n",
      "Bedroom2 float64\n",
      "Bathroom float64\n",
      "Landsize float64\n",
      "Lattitude float64\n",
      "Longtitude float64\n",
      "Regionname object\n",
      "Propertycount float64\n"
     ]
    }
   ],
   "source": [
    "for col in X_train_full.columns:\n",
    "    print(col, X_train_full[col].dtype)"
   ]
  },
  {
   "cell_type": "markdown",
   "id": "2eae96ae",
   "metadata": {
    "papermill": {
     "duration": 0.04106,
     "end_time": "2021-08-22T06:28:08.430712",
     "exception": false,
     "start_time": "2021-08-22T06:28:08.389652",
     "status": "completed"
    },
    "tags": []
   },
   "source": [
    "As we all know, to use *one-hot-encoding,* we must keep our columns in limit numbers and these column numbers will be determined from the unique values(dtype = **object**) in a column.<br>\n",
    "Here comes the word **Cardinality** which means number of unique values in a column.<br>\n",
    "So, we're gonna keep it low."
   ]
  },
  {
   "cell_type": "code",
   "execution_count": 7,
   "id": "9237d41d",
   "metadata": {
    "execution": {
     "iopub.execute_input": "2021-08-22T06:28:08.524075Z",
     "iopub.status.busy": "2021-08-22T06:28:08.521224Z",
     "iopub.status.idle": "2021-08-22T06:28:08.553412Z",
     "shell.execute_reply": "2021-08-22T06:28:08.552865Z",
     "shell.execute_reply.started": "2021-08-17T13:34:24.991054Z"
    },
    "papermill": {
     "duration": 0.079453,
     "end_time": "2021-08-22T06:28:08.553576",
     "exception": false,
     "start_time": "2021-08-22T06:28:08.474123",
     "status": "completed"
    },
    "tags": []
   },
   "outputs": [
    {
     "data": {
      "text/plain": [
       "['Type', 'Method', 'Regionname']"
      ]
     },
     "execution_count": 7,
     "metadata": {},
     "output_type": "execute_result"
    }
   ],
   "source": [
    "# keeping cardinality low\n",
    "low_cardinality_cols = [col for col in X_train_full.columns if X_train_full[col].nunique() < 10 and X_train_full[col].dtype == 'object']\n",
    "low_cardinality_cols"
   ]
  },
  {
   "cell_type": "code",
   "execution_count": 8,
   "id": "0e2be029",
   "metadata": {
    "execution": {
     "iopub.execute_input": "2021-08-22T06:28:08.645472Z",
     "iopub.status.busy": "2021-08-22T06:28:08.644483Z",
     "iopub.status.idle": "2021-08-22T06:28:08.654870Z",
     "shell.execute_reply": "2021-08-22T06:28:08.655345Z",
     "shell.execute_reply.started": "2021-08-17T13:34:41.124459Z"
    },
    "papermill": {
     "duration": 0.059789,
     "end_time": "2021-08-22T06:28:08.655524",
     "exception": false,
     "start_time": "2021-08-22T06:28:08.595735",
     "status": "completed"
    },
    "tags": []
   },
   "outputs": [
    {
     "name": "stdout",
     "output_type": "stream",
     "text": [
      "3\n",
      "5\n",
      "8\n"
     ]
    }
   ],
   "source": [
    "for col in low_cardinality_cols:\n",
    "    print(X_train_full[col].nunique())"
   ]
  },
  {
   "cell_type": "markdown",
   "id": "d2228d68",
   "metadata": {
    "papermill": {
     "duration": 0.0432,
     "end_time": "2021-08-22T06:28:08.740704",
     "exception": false,
     "start_time": "2021-08-22T06:28:08.697504",
     "status": "completed"
    },
    "tags": []
   },
   "source": [
    "Since there are total 3 + 5 + 8 = 16 unique entries for 3 catagorical columns, we'll have 16 columns for the catagorical variables.<br>\n",
    "If you want to learn about nunique(), [Click here](https://pandas.pydata.org/docs/reference/api/pandas.Series.nunique.html)"
   ]
  },
  {
   "cell_type": "markdown",
   "id": "fa095530",
   "metadata": {
    "papermill": {
     "duration": 0.041565,
     "end_time": "2021-08-22T06:28:08.824269",
     "exception": false,
     "start_time": "2021-08-22T06:28:08.782704",
     "status": "completed"
    },
    "tags": []
   },
   "source": [
    "As a part of our prediction process, we need numerical columns(not everything). Later we'll see the reason."
   ]
  },
  {
   "cell_type": "code",
   "execution_count": 9,
   "id": "55043a44",
   "metadata": {
    "execution": {
     "iopub.execute_input": "2021-08-22T06:28:08.915101Z",
     "iopub.status.busy": "2021-08-22T06:28:08.914227Z",
     "iopub.status.idle": "2021-08-22T06:28:08.918825Z",
     "shell.execute_reply": "2021-08-22T06:28:08.918282Z"
    },
    "papermill": {
     "duration": 0.052592,
     "end_time": "2021-08-22T06:28:08.918977",
     "exception": false,
     "start_time": "2021-08-22T06:28:08.866385",
     "status": "completed"
    },
    "tags": []
   },
   "outputs": [
    {
     "data": {
      "text/plain": [
       "['Rooms',\n",
       " 'Distance',\n",
       " 'Postcode',\n",
       " 'Bedroom2',\n",
       " 'Bathroom',\n",
       " 'Landsize',\n",
       " 'Lattitude',\n",
       " 'Longtitude',\n",
       " 'Propertycount']"
      ]
     },
     "execution_count": 9,
     "metadata": {},
     "output_type": "execute_result"
    }
   ],
   "source": [
    "# keeping numerical cols\n",
    "numerical_cols = [col for col in X_train_full.columns if X_train_full[col].dtype in ['int64', 'float64']]\n",
    "numerical_cols"
   ]
  },
  {
   "cell_type": "markdown",
   "id": "d99058ed",
   "metadata": {
    "papermill": {
     "duration": 0.041559,
     "end_time": "2021-08-22T06:28:09.002845",
     "exception": false,
     "start_time": "2021-08-22T06:28:08.961286",
     "status": "completed"
    },
    "tags": []
   },
   "source": [
    "let's merge these two columns(*low_cardinality_cols* and *numerical_cols*) as we don'tneed other columns for model use."
   ]
  },
  {
   "cell_type": "code",
   "execution_count": 10,
   "id": "344a5701",
   "metadata": {
    "execution": {
     "iopub.execute_input": "2021-08-22T06:28:09.095352Z",
     "iopub.status.busy": "2021-08-22T06:28:09.094407Z",
     "iopub.status.idle": "2021-08-22T06:28:09.097662Z",
     "shell.execute_reply": "2021-08-22T06:28:09.098160Z"
    },
    "papermill": {
     "duration": 0.05185,
     "end_time": "2021-08-22T06:28:09.098327",
     "exception": false,
     "start_time": "2021-08-22T06:28:09.046477",
     "status": "completed"
    },
    "tags": []
   },
   "outputs": [
    {
     "name": "stdout",
     "output_type": "stream",
     "text": [
      "['Type', 'Method', 'Regionname', 'Rooms', 'Distance', 'Postcode', 'Bedroom2', 'Bathroom', 'Landsize', 'Lattitude', 'Longtitude', 'Propertycount']\n",
      "12\n"
     ]
    }
   ],
   "source": [
    "new_cols = low_cardinality_cols + numerical_cols\n",
    "print(new_cols)\n",
    "print(len(new_cols))"
   ]
  },
  {
   "cell_type": "markdown",
   "id": "af966ad6",
   "metadata": {
    "papermill": {
     "duration": 0.042433,
     "end_time": "2021-08-22T06:28:09.183358",
     "exception": false,
     "start_time": "2021-08-22T06:28:09.140925",
     "status": "completed"
    },
    "tags": []
   },
   "source": [
    "See, we now have 12 columns only, which was 16 in previous."
   ]
  },
  {
   "cell_type": "code",
   "execution_count": 11,
   "id": "2ec71f36",
   "metadata": {
    "execution": {
     "iopub.execute_input": "2021-08-22T06:28:09.276393Z",
     "iopub.status.busy": "2021-08-22T06:28:09.275384Z",
     "iopub.status.idle": "2021-08-22T06:28:09.281283Z",
     "shell.execute_reply": "2021-08-22T06:28:09.280657Z"
    },
    "papermill": {
     "duration": 0.055465,
     "end_time": "2021-08-22T06:28:09.281425",
     "exception": false,
     "start_time": "2021-08-22T06:28:09.225960",
     "status": "completed"
    },
    "tags": []
   },
   "outputs": [],
   "source": [
    "# creating another dataset copied from X_train_full and X_valid_full\n",
    "X_train = X_train_full[new_cols].copy()\n",
    "X_valid = X_valid_full[new_cols].copy()"
   ]
  },
  {
   "cell_type": "code",
   "execution_count": 12,
   "id": "7419ebe1",
   "metadata": {
    "execution": {
     "iopub.execute_input": "2021-08-22T06:28:09.386689Z",
     "iopub.status.busy": "2021-08-22T06:28:09.385671Z",
     "iopub.status.idle": "2021-08-22T06:28:09.390751Z",
     "shell.execute_reply": "2021-08-22T06:28:09.391188Z"
    },
    "papermill": {
     "duration": 0.066959,
     "end_time": "2021-08-22T06:28:09.391370",
     "exception": false,
     "start_time": "2021-08-22T06:28:09.324411",
     "status": "completed"
    },
    "tags": []
   },
   "outputs": [
    {
     "data": {
      "text/html": [
       "<div>\n",
       "<style scoped>\n",
       "    .dataframe tbody tr th:only-of-type {\n",
       "        vertical-align: middle;\n",
       "    }\n",
       "\n",
       "    .dataframe tbody tr th {\n",
       "        vertical-align: top;\n",
       "    }\n",
       "\n",
       "    .dataframe thead th {\n",
       "        text-align: right;\n",
       "    }\n",
       "</style>\n",
       "<table border=\"1\" class=\"dataframe\">\n",
       "  <thead>\n",
       "    <tr style=\"text-align: right;\">\n",
       "      <th></th>\n",
       "      <th>Type</th>\n",
       "      <th>Method</th>\n",
       "      <th>Regionname</th>\n",
       "      <th>Rooms</th>\n",
       "      <th>Distance</th>\n",
       "      <th>Postcode</th>\n",
       "      <th>Bedroom2</th>\n",
       "      <th>Bathroom</th>\n",
       "      <th>Landsize</th>\n",
       "      <th>Lattitude</th>\n",
       "      <th>Longtitude</th>\n",
       "      <th>Propertycount</th>\n",
       "    </tr>\n",
       "  </thead>\n",
       "  <tbody>\n",
       "    <tr>\n",
       "      <th>12167</th>\n",
       "      <td>u</td>\n",
       "      <td>S</td>\n",
       "      <td>Southern Metropolitan</td>\n",
       "      <td>1</td>\n",
       "      <td>5.0</td>\n",
       "      <td>3182.0</td>\n",
       "      <td>1.0</td>\n",
       "      <td>1.0</td>\n",
       "      <td>0.0</td>\n",
       "      <td>-37.85984</td>\n",
       "      <td>144.9867</td>\n",
       "      <td>13240.0</td>\n",
       "    </tr>\n",
       "    <tr>\n",
       "      <th>6524</th>\n",
       "      <td>h</td>\n",
       "      <td>SA</td>\n",
       "      <td>Western Metropolitan</td>\n",
       "      <td>2</td>\n",
       "      <td>8.0</td>\n",
       "      <td>3016.0</td>\n",
       "      <td>2.0</td>\n",
       "      <td>2.0</td>\n",
       "      <td>193.0</td>\n",
       "      <td>-37.85800</td>\n",
       "      <td>144.9005</td>\n",
       "      <td>6380.0</td>\n",
       "    </tr>\n",
       "    <tr>\n",
       "      <th>8413</th>\n",
       "      <td>h</td>\n",
       "      <td>S</td>\n",
       "      <td>Western Metropolitan</td>\n",
       "      <td>3</td>\n",
       "      <td>12.6</td>\n",
       "      <td>3020.0</td>\n",
       "      <td>3.0</td>\n",
       "      <td>1.0</td>\n",
       "      <td>555.0</td>\n",
       "      <td>-37.79880</td>\n",
       "      <td>144.8220</td>\n",
       "      <td>3755.0</td>\n",
       "    </tr>\n",
       "    <tr>\n",
       "      <th>2919</th>\n",
       "      <td>u</td>\n",
       "      <td>SP</td>\n",
       "      <td>Northern Metropolitan</td>\n",
       "      <td>3</td>\n",
       "      <td>13.0</td>\n",
       "      <td>3046.0</td>\n",
       "      <td>3.0</td>\n",
       "      <td>1.0</td>\n",
       "      <td>265.0</td>\n",
       "      <td>-37.70830</td>\n",
       "      <td>144.9158</td>\n",
       "      <td>8870.0</td>\n",
       "    </tr>\n",
       "    <tr>\n",
       "      <th>6043</th>\n",
       "      <td>h</td>\n",
       "      <td>S</td>\n",
       "      <td>Western Metropolitan</td>\n",
       "      <td>3</td>\n",
       "      <td>13.3</td>\n",
       "      <td>3020.0</td>\n",
       "      <td>3.0</td>\n",
       "      <td>1.0</td>\n",
       "      <td>673.0</td>\n",
       "      <td>-37.76230</td>\n",
       "      <td>144.8272</td>\n",
       "      <td>4217.0</td>\n",
       "    </tr>\n",
       "  </tbody>\n",
       "</table>\n",
       "</div>"
      ],
      "text/plain": [
       "      Type Method             Regionname  Rooms  Distance  Postcode  Bedroom2  \\\n",
       "12167    u      S  Southern Metropolitan      1       5.0    3182.0       1.0   \n",
       "6524     h     SA   Western Metropolitan      2       8.0    3016.0       2.0   \n",
       "8413     h      S   Western Metropolitan      3      12.6    3020.0       3.0   \n",
       "2919     u     SP  Northern Metropolitan      3      13.0    3046.0       3.0   \n",
       "6043     h      S   Western Metropolitan      3      13.3    3020.0       3.0   \n",
       "\n",
       "       Bathroom  Landsize  Lattitude  Longtitude  Propertycount  \n",
       "12167       1.0       0.0  -37.85984    144.9867        13240.0  \n",
       "6524        2.0     193.0  -37.85800    144.9005         6380.0  \n",
       "8413        1.0     555.0  -37.79880    144.8220         3755.0  \n",
       "2919        1.0     265.0  -37.70830    144.9158         8870.0  \n",
       "6043        1.0     673.0  -37.76230    144.8272         4217.0  "
      ]
     },
     "execution_count": 12,
     "metadata": {},
     "output_type": "execute_result"
    }
   ],
   "source": [
    "X_train.head()"
   ]
  },
  {
   "cell_type": "markdown",
   "id": "88c0cf79",
   "metadata": {
    "papermill": {
     "duration": 0.043418,
     "end_time": "2021-08-22T06:28:09.478225",
     "exception": false,
     "start_time": "2021-08-22T06:28:09.434807",
     "status": "completed"
    },
    "tags": []
   },
   "source": [
    "We can determine the data type of each columns of dataset, see below"
   ]
  },
  {
   "cell_type": "code",
   "execution_count": 13,
   "id": "a9dc7827",
   "metadata": {
    "execution": {
     "iopub.execute_input": "2021-08-22T06:28:09.572955Z",
     "iopub.status.busy": "2021-08-22T06:28:09.572076Z",
     "iopub.status.idle": "2021-08-22T06:28:09.575679Z",
     "shell.execute_reply": "2021-08-22T06:28:09.576126Z"
    },
    "papermill": {
     "duration": 0.053936,
     "end_time": "2021-08-22T06:28:09.576294",
     "exception": false,
     "start_time": "2021-08-22T06:28:09.522358",
     "status": "completed"
    },
    "tags": []
   },
   "outputs": [
    {
     "data": {
      "text/plain": [
       "Type             False\n",
       "Method           False\n",
       "Regionname       False\n",
       "Rooms             True\n",
       "Distance         False\n",
       "Postcode         False\n",
       "Bedroom2         False\n",
       "Bathroom         False\n",
       "Landsize         False\n",
       "Lattitude        False\n",
       "Longtitude       False\n",
       "Propertycount    False\n",
       "dtype: bool"
      ]
     },
     "execution_count": 13,
     "metadata": {},
     "output_type": "execute_result"
    }
   ],
   "source": [
    "# have a look the code below\n",
    "X_train.dtypes == 'int64'"
   ]
  },
  {
   "cell_type": "code",
   "execution_count": 14,
   "id": "b7b94c7c",
   "metadata": {
    "execution": {
     "iopub.execute_input": "2021-08-22T06:28:09.671660Z",
     "iopub.status.busy": "2021-08-22T06:28:09.670695Z",
     "iopub.status.idle": "2021-08-22T06:28:09.675368Z",
     "shell.execute_reply": "2021-08-22T06:28:09.674816Z"
    },
    "papermill": {
     "duration": 0.055297,
     "end_time": "2021-08-22T06:28:09.675512",
     "exception": false,
     "start_time": "2021-08-22T06:28:09.620215",
     "status": "completed"
    },
    "tags": []
   },
   "outputs": [
    {
     "data": {
      "text/plain": [
       "Type              True\n",
       "Method            True\n",
       "Regionname        True\n",
       "Rooms            False\n",
       "Distance         False\n",
       "Postcode         False\n",
       "Bedroom2         False\n",
       "Bathroom         False\n",
       "Landsize         False\n",
       "Lattitude        False\n",
       "Longtitude       False\n",
       "Propertycount    False\n",
       "dtype: bool"
      ]
     },
     "execution_count": 14,
     "metadata": {},
     "output_type": "execute_result"
    }
   ],
   "source": [
    "X_train.dtypes == 'object'"
   ]
  },
  {
   "cell_type": "code",
   "execution_count": 15,
   "id": "ac420368",
   "metadata": {
    "execution": {
     "iopub.execute_input": "2021-08-22T06:28:09.771962Z",
     "iopub.status.busy": "2021-08-22T06:28:09.771226Z",
     "iopub.status.idle": "2021-08-22T06:28:09.776698Z",
     "shell.execute_reply": "2021-08-22T06:28:09.777165Z"
    },
    "papermill": {
     "duration": 0.057418,
     "end_time": "2021-08-22T06:28:09.777361",
     "exception": false,
     "start_time": "2021-08-22T06:28:09.719943",
     "status": "completed"
    },
    "tags": []
   },
   "outputs": [
    {
     "data": {
      "text/plain": [
       "Type              True\n",
       "Method            True\n",
       "Regionname        True\n",
       "Rooms            False\n",
       "Distance         False\n",
       "Postcode         False\n",
       "Bedroom2         False\n",
       "Bathroom         False\n",
       "Landsize         False\n",
       "Lattitude        False\n",
       "Longtitude       False\n",
       "Propertycount    False\n",
       "dtype: bool"
      ]
     },
     "execution_count": 15,
     "metadata": {},
     "output_type": "execute_result"
    }
   ],
   "source": [
    "boools = (X_train.dtypes == 'object')\n",
    "boools"
   ]
  },
  {
   "cell_type": "markdown",
   "id": "84cca9b0",
   "metadata": {
    "papermill": {
     "duration": 0.044439,
     "end_time": "2021-08-22T06:28:09.866424",
     "exception": false,
     "start_time": "2021-08-22T06:28:09.821985",
     "status": "completed"
    },
    "tags": []
   },
   "source": [
    "Here bools is called panda series, and type is: **<class 'pandas.core.series.Series'>**<br>\n",
    "The line below, tells us that, these columns are 'object' type(texts)"
   ]
  },
  {
   "cell_type": "code",
   "execution_count": 16,
   "id": "eeec8f86",
   "metadata": {
    "execution": {
     "iopub.execute_input": "2021-08-22T06:28:09.962921Z",
     "iopub.status.busy": "2021-08-22T06:28:09.961957Z",
     "iopub.status.idle": "2021-08-22T06:28:09.966452Z",
     "shell.execute_reply": "2021-08-22T06:28:09.965898Z"
    },
    "papermill": {
     "duration": 0.055627,
     "end_time": "2021-08-22T06:28:09.966620",
     "exception": false,
     "start_time": "2021-08-22T06:28:09.910993",
     "status": "completed"
    },
    "tags": []
   },
   "outputs": [
    {
     "data": {
      "text/plain": [
       "Type          True\n",
       "Method        True\n",
       "Regionname    True\n",
       "dtype: bool"
      ]
     },
     "execution_count": 16,
     "metadata": {},
     "output_type": "execute_result"
    }
   ],
   "source": [
    "boools[boools]"
   ]
  },
  {
   "cell_type": "markdown",
   "id": "a88c05b4",
   "metadata": {
    "papermill": {
     "duration": 0.046922,
     "end_time": "2021-08-22T06:28:10.059329",
     "exception": false,
     "start_time": "2021-08-22T06:28:10.012407",
     "status": "completed"
    },
    "tags": []
   },
   "source": [
    "To know which columns have the dtype *object*,  we can use *.index*"
   ]
  },
  {
   "cell_type": "code",
   "execution_count": 17,
   "id": "9445b823",
   "metadata": {
    "execution": {
     "iopub.execute_input": "2021-08-22T06:28:10.155676Z",
     "iopub.status.busy": "2021-08-22T06:28:10.154698Z",
     "iopub.status.idle": "2021-08-22T06:28:10.159230Z",
     "shell.execute_reply": "2021-08-22T06:28:10.158643Z"
    },
    "papermill": {
     "duration": 0.055327,
     "end_time": "2021-08-22T06:28:10.159370",
     "exception": false,
     "start_time": "2021-08-22T06:28:10.104043",
     "status": "completed"
    },
    "tags": []
   },
   "outputs": [
    {
     "data": {
      "text/plain": [
       "Index(['Type', 'Method', 'Regionname'], dtype='object')"
      ]
     },
     "execution_count": 17,
     "metadata": {},
     "output_type": "execute_result"
    }
   ],
   "source": [
    "boools[boools].index"
   ]
  },
  {
   "cell_type": "markdown",
   "id": "6a78f6f3",
   "metadata": {
    "papermill": {
     "duration": 0.044976,
     "end_time": "2021-08-22T06:28:10.250240",
     "exception": false,
     "start_time": "2021-08-22T06:28:10.205264",
     "status": "completed"
    },
    "tags": []
   },
   "source": [
    "We saw how do we determine whether a column having a certain dtype and extract them in a list.<br>\n",
    "We're gonna use this knowledge in our dataset.<br>\n",
    "The next, let's determine the catagorical columns in this newly copied dataset.<br>"
   ]
  },
  {
   "cell_type": "code",
   "execution_count": 18,
   "id": "01a83c98",
   "metadata": {
    "execution": {
     "iopub.execute_input": "2021-08-22T06:28:10.347774Z",
     "iopub.status.busy": "2021-08-22T06:28:10.346247Z",
     "iopub.status.idle": "2021-08-22T06:28:10.353001Z",
     "shell.execute_reply": "2021-08-22T06:28:10.352480Z"
    },
    "papermill": {
     "duration": 0.057512,
     "end_time": "2021-08-22T06:28:10.353144",
     "exception": false,
     "start_time": "2021-08-22T06:28:10.295632",
     "status": "completed"
    },
    "tags": []
   },
   "outputs": [
    {
     "name": "stdout",
     "output_type": "stream",
     "text": [
      "The catagorical variables:\n"
     ]
    },
    {
     "data": {
      "text/plain": [
       "['Type', 'Method', 'Regionname']"
      ]
     },
     "execution_count": 18,
     "metadata": {},
     "output_type": "execute_result"
    }
   ],
   "source": [
    "condition = (X_train.dtypes == 'object')\n",
    "object_cols = list(condition[condition].index)\n",
    "\n",
    "print(\"The catagorical variables:\")\n",
    "object_cols"
   ]
  },
  {
   "cell_type": "markdown",
   "id": "a6c65754",
   "metadata": {
    "papermill": {
     "duration": 0.046204,
     "end_time": "2021-08-22T06:28:10.446389",
     "exception": false,
     "start_time": "2021-08-22T06:28:10.400185",
     "status": "completed"
    },
    "tags": []
   },
   "source": [
    "We need to calculate mean_absolute_error for each of the approach of handling catagorical values. Let's define a function."
   ]
  },
  {
   "cell_type": "code",
   "execution_count": 19,
   "id": "83bd9fa4",
   "metadata": {
    "execution": {
     "iopub.execute_input": "2021-08-22T06:28:10.545601Z",
     "iopub.status.busy": "2021-08-22T06:28:10.544814Z",
     "iopub.status.idle": "2021-08-22T06:28:10.843711Z",
     "shell.execute_reply": "2021-08-22T06:28:10.843004Z"
    },
    "papermill": {
     "duration": 0.350952,
     "end_time": "2021-08-22T06:28:10.843864",
     "exception": false,
     "start_time": "2021-08-22T06:28:10.492912",
     "status": "completed"
    },
    "tags": []
   },
   "outputs": [],
   "source": [
    "from sklearn.ensemble import RandomForestRegressor\n",
    "from sklearn.metrics import mean_absolute_error\n",
    "\n",
    "\n",
    "def score_dataset(X_train, X_valid, y_train, y_valid):\n",
    "    model = RandomForestRegressor(n_estimators=100, random_state=0)\n",
    "    model.fit(X_train, y_train)\n",
    "    preds = model.predict(X_valid)\n",
    "    return mean_absolute_error(y_valid, preds)"
   ]
  },
  {
   "cell_type": "markdown",
   "id": "9e9d9bb4",
   "metadata": {
    "papermill": {
     "duration": 0.045947,
     "end_time": "2021-08-22T06:28:10.936795",
     "exception": false,
     "start_time": "2021-08-22T06:28:10.890848",
     "status": "completed"
    },
    "tags": []
   },
   "source": [
    "# Calculaing MEA on our approaches"
   ]
  },
  {
   "cell_type": "markdown",
   "id": "98fc0a28",
   "metadata": {
    "papermill": {
     "duration": 0.046088,
     "end_time": "2021-08-22T06:28:11.029162",
     "exception": false,
     "start_time": "2021-08-22T06:28:10.983074",
     "status": "completed"
    },
    "tags": []
   },
   "source": [
    "# **Approach 1:** Drop Categorical Variables<br>\n",
    "We'll use [select_dtypes](https://pandas.pydata.org/docs/reference/api/pandas.DataFrame.select_dtypes.html) to drop columns based on *object.*"
   ]
  },
  {
   "cell_type": "code",
   "execution_count": 20,
   "id": "37149452",
   "metadata": {
    "execution": {
     "iopub.execute_input": "2021-08-22T06:28:11.126041Z",
     "iopub.status.busy": "2021-08-22T06:28:11.125334Z",
     "iopub.status.idle": "2021-08-22T06:28:11.135890Z",
     "shell.execute_reply": "2021-08-22T06:28:11.136407Z"
    },
    "papermill": {
     "duration": 0.060642,
     "end_time": "2021-08-22T06:28:11.136622",
     "exception": false,
     "start_time": "2021-08-22T06:28:11.075980",
     "status": "completed"
    },
    "tags": []
   },
   "outputs": [],
   "source": [
    "# we'll be using select_dtype() \n",
    "X_train_dropped = X_train.select_dtypes(exclude = ['object'])\n",
    "X_valid_dropped = X_valid.select_dtypes(exclude = ['object'])"
   ]
  },
  {
   "cell_type": "code",
   "execution_count": 21,
   "id": "cd118eea",
   "metadata": {
    "execution": {
     "iopub.execute_input": "2021-08-22T06:28:11.232518Z",
     "iopub.status.busy": "2021-08-22T06:28:11.231896Z",
     "iopub.status.idle": "2021-08-22T06:28:16.509509Z",
     "shell.execute_reply": "2021-08-22T06:28:16.509008Z"
    },
    "papermill": {
     "duration": 5.326716,
     "end_time": "2021-08-22T06:28:16.509674",
     "exception": false,
     "start_time": "2021-08-22T06:28:11.182958",
     "status": "completed"
    },
    "tags": []
   },
   "outputs": [
    {
     "name": "stdout",
     "output_type": "stream",
     "text": [
      "MAE from Approach 1: Drop Categorical Variables\n",
      "175703.48185157913\n"
     ]
    }
   ],
   "source": [
    "print(\"MAE from Approach 1: Drop Categorical Variables\")\n",
    "print(score_dataset(X_train_dropped, X_valid_dropped, y_train, y_valid))"
   ]
  },
  {
   "cell_type": "markdown",
   "id": "5d8a0c68",
   "metadata": {
    "papermill": {
     "duration": 0.046329,
     "end_time": "2021-08-22T06:28:16.603003",
     "exception": false,
     "start_time": "2021-08-22T06:28:16.556674",
     "status": "completed"
    },
    "tags": []
   },
   "source": [
    "Yaa! This is good to see a slight change in MAE with reduction."
   ]
  },
  {
   "cell_type": "markdown",
   "id": "d2c2a55d",
   "metadata": {
    "papermill": {
     "duration": 0.046543,
     "end_time": "2021-08-22T06:28:16.696108",
     "exception": false,
     "start_time": "2021-08-22T06:28:16.649565",
     "status": "completed"
    },
    "tags": []
   },
   "source": [
    "# Approach 2: Ordinal Encoding"
   ]
  },
  {
   "cell_type": "markdown",
   "id": "d00b185a",
   "metadata": {
    "papermill": {
     "duration": 0.046253,
     "end_time": "2021-08-22T06:28:16.788894",
     "exception": false,
     "start_time": "2021-08-22T06:28:16.742641",
     "status": "completed"
    },
    "tags": []
   },
   "source": [
    "this is almost same approach as we did for SimpleImputer<br>\n",
    "means, we'll first create a Ordinal Encoder and then fit it to out data and then<br>\n",
    "transform it out. Learn more about OrdinalEncoder [click_here](https://scikit-learn.org/stable/modules/generated/sklearn.preprocessing.OrdinalEncoder.html)"
   ]
  },
  {
   "cell_type": "code",
   "execution_count": 22,
   "id": "19ece293",
   "metadata": {
    "execution": {
     "iopub.execute_input": "2021-08-22T06:28:16.887448Z",
     "iopub.status.busy": "2021-08-22T06:28:16.886810Z",
     "iopub.status.idle": "2021-08-22T06:28:16.889986Z",
     "shell.execute_reply": "2021-08-22T06:28:16.889446Z"
    },
    "papermill": {
     "duration": 0.054693,
     "end_time": "2021-08-22T06:28:16.890125",
     "exception": false,
     "start_time": "2021-08-22T06:28:16.835432",
     "status": "completed"
    },
    "tags": []
   },
   "outputs": [],
   "source": [
    "from sklearn.preprocessing import OrdinalEncoder\n",
    "\n",
    "# we'll use he copy of our dataset here\n",
    "ord_enc_X_train = X_train.copy()\n",
    "ord_enc_X_valid = X_valid.copy()"
   ]
  },
  {
   "cell_type": "markdown",
   "id": "faa36cad",
   "metadata": {
    "papermill": {
     "duration": 0.04621,
     "end_time": "2021-08-22T06:28:16.982981",
     "exception": false,
     "start_time": "2021-08-22T06:28:16.936771",
     "status": "completed"
    },
    "tags": []
   },
   "source": [
    "**Note:** Must be aware of your variables and their returning results! As in the *OrdinalEncounter(*) we're gonna get a pandas **dataFrame** which is why we do no necessarily need to use pd.DataFrame() as like we did for SimpleImputer in last *missing values* exercise.<br>\n",
    " So, we just worked with the particular columns(object_cols) only."
   ]
  },
  {
   "cell_type": "code",
   "execution_count": 23,
   "id": "f3277e55",
   "metadata": {
    "execution": {
     "iopub.execute_input": "2021-08-22T06:28:17.091391Z",
     "iopub.status.busy": "2021-08-22T06:28:17.090703Z",
     "iopub.status.idle": "2021-08-22T06:28:22.938839Z",
     "shell.execute_reply": "2021-08-22T06:28:22.939651Z"
    },
    "papermill": {
     "duration": 5.909288,
     "end_time": "2021-08-22T06:28:22.939916",
     "exception": false,
     "start_time": "2021-08-22T06:28:17.030628",
     "status": "completed"
    },
    "tags": []
   },
   "outputs": [
    {
     "name": "stdout",
     "output_type": "stream",
     "text": [
      "<class 'pandas.core.frame.DataFrame'>\n",
      "MAE from Approach 2: Ordinal Encoding\n",
      "165936.40548390493\n"
     ]
    }
   ],
   "source": [
    "ordinal_encoder = OrdinalEncoder()\n",
    "# let's apply ordinal encoder on specific columns having catagorical data\n",
    "ordinal_encoder.fit(X_train[object_cols])\n",
    "ord_enc_X_train[object_cols] = ordinal_encoder.transform(X_train[object_cols])\n",
    "# we could have done with just .fit_trainsform() without writing 2 lines above.\n",
    "\n",
    "ord_enc_X_valid[object_cols] = ordinal_encoder.transform(X_valid[object_cols])\n",
    "print(type(ord_enc_X_valid))\n",
    "print(\"MAE from Approach 2: Ordinal Encoding\")\n",
    "print(score_dataset(ord_enc_X_train, ord_enc_X_valid, y_train, y_valid))"
   ]
  },
  {
   "cell_type": "markdown",
   "id": "f93d4632",
   "metadata": {
    "papermill": {
     "duration": 0.048117,
     "end_time": "2021-08-22T06:28:23.036071",
     "exception": false,
     "start_time": "2021-08-22T06:28:22.987954",
     "status": "completed"
    },
    "tags": []
   },
   "source": [
    "Well, there can be another encoder called **LabelEncoder()** to be used in place of *OrdinalEncoder()*<br>\n",
    "Btw, we got a slight change in error and which is good."
   ]
  },
  {
   "cell_type": "markdown",
   "id": "81647454",
   "metadata": {
    "papermill": {
     "duration": 0.047951,
     "end_time": "2021-08-22T06:28:23.131454",
     "exception": false,
     "start_time": "2021-08-22T06:28:23.083503",
     "status": "completed"
    },
    "tags": []
   },
   "source": [
    "# Approach 3: One-Hot Encoding"
   ]
  },
  {
   "cell_type": "markdown",
   "id": "dc00bb0c",
   "metadata": {
    "papermill": {
     "duration": 0.047593,
     "end_time": "2021-08-22T06:28:23.226583",
     "exception": false,
     "start_time": "2021-08-22T06:28:23.178990",
     "status": "completed"
    },
    "tags": []
   },
   "source": [
    "We're gonna use OneHotEncoder from *scikit-learn.preprocessing*. As we know that the One-Hot-Encoding approach is always prividing<br>\n",
    "a sparse format, then the parameter **Sparse** is by default *True*. Learn more about One-Hot-Encoding from official site [click_here](https://scikit-learn.org/stable/modules/generated/sklearn.preprocessing.OneHotEncoder.html)<br>\n",
    "We know that OneHotEncoder() is looks like \n",
    "> class sklearn.preprocessing.OneHotEncoder(*, categories='auto', drop=None, sparse=True, dtype=<class 'numpy.float64'>, handle_unknown='error')"
   ]
  },
  {
   "cell_type": "markdown",
   "id": "8b336488",
   "metadata": {
    "papermill": {
     "duration": 0.047197,
     "end_time": "2021-08-22T06:28:23.321232",
     "exception": false,
     "start_time": "2021-08-22T06:28:23.274035",
     "status": "completed"
    },
    "tags": []
   },
   "source": [
    "Here the parameter handle_unknown raises an error by default if we have any unknown categorical feature in our model dataset while testing time.<br>\n",
    "For example.  if we have a BuiltYear for a car called Ford in 2009 found while testing our model, but we do not actually have any specific information about this car while training(thus it's an unknown catagory!).<br>\n",
    "So. this  *handle_unknown* will promt an error  by default. However, we're just keeping it ignored as it doesn't require here.\n",
    "Again, we're not using sparse format here, so we'll keep it as **False**.<br>\n",
    "**Note:** Here OneHotEncoder transforms into a numpy array insted of a dataFrame, so we need to use a df here."
   ]
  },
  {
   "cell_type": "code",
   "execution_count": 24,
   "id": "dd98821a",
   "metadata": {
    "execution": {
     "iopub.execute_input": "2021-08-22T06:28:23.439912Z",
     "iopub.status.busy": "2021-08-22T06:28:23.426677Z",
     "iopub.status.idle": "2021-08-22T06:28:23.449961Z",
     "shell.execute_reply": "2021-08-22T06:28:23.449377Z"
    },
    "papermill": {
     "duration": 0.081419,
     "end_time": "2021-08-22T06:28:23.450101",
     "exception": false,
     "start_time": "2021-08-22T06:28:23.368682",
     "status": "completed"
    },
    "tags": []
   },
   "outputs": [],
   "source": [
    "from sklearn.preprocessing import OneHotEncoder\n",
    "\n",
    "# let's define a one-hot-encoder\n",
    "one_hot_encoder = OneHotEncoder(handle_unknown = 'ignore', sparse = False)\n",
    "one_hot_encoder.fit(X_train[object_cols])\n",
    "one_hot_cols_train = pd.DataFrame(one_hot_encoder.transform(X_train[object_cols]))\n",
    "one_hot_cols_valid = pd.DataFrame(one_hot_encoder.transform(X_valid[object_cols]))"
   ]
  },
  {
   "cell_type": "code",
   "execution_count": 25,
   "id": "287c1877",
   "metadata": {
    "execution": {
     "iopub.execute_input": "2021-08-22T06:28:23.583062Z",
     "iopub.status.busy": "2021-08-22T06:28:23.582390Z",
     "iopub.status.idle": "2021-08-22T06:28:23.587015Z",
     "shell.execute_reply": "2021-08-22T06:28:23.586452Z"
    },
    "papermill": {
     "duration": 0.08912,
     "end_time": "2021-08-22T06:28:23.587151",
     "exception": false,
     "start_time": "2021-08-22T06:28:23.498031",
     "status": "completed"
    },
    "tags": []
   },
   "outputs": [
    {
     "data": {
      "text/html": [
       "<div>\n",
       "<style scoped>\n",
       "    .dataframe tbody tr th:only-of-type {\n",
       "        vertical-align: middle;\n",
       "    }\n",
       "\n",
       "    .dataframe tbody tr th {\n",
       "        vertical-align: top;\n",
       "    }\n",
       "\n",
       "    .dataframe thead th {\n",
       "        text-align: right;\n",
       "    }\n",
       "</style>\n",
       "<table border=\"1\" class=\"dataframe\">\n",
       "  <thead>\n",
       "    <tr style=\"text-align: right;\">\n",
       "      <th></th>\n",
       "      <th>0</th>\n",
       "      <th>1</th>\n",
       "      <th>2</th>\n",
       "      <th>3</th>\n",
       "      <th>4</th>\n",
       "      <th>5</th>\n",
       "      <th>6</th>\n",
       "      <th>7</th>\n",
       "      <th>8</th>\n",
       "      <th>9</th>\n",
       "      <th>10</th>\n",
       "      <th>11</th>\n",
       "      <th>12</th>\n",
       "      <th>13</th>\n",
       "      <th>14</th>\n",
       "      <th>15</th>\n",
       "    </tr>\n",
       "  </thead>\n",
       "  <tbody>\n",
       "    <tr>\n",
       "      <th>0</th>\n",
       "      <td>0.0</td>\n",
       "      <td>0.0</td>\n",
       "      <td>1.0</td>\n",
       "      <td>0.0</td>\n",
       "      <td>1.0</td>\n",
       "      <td>0.0</td>\n",
       "      <td>0.0</td>\n",
       "      <td>0.0</td>\n",
       "      <td>0.0</td>\n",
       "      <td>0.0</td>\n",
       "      <td>0.0</td>\n",
       "      <td>0.0</td>\n",
       "      <td>0.0</td>\n",
       "      <td>1.0</td>\n",
       "      <td>0.0</td>\n",
       "      <td>0.0</td>\n",
       "    </tr>\n",
       "    <tr>\n",
       "      <th>1</th>\n",
       "      <td>1.0</td>\n",
       "      <td>0.0</td>\n",
       "      <td>0.0</td>\n",
       "      <td>0.0</td>\n",
       "      <td>0.0</td>\n",
       "      <td>1.0</td>\n",
       "      <td>0.0</td>\n",
       "      <td>0.0</td>\n",
       "      <td>0.0</td>\n",
       "      <td>0.0</td>\n",
       "      <td>0.0</td>\n",
       "      <td>0.0</td>\n",
       "      <td>0.0</td>\n",
       "      <td>0.0</td>\n",
       "      <td>1.0</td>\n",
       "      <td>0.0</td>\n",
       "    </tr>\n",
       "    <tr>\n",
       "      <th>2</th>\n",
       "      <td>1.0</td>\n",
       "      <td>0.0</td>\n",
       "      <td>0.0</td>\n",
       "      <td>0.0</td>\n",
       "      <td>1.0</td>\n",
       "      <td>0.0</td>\n",
       "      <td>0.0</td>\n",
       "      <td>0.0</td>\n",
       "      <td>0.0</td>\n",
       "      <td>0.0</td>\n",
       "      <td>0.0</td>\n",
       "      <td>0.0</td>\n",
       "      <td>0.0</td>\n",
       "      <td>0.0</td>\n",
       "      <td>1.0</td>\n",
       "      <td>0.0</td>\n",
       "    </tr>\n",
       "    <tr>\n",
       "      <th>3</th>\n",
       "      <td>0.0</td>\n",
       "      <td>0.0</td>\n",
       "      <td>1.0</td>\n",
       "      <td>0.0</td>\n",
       "      <td>0.0</td>\n",
       "      <td>0.0</td>\n",
       "      <td>1.0</td>\n",
       "      <td>0.0</td>\n",
       "      <td>0.0</td>\n",
       "      <td>0.0</td>\n",
       "      <td>1.0</td>\n",
       "      <td>0.0</td>\n",
       "      <td>0.0</td>\n",
       "      <td>0.0</td>\n",
       "      <td>0.0</td>\n",
       "      <td>0.0</td>\n",
       "    </tr>\n",
       "    <tr>\n",
       "      <th>4</th>\n",
       "      <td>1.0</td>\n",
       "      <td>0.0</td>\n",
       "      <td>0.0</td>\n",
       "      <td>0.0</td>\n",
       "      <td>1.0</td>\n",
       "      <td>0.0</td>\n",
       "      <td>0.0</td>\n",
       "      <td>0.0</td>\n",
       "      <td>0.0</td>\n",
       "      <td>0.0</td>\n",
       "      <td>0.0</td>\n",
       "      <td>0.0</td>\n",
       "      <td>0.0</td>\n",
       "      <td>0.0</td>\n",
       "      <td>1.0</td>\n",
       "      <td>0.0</td>\n",
       "    </tr>\n",
       "    <tr>\n",
       "      <th>...</th>\n",
       "      <td>...</td>\n",
       "      <td>...</td>\n",
       "      <td>...</td>\n",
       "      <td>...</td>\n",
       "      <td>...</td>\n",
       "      <td>...</td>\n",
       "      <td>...</td>\n",
       "      <td>...</td>\n",
       "      <td>...</td>\n",
       "      <td>...</td>\n",
       "      <td>...</td>\n",
       "      <td>...</td>\n",
       "      <td>...</td>\n",
       "      <td>...</td>\n",
       "      <td>...</td>\n",
       "      <td>...</td>\n",
       "    </tr>\n",
       "    <tr>\n",
       "      <th>10859</th>\n",
       "      <td>1.0</td>\n",
       "      <td>0.0</td>\n",
       "      <td>0.0</td>\n",
       "      <td>0.0</td>\n",
       "      <td>0.0</td>\n",
       "      <td>0.0</td>\n",
       "      <td>1.0</td>\n",
       "      <td>0.0</td>\n",
       "      <td>0.0</td>\n",
       "      <td>0.0</td>\n",
       "      <td>1.0</td>\n",
       "      <td>0.0</td>\n",
       "      <td>0.0</td>\n",
       "      <td>0.0</td>\n",
       "      <td>0.0</td>\n",
       "      <td>0.0</td>\n",
       "    </tr>\n",
       "    <tr>\n",
       "      <th>10860</th>\n",
       "      <td>1.0</td>\n",
       "      <td>0.0</td>\n",
       "      <td>0.0</td>\n",
       "      <td>0.0</td>\n",
       "      <td>1.0</td>\n",
       "      <td>0.0</td>\n",
       "      <td>0.0</td>\n",
       "      <td>0.0</td>\n",
       "      <td>1.0</td>\n",
       "      <td>0.0</td>\n",
       "      <td>0.0</td>\n",
       "      <td>0.0</td>\n",
       "      <td>0.0</td>\n",
       "      <td>0.0</td>\n",
       "      <td>0.0</td>\n",
       "      <td>0.0</td>\n",
       "    </tr>\n",
       "    <tr>\n",
       "      <th>10861</th>\n",
       "      <td>1.0</td>\n",
       "      <td>0.0</td>\n",
       "      <td>0.0</td>\n",
       "      <td>1.0</td>\n",
       "      <td>0.0</td>\n",
       "      <td>0.0</td>\n",
       "      <td>0.0</td>\n",
       "      <td>0.0</td>\n",
       "      <td>0.0</td>\n",
       "      <td>0.0</td>\n",
       "      <td>1.0</td>\n",
       "      <td>0.0</td>\n",
       "      <td>0.0</td>\n",
       "      <td>0.0</td>\n",
       "      <td>0.0</td>\n",
       "      <td>0.0</td>\n",
       "    </tr>\n",
       "    <tr>\n",
       "      <th>10862</th>\n",
       "      <td>1.0</td>\n",
       "      <td>0.0</td>\n",
       "      <td>0.0</td>\n",
       "      <td>0.0</td>\n",
       "      <td>1.0</td>\n",
       "      <td>0.0</td>\n",
       "      <td>0.0</td>\n",
       "      <td>0.0</td>\n",
       "      <td>0.0</td>\n",
       "      <td>0.0</td>\n",
       "      <td>1.0</td>\n",
       "      <td>0.0</td>\n",
       "      <td>0.0</td>\n",
       "      <td>0.0</td>\n",
       "      <td>0.0</td>\n",
       "      <td>0.0</td>\n",
       "    </tr>\n",
       "    <tr>\n",
       "      <th>10863</th>\n",
       "      <td>1.0</td>\n",
       "      <td>0.0</td>\n",
       "      <td>0.0</td>\n",
       "      <td>0.0</td>\n",
       "      <td>0.0</td>\n",
       "      <td>0.0</td>\n",
       "      <td>1.0</td>\n",
       "      <td>0.0</td>\n",
       "      <td>0.0</td>\n",
       "      <td>0.0</td>\n",
       "      <td>0.0</td>\n",
       "      <td>0.0</td>\n",
       "      <td>0.0</td>\n",
       "      <td>0.0</td>\n",
       "      <td>1.0</td>\n",
       "      <td>0.0</td>\n",
       "    </tr>\n",
       "  </tbody>\n",
       "</table>\n",
       "<p>10864 rows × 16 columns</p>\n",
       "</div>"
      ],
      "text/plain": [
       "        0    1    2    3    4    5    6    7    8    9    10   11   12   13  \\\n",
       "0      0.0  0.0  1.0  0.0  1.0  0.0  0.0  0.0  0.0  0.0  0.0  0.0  0.0  1.0   \n",
       "1      1.0  0.0  0.0  0.0  0.0  1.0  0.0  0.0  0.0  0.0  0.0  0.0  0.0  0.0   \n",
       "2      1.0  0.0  0.0  0.0  1.0  0.0  0.0  0.0  0.0  0.0  0.0  0.0  0.0  0.0   \n",
       "3      0.0  0.0  1.0  0.0  0.0  0.0  1.0  0.0  0.0  0.0  1.0  0.0  0.0  0.0   \n",
       "4      1.0  0.0  0.0  0.0  1.0  0.0  0.0  0.0  0.0  0.0  0.0  0.0  0.0  0.0   \n",
       "...    ...  ...  ...  ...  ...  ...  ...  ...  ...  ...  ...  ...  ...  ...   \n",
       "10859  1.0  0.0  0.0  0.0  0.0  0.0  1.0  0.0  0.0  0.0  1.0  0.0  0.0  0.0   \n",
       "10860  1.0  0.0  0.0  0.0  1.0  0.0  0.0  0.0  1.0  0.0  0.0  0.0  0.0  0.0   \n",
       "10861  1.0  0.0  0.0  1.0  0.0  0.0  0.0  0.0  0.0  0.0  1.0  0.0  0.0  0.0   \n",
       "10862  1.0  0.0  0.0  0.0  1.0  0.0  0.0  0.0  0.0  0.0  1.0  0.0  0.0  0.0   \n",
       "10863  1.0  0.0  0.0  0.0  0.0  0.0  1.0  0.0  0.0  0.0  0.0  0.0  0.0  0.0   \n",
       "\n",
       "        14   15  \n",
       "0      0.0  0.0  \n",
       "1      1.0  0.0  \n",
       "2      1.0  0.0  \n",
       "3      0.0  0.0  \n",
       "4      1.0  0.0  \n",
       "...    ...  ...  \n",
       "10859  0.0  0.0  \n",
       "10860  0.0  0.0  \n",
       "10861  0.0  0.0  \n",
       "10862  0.0  0.0  \n",
       "10863  1.0  0.0  \n",
       "\n",
       "[10864 rows x 16 columns]"
      ]
     },
     "execution_count": 25,
     "metadata": {},
     "output_type": "execute_result"
    }
   ],
   "source": [
    "# see how it looks now\n",
    "one_hot_cols_train"
   ]
  },
  {
   "cell_type": "markdown",
   "id": "d406aceb",
   "metadata": {
    "papermill": {
     "duration": 0.048065,
     "end_time": "2021-08-22T06:28:23.684187",
     "exception": false,
     "start_time": "2021-08-22T06:28:23.636122",
     "status": "completed"
    },
    "tags": []
   },
   "source": [
    "Though, we're observing an extra column *(left most)* as index, but it's just a simple serial/order created by default.<br>"
   ]
  },
  {
   "cell_type": "code",
   "execution_count": 26,
   "id": "762a7a3e",
   "metadata": {
    "execution": {
     "iopub.execute_input": "2021-08-22T06:28:23.798699Z",
     "iopub.status.busy": "2021-08-22T06:28:23.797965Z",
     "iopub.status.idle": "2021-08-22T06:28:24.548840Z",
     "shell.execute_reply": "2021-08-22T06:28:24.548293Z"
    },
    "papermill": {
     "duration": 0.816473,
     "end_time": "2021-08-22T06:28:24.548996",
     "exception": false,
     "start_time": "2021-08-22T06:28:23.732523",
     "status": "completed"
    },
    "tags": []
   },
   "outputs": [
    {
     "name": "stdout",
     "output_type": "stream",
     "text": [
      "melbourne-housing-snapshot  one-hot-cols-train-image1\r\n"
     ]
    },
    {
     "data": {
      "image/png": "[encoded data removed]",
      "text/plain": [
       "<IPython.core.display.Image object>"
      ]
     },
     "execution_count": 26,
     "metadata": {},
     "output_type": "execute_result"
    }
   ],
   "source": [
    "from IPython.display import Image\n",
    "import os\n",
    "!ls ../input/\n",
    "Image('../input/one-hot-cols-train-image1/Screenshot from 2021-08-17 16-51-28.png')"
   ]
  },
  {
   "cell_type": "markdown",
   "id": "7cb47d72",
   "metadata": {
    "papermill": {
     "duration": 0.053252,
     "end_time": "2021-08-22T06:28:24.655854",
     "exception": false,
     "start_time": "2021-08-22T06:28:24.602602",
     "status": "completed"
    },
    "tags": []
   },
   "source": [
    "As the index has been removed, let's put it back"
   ]
  },
  {
   "cell_type": "code",
   "execution_count": 27,
   "id": "00b4eae2",
   "metadata": {
    "execution": {
     "iopub.execute_input": "2021-08-22T06:28:24.767352Z",
     "iopub.status.busy": "2021-08-22T06:28:24.766653Z",
     "iopub.status.idle": "2021-08-22T06:28:24.769804Z",
     "shell.execute_reply": "2021-08-22T06:28:24.769147Z"
    },
    "papermill": {
     "duration": 0.060854,
     "end_time": "2021-08-22T06:28:24.769950",
     "exception": false,
     "start_time": "2021-08-22T06:28:24.709096",
     "status": "completed"
    },
    "tags": []
   },
   "outputs": [],
   "source": [
    "one_hot_cols_train.index = X_train.index\n",
    "one_hot_cols_valid.index = X_valid.index"
   ]
  },
  {
   "cell_type": "code",
   "execution_count": 28,
   "id": "2a409786",
   "metadata": {
    "execution": {
     "iopub.execute_input": "2021-08-22T06:28:24.915605Z",
     "iopub.status.busy": "2021-08-22T06:28:24.914679Z",
     "iopub.status.idle": "2021-08-22T06:28:24.919248Z",
     "shell.execute_reply": "2021-08-22T06:28:24.918588Z"
    },
    "papermill": {
     "duration": 0.095737,
     "end_time": "2021-08-22T06:28:24.919390",
     "exception": false,
     "start_time": "2021-08-22T06:28:24.823653",
     "status": "completed"
    },
    "tags": []
   },
   "outputs": [
    {
     "data": {
      "text/html": [
       "<div>\n",
       "<style scoped>\n",
       "    .dataframe tbody tr th:only-of-type {\n",
       "        vertical-align: middle;\n",
       "    }\n",
       "\n",
       "    .dataframe tbody tr th {\n",
       "        vertical-align: top;\n",
       "    }\n",
       "\n",
       "    .dataframe thead th {\n",
       "        text-align: right;\n",
       "    }\n",
       "</style>\n",
       "<table border=\"1\" class=\"dataframe\">\n",
       "  <thead>\n",
       "    <tr style=\"text-align: right;\">\n",
       "      <th></th>\n",
       "      <th>0</th>\n",
       "      <th>1</th>\n",
       "      <th>2</th>\n",
       "      <th>3</th>\n",
       "      <th>4</th>\n",
       "      <th>5</th>\n",
       "      <th>6</th>\n",
       "      <th>7</th>\n",
       "      <th>8</th>\n",
       "      <th>9</th>\n",
       "      <th>10</th>\n",
       "      <th>11</th>\n",
       "      <th>12</th>\n",
       "      <th>13</th>\n",
       "      <th>14</th>\n",
       "      <th>15</th>\n",
       "    </tr>\n",
       "  </thead>\n",
       "  <tbody>\n",
       "    <tr>\n",
       "      <th>12167</th>\n",
       "      <td>0.0</td>\n",
       "      <td>0.0</td>\n",
       "      <td>1.0</td>\n",
       "      <td>0.0</td>\n",
       "      <td>1.0</td>\n",
       "      <td>0.0</td>\n",
       "      <td>0.0</td>\n",
       "      <td>0.0</td>\n",
       "      <td>0.0</td>\n",
       "      <td>0.0</td>\n",
       "      <td>0.0</td>\n",
       "      <td>0.0</td>\n",
       "      <td>0.0</td>\n",
       "      <td>1.0</td>\n",
       "      <td>0.0</td>\n",
       "      <td>0.0</td>\n",
       "    </tr>\n",
       "    <tr>\n",
       "      <th>6524</th>\n",
       "      <td>1.0</td>\n",
       "      <td>0.0</td>\n",
       "      <td>0.0</td>\n",
       "      <td>0.0</td>\n",
       "      <td>0.0</td>\n",
       "      <td>1.0</td>\n",
       "      <td>0.0</td>\n",
       "      <td>0.0</td>\n",
       "      <td>0.0</td>\n",
       "      <td>0.0</td>\n",
       "      <td>0.0</td>\n",
       "      <td>0.0</td>\n",
       "      <td>0.0</td>\n",
       "      <td>0.0</td>\n",
       "      <td>1.0</td>\n",
       "      <td>0.0</td>\n",
       "    </tr>\n",
       "    <tr>\n",
       "      <th>8413</th>\n",
       "      <td>1.0</td>\n",
       "      <td>0.0</td>\n",
       "      <td>0.0</td>\n",
       "      <td>0.0</td>\n",
       "      <td>1.0</td>\n",
       "      <td>0.0</td>\n",
       "      <td>0.0</td>\n",
       "      <td>0.0</td>\n",
       "      <td>0.0</td>\n",
       "      <td>0.0</td>\n",
       "      <td>0.0</td>\n",
       "      <td>0.0</td>\n",
       "      <td>0.0</td>\n",
       "      <td>0.0</td>\n",
       "      <td>1.0</td>\n",
       "      <td>0.0</td>\n",
       "    </tr>\n",
       "    <tr>\n",
       "      <th>2919</th>\n",
       "      <td>0.0</td>\n",
       "      <td>0.0</td>\n",
       "      <td>1.0</td>\n",
       "      <td>0.0</td>\n",
       "      <td>0.0</td>\n",
       "      <td>0.0</td>\n",
       "      <td>1.0</td>\n",
       "      <td>0.0</td>\n",
       "      <td>0.0</td>\n",
       "      <td>0.0</td>\n",
       "      <td>1.0</td>\n",
       "      <td>0.0</td>\n",
       "      <td>0.0</td>\n",
       "      <td>0.0</td>\n",
       "      <td>0.0</td>\n",
       "      <td>0.0</td>\n",
       "    </tr>\n",
       "    <tr>\n",
       "      <th>6043</th>\n",
       "      <td>1.0</td>\n",
       "      <td>0.0</td>\n",
       "      <td>0.0</td>\n",
       "      <td>0.0</td>\n",
       "      <td>1.0</td>\n",
       "      <td>0.0</td>\n",
       "      <td>0.0</td>\n",
       "      <td>0.0</td>\n",
       "      <td>0.0</td>\n",
       "      <td>0.0</td>\n",
       "      <td>0.0</td>\n",
       "      <td>0.0</td>\n",
       "      <td>0.0</td>\n",
       "      <td>0.0</td>\n",
       "      <td>1.0</td>\n",
       "      <td>0.0</td>\n",
       "    </tr>\n",
       "    <tr>\n",
       "      <th>...</th>\n",
       "      <td>...</td>\n",
       "      <td>...</td>\n",
       "      <td>...</td>\n",
       "      <td>...</td>\n",
       "      <td>...</td>\n",
       "      <td>...</td>\n",
       "      <td>...</td>\n",
       "      <td>...</td>\n",
       "      <td>...</td>\n",
       "      <td>...</td>\n",
       "      <td>...</td>\n",
       "      <td>...</td>\n",
       "      <td>...</td>\n",
       "      <td>...</td>\n",
       "      <td>...</td>\n",
       "      <td>...</td>\n",
       "    </tr>\n",
       "    <tr>\n",
       "      <th>13123</th>\n",
       "      <td>1.0</td>\n",
       "      <td>0.0</td>\n",
       "      <td>0.0</td>\n",
       "      <td>0.0</td>\n",
       "      <td>0.0</td>\n",
       "      <td>0.0</td>\n",
       "      <td>1.0</td>\n",
       "      <td>0.0</td>\n",
       "      <td>0.0</td>\n",
       "      <td>0.0</td>\n",
       "      <td>1.0</td>\n",
       "      <td>0.0</td>\n",
       "      <td>0.0</td>\n",
       "      <td>0.0</td>\n",
       "      <td>0.0</td>\n",
       "      <td>0.0</td>\n",
       "    </tr>\n",
       "    <tr>\n",
       "      <th>3264</th>\n",
       "      <td>1.0</td>\n",
       "      <td>0.0</td>\n",
       "      <td>0.0</td>\n",
       "      <td>0.0</td>\n",
       "      <td>1.0</td>\n",
       "      <td>0.0</td>\n",
       "      <td>0.0</td>\n",
       "      <td>0.0</td>\n",
       "      <td>1.0</td>\n",
       "      <td>0.0</td>\n",
       "      <td>0.0</td>\n",
       "      <td>0.0</td>\n",
       "      <td>0.0</td>\n",
       "      <td>0.0</td>\n",
       "      <td>0.0</td>\n",
       "      <td>0.0</td>\n",
       "    </tr>\n",
       "    <tr>\n",
       "      <th>9845</th>\n",
       "      <td>1.0</td>\n",
       "      <td>0.0</td>\n",
       "      <td>0.0</td>\n",
       "      <td>1.0</td>\n",
       "      <td>0.0</td>\n",
       "      <td>0.0</td>\n",
       "      <td>0.0</td>\n",
       "      <td>0.0</td>\n",
       "      <td>0.0</td>\n",
       "      <td>0.0</td>\n",
       "      <td>1.0</td>\n",
       "      <td>0.0</td>\n",
       "      <td>0.0</td>\n",
       "      <td>0.0</td>\n",
       "      <td>0.0</td>\n",
       "      <td>0.0</td>\n",
       "    </tr>\n",
       "    <tr>\n",
       "      <th>10799</th>\n",
       "      <td>1.0</td>\n",
       "      <td>0.0</td>\n",
       "      <td>0.0</td>\n",
       "      <td>0.0</td>\n",
       "      <td>1.0</td>\n",
       "      <td>0.0</td>\n",
       "      <td>0.0</td>\n",
       "      <td>0.0</td>\n",
       "      <td>0.0</td>\n",
       "      <td>0.0</td>\n",
       "      <td>1.0</td>\n",
       "      <td>0.0</td>\n",
       "      <td>0.0</td>\n",
       "      <td>0.0</td>\n",
       "      <td>0.0</td>\n",
       "      <td>0.0</td>\n",
       "    </tr>\n",
       "    <tr>\n",
       "      <th>2732</th>\n",
       "      <td>1.0</td>\n",
       "      <td>0.0</td>\n",
       "      <td>0.0</td>\n",
       "      <td>0.0</td>\n",
       "      <td>0.0</td>\n",
       "      <td>0.0</td>\n",
       "      <td>1.0</td>\n",
       "      <td>0.0</td>\n",
       "      <td>0.0</td>\n",
       "      <td>0.0</td>\n",
       "      <td>0.0</td>\n",
       "      <td>0.0</td>\n",
       "      <td>0.0</td>\n",
       "      <td>0.0</td>\n",
       "      <td>1.0</td>\n",
       "      <td>0.0</td>\n",
       "    </tr>\n",
       "  </tbody>\n",
       "</table>\n",
       "<p>10864 rows × 16 columns</p>\n",
       "</div>"
      ],
      "text/plain": [
       "        0    1    2    3    4    5    6    7    8    9    10   11   12   13  \\\n",
       "12167  0.0  0.0  1.0  0.0  1.0  0.0  0.0  0.0  0.0  0.0  0.0  0.0  0.0  1.0   \n",
       "6524   1.0  0.0  0.0  0.0  0.0  1.0  0.0  0.0  0.0  0.0  0.0  0.0  0.0  0.0   \n",
       "8413   1.0  0.0  0.0  0.0  1.0  0.0  0.0  0.0  0.0  0.0  0.0  0.0  0.0  0.0   \n",
       "2919   0.0  0.0  1.0  0.0  0.0  0.0  1.0  0.0  0.0  0.0  1.0  0.0  0.0  0.0   \n",
       "6043   1.0  0.0  0.0  0.0  1.0  0.0  0.0  0.0  0.0  0.0  0.0  0.0  0.0  0.0   \n",
       "...    ...  ...  ...  ...  ...  ...  ...  ...  ...  ...  ...  ...  ...  ...   \n",
       "13123  1.0  0.0  0.0  0.0  0.0  0.0  1.0  0.0  0.0  0.0  1.0  0.0  0.0  0.0   \n",
       "3264   1.0  0.0  0.0  0.0  1.0  0.0  0.0  0.0  1.0  0.0  0.0  0.0  0.0  0.0   \n",
       "9845   1.0  0.0  0.0  1.0  0.0  0.0  0.0  0.0  0.0  0.0  1.0  0.0  0.0  0.0   \n",
       "10799  1.0  0.0  0.0  0.0  1.0  0.0  0.0  0.0  0.0  0.0  1.0  0.0  0.0  0.0   \n",
       "2732   1.0  0.0  0.0  0.0  0.0  0.0  1.0  0.0  0.0  0.0  0.0  0.0  0.0  0.0   \n",
       "\n",
       "        14   15  \n",
       "12167  0.0  0.0  \n",
       "6524   1.0  0.0  \n",
       "8413   1.0  0.0  \n",
       "2919   0.0  0.0  \n",
       "6043   1.0  0.0  \n",
       "...    ...  ...  \n",
       "13123  0.0  0.0  \n",
       "3264   0.0  0.0  \n",
       "9845   0.0  0.0  \n",
       "10799  0.0  0.0  \n",
       "2732   1.0  0.0  \n",
       "\n",
       "[10864 rows x 16 columns]"
      ]
     },
     "execution_count": 28,
     "metadata": {},
     "output_type": "execute_result"
    }
   ],
   "source": [
    "one_hot_cols_train"
   ]
  },
  {
   "cell_type": "markdown",
   "id": "945ae4aa",
   "metadata": {
    "papermill": {
     "duration": 0.05451,
     "end_time": "2021-08-22T06:28:25.028314",
     "exception": false,
     "start_time": "2021-08-22T06:28:24.973804",
     "status": "completed"
    },
    "tags": []
   },
   "source": [
    "Now, we can see the actual index of the dataframe. We'll need index as we're gonna concate this dataframe with our original dataset at that particular index.<br>\n",
    "So, without further due,let's see!<br>\n",
    "First, we're gonna remove the catagorical columns from the main dataset(X_train and X_valid), as we have the necessary informations (already worked with diffrerent approaches on catagorical data)."
   ]
  },
  {
   "cell_type": "code",
   "execution_count": 29,
   "id": "abf369d1",
   "metadata": {
    "execution": {
     "iopub.execute_input": "2021-08-22T06:28:25.149930Z",
     "iopub.status.busy": "2021-08-22T06:28:25.149211Z",
     "iopub.status.idle": "2021-08-22T06:28:25.152085Z",
     "shell.execute_reply": "2021-08-22T06:28:25.151548Z"
    },
    "papermill": {
     "duration": 0.064044,
     "end_time": "2021-08-22T06:28:25.152222",
     "exception": false,
     "start_time": "2021-08-22T06:28:25.088178",
     "status": "completed"
    },
    "tags": []
   },
   "outputs": [],
   "source": [
    "final_X_train = X_train.drop(object_cols, axis = 1)\n",
    "final_X_valid = X_valid.drop(object_cols, axis = 1)"
   ]
  },
  {
   "cell_type": "code",
   "execution_count": 30,
   "id": "12644e63",
   "metadata": {
    "execution": {
     "iopub.execute_input": "2021-08-22T06:28:25.278389Z",
     "iopub.status.busy": "2021-08-22T06:28:25.277613Z",
     "iopub.status.idle": "2021-08-22T06:28:25.281897Z",
     "shell.execute_reply": "2021-08-22T06:28:25.281220Z"
    },
    "papermill": {
     "duration": 0.075816,
     "end_time": "2021-08-22T06:28:25.282045",
     "exception": false,
     "start_time": "2021-08-22T06:28:25.206229",
     "status": "completed"
    },
    "tags": []
   },
   "outputs": [
    {
     "data": {
      "text/html": [
       "<div>\n",
       "<style scoped>\n",
       "    .dataframe tbody tr th:only-of-type {\n",
       "        vertical-align: middle;\n",
       "    }\n",
       "\n",
       "    .dataframe tbody tr th {\n",
       "        vertical-align: top;\n",
       "    }\n",
       "\n",
       "    .dataframe thead th {\n",
       "        text-align: right;\n",
       "    }\n",
       "</style>\n",
       "<table border=\"1\" class=\"dataframe\">\n",
       "  <thead>\n",
       "    <tr style=\"text-align: right;\">\n",
       "      <th></th>\n",
       "      <th>Rooms</th>\n",
       "      <th>Distance</th>\n",
       "      <th>Postcode</th>\n",
       "      <th>Bedroom2</th>\n",
       "      <th>Bathroom</th>\n",
       "      <th>Landsize</th>\n",
       "      <th>Lattitude</th>\n",
       "      <th>Longtitude</th>\n",
       "      <th>Propertycount</th>\n",
       "    </tr>\n",
       "  </thead>\n",
       "  <tbody>\n",
       "    <tr>\n",
       "      <th>12167</th>\n",
       "      <td>1</td>\n",
       "      <td>5.0</td>\n",
       "      <td>3182.0</td>\n",
       "      <td>1.0</td>\n",
       "      <td>1.0</td>\n",
       "      <td>0.0</td>\n",
       "      <td>-37.85984</td>\n",
       "      <td>144.9867</td>\n",
       "      <td>13240.0</td>\n",
       "    </tr>\n",
       "    <tr>\n",
       "      <th>6524</th>\n",
       "      <td>2</td>\n",
       "      <td>8.0</td>\n",
       "      <td>3016.0</td>\n",
       "      <td>2.0</td>\n",
       "      <td>2.0</td>\n",
       "      <td>193.0</td>\n",
       "      <td>-37.85800</td>\n",
       "      <td>144.9005</td>\n",
       "      <td>6380.0</td>\n",
       "    </tr>\n",
       "    <tr>\n",
       "      <th>8413</th>\n",
       "      <td>3</td>\n",
       "      <td>12.6</td>\n",
       "      <td>3020.0</td>\n",
       "      <td>3.0</td>\n",
       "      <td>1.0</td>\n",
       "      <td>555.0</td>\n",
       "      <td>-37.79880</td>\n",
       "      <td>144.8220</td>\n",
       "      <td>3755.0</td>\n",
       "    </tr>\n",
       "    <tr>\n",
       "      <th>2919</th>\n",
       "      <td>3</td>\n",
       "      <td>13.0</td>\n",
       "      <td>3046.0</td>\n",
       "      <td>3.0</td>\n",
       "      <td>1.0</td>\n",
       "      <td>265.0</td>\n",
       "      <td>-37.70830</td>\n",
       "      <td>144.9158</td>\n",
       "      <td>8870.0</td>\n",
       "    </tr>\n",
       "    <tr>\n",
       "      <th>6043</th>\n",
       "      <td>3</td>\n",
       "      <td>13.3</td>\n",
       "      <td>3020.0</td>\n",
       "      <td>3.0</td>\n",
       "      <td>1.0</td>\n",
       "      <td>673.0</td>\n",
       "      <td>-37.76230</td>\n",
       "      <td>144.8272</td>\n",
       "      <td>4217.0</td>\n",
       "    </tr>\n",
       "  </tbody>\n",
       "</table>\n",
       "</div>"
      ],
      "text/plain": [
       "       Rooms  Distance  Postcode  Bedroom2  Bathroom  Landsize  Lattitude  \\\n",
       "12167      1       5.0    3182.0       1.0       1.0       0.0  -37.85984   \n",
       "6524       2       8.0    3016.0       2.0       2.0     193.0  -37.85800   \n",
       "8413       3      12.6    3020.0       3.0       1.0     555.0  -37.79880   \n",
       "2919       3      13.0    3046.0       3.0       1.0     265.0  -37.70830   \n",
       "6043       3      13.3    3020.0       3.0       1.0     673.0  -37.76230   \n",
       "\n",
       "       Longtitude  Propertycount  \n",
       "12167    144.9867        13240.0  \n",
       "6524     144.9005         6380.0  \n",
       "8413     144.8220         3755.0  \n",
       "2919     144.9158         8870.0  \n",
       "6043     144.8272         4217.0  "
      ]
     },
     "execution_count": 30,
     "metadata": {},
     "output_type": "execute_result"
    }
   ],
   "source": [
    "# let's see how it looks\n",
    "final_X_train.head()"
   ]
  },
  {
   "cell_type": "markdown",
   "id": "f8780ccc",
   "metadata": {
    "papermill": {
     "duration": 0.054719,
     "end_time": "2021-08-22T06:28:25.392305",
     "exception": false,
     "start_time": "2021-08-22T06:28:25.337586",
     "status": "completed"
    },
    "tags": []
   },
   "source": [
    "Next, we're gonna **concatenate** this above dataframe with one_hot dataframe at the particular indices."
   ]
  },
  {
   "cell_type": "code",
   "execution_count": 31,
   "id": "ce368935",
   "metadata": {
    "execution": {
     "iopub.execute_input": "2021-08-22T06:28:25.508522Z",
     "iopub.status.busy": "2021-08-22T06:28:25.507863Z",
     "iopub.status.idle": "2021-08-22T06:28:25.513904Z",
     "shell.execute_reply": "2021-08-22T06:28:25.513253Z"
    },
    "papermill": {
     "duration": 0.066698,
     "end_time": "2021-08-22T06:28:25.514081",
     "exception": false,
     "start_time": "2021-08-22T06:28:25.447383",
     "status": "completed"
    },
    "tags": []
   },
   "outputs": [],
   "source": [
    "one_hot_X_train = pd.concat([final_X_train, one_hot_cols_train], axis = 1)\n",
    "one_hot_X_valid = pd.concat([final_X_valid, one_hot_cols_valid], axis = 1)"
   ]
  },
  {
   "cell_type": "code",
   "execution_count": 32,
   "id": "7e664ce7",
   "metadata": {
    "execution": {
     "iopub.execute_input": "2021-08-22T06:28:25.627885Z",
     "iopub.status.busy": "2021-08-22T06:28:25.627211Z",
     "iopub.status.idle": "2021-08-22T06:28:25.661235Z",
     "shell.execute_reply": "2021-08-22T06:28:25.660480Z"
    },
    "papermill": {
     "duration": 0.092016,
     "end_time": "2021-08-22T06:28:25.661396",
     "exception": false,
     "start_time": "2021-08-22T06:28:25.569380",
     "status": "completed"
    },
    "tags": []
   },
   "outputs": [
    {
     "data": {
      "text/html": [
       "<div>\n",
       "<style scoped>\n",
       "    .dataframe tbody tr th:only-of-type {\n",
       "        vertical-align: middle;\n",
       "    }\n",
       "\n",
       "    .dataframe tbody tr th {\n",
       "        vertical-align: top;\n",
       "    }\n",
       "\n",
       "    .dataframe thead th {\n",
       "        text-align: right;\n",
       "    }\n",
       "</style>\n",
       "<table border=\"1\" class=\"dataframe\">\n",
       "  <thead>\n",
       "    <tr style=\"text-align: right;\">\n",
       "      <th></th>\n",
       "      <th>Rooms</th>\n",
       "      <th>Distance</th>\n",
       "      <th>Postcode</th>\n",
       "      <th>Bedroom2</th>\n",
       "      <th>Bathroom</th>\n",
       "      <th>Landsize</th>\n",
       "      <th>Lattitude</th>\n",
       "      <th>Longtitude</th>\n",
       "      <th>Propertycount</th>\n",
       "      <th>0</th>\n",
       "      <th>...</th>\n",
       "      <th>6</th>\n",
       "      <th>7</th>\n",
       "      <th>8</th>\n",
       "      <th>9</th>\n",
       "      <th>10</th>\n",
       "      <th>11</th>\n",
       "      <th>12</th>\n",
       "      <th>13</th>\n",
       "      <th>14</th>\n",
       "      <th>15</th>\n",
       "    </tr>\n",
       "  </thead>\n",
       "  <tbody>\n",
       "    <tr>\n",
       "      <th>12167</th>\n",
       "      <td>1</td>\n",
       "      <td>5.0</td>\n",
       "      <td>3182.0</td>\n",
       "      <td>1.0</td>\n",
       "      <td>1.0</td>\n",
       "      <td>0.0</td>\n",
       "      <td>-37.85984</td>\n",
       "      <td>144.9867</td>\n",
       "      <td>13240.0</td>\n",
       "      <td>0.0</td>\n",
       "      <td>...</td>\n",
       "      <td>0.0</td>\n",
       "      <td>0.0</td>\n",
       "      <td>0.0</td>\n",
       "      <td>0.0</td>\n",
       "      <td>0.0</td>\n",
       "      <td>0.0</td>\n",
       "      <td>0.0</td>\n",
       "      <td>1.0</td>\n",
       "      <td>0.0</td>\n",
       "      <td>0.0</td>\n",
       "    </tr>\n",
       "    <tr>\n",
       "      <th>6524</th>\n",
       "      <td>2</td>\n",
       "      <td>8.0</td>\n",
       "      <td>3016.0</td>\n",
       "      <td>2.0</td>\n",
       "      <td>2.0</td>\n",
       "      <td>193.0</td>\n",
       "      <td>-37.85800</td>\n",
       "      <td>144.9005</td>\n",
       "      <td>6380.0</td>\n",
       "      <td>1.0</td>\n",
       "      <td>...</td>\n",
       "      <td>0.0</td>\n",
       "      <td>0.0</td>\n",
       "      <td>0.0</td>\n",
       "      <td>0.0</td>\n",
       "      <td>0.0</td>\n",
       "      <td>0.0</td>\n",
       "      <td>0.0</td>\n",
       "      <td>0.0</td>\n",
       "      <td>1.0</td>\n",
       "      <td>0.0</td>\n",
       "    </tr>\n",
       "    <tr>\n",
       "      <th>8413</th>\n",
       "      <td>3</td>\n",
       "      <td>12.6</td>\n",
       "      <td>3020.0</td>\n",
       "      <td>3.0</td>\n",
       "      <td>1.0</td>\n",
       "      <td>555.0</td>\n",
       "      <td>-37.79880</td>\n",
       "      <td>144.8220</td>\n",
       "      <td>3755.0</td>\n",
       "      <td>1.0</td>\n",
       "      <td>...</td>\n",
       "      <td>0.0</td>\n",
       "      <td>0.0</td>\n",
       "      <td>0.0</td>\n",
       "      <td>0.0</td>\n",
       "      <td>0.0</td>\n",
       "      <td>0.0</td>\n",
       "      <td>0.0</td>\n",
       "      <td>0.0</td>\n",
       "      <td>1.0</td>\n",
       "      <td>0.0</td>\n",
       "    </tr>\n",
       "    <tr>\n",
       "      <th>2919</th>\n",
       "      <td>3</td>\n",
       "      <td>13.0</td>\n",
       "      <td>3046.0</td>\n",
       "      <td>3.0</td>\n",
       "      <td>1.0</td>\n",
       "      <td>265.0</td>\n",
       "      <td>-37.70830</td>\n",
       "      <td>144.9158</td>\n",
       "      <td>8870.0</td>\n",
       "      <td>0.0</td>\n",
       "      <td>...</td>\n",
       "      <td>1.0</td>\n",
       "      <td>0.0</td>\n",
       "      <td>0.0</td>\n",
       "      <td>0.0</td>\n",
       "      <td>1.0</td>\n",
       "      <td>0.0</td>\n",
       "      <td>0.0</td>\n",
       "      <td>0.0</td>\n",
       "      <td>0.0</td>\n",
       "      <td>0.0</td>\n",
       "    </tr>\n",
       "    <tr>\n",
       "      <th>6043</th>\n",
       "      <td>3</td>\n",
       "      <td>13.3</td>\n",
       "      <td>3020.0</td>\n",
       "      <td>3.0</td>\n",
       "      <td>1.0</td>\n",
       "      <td>673.0</td>\n",
       "      <td>-37.76230</td>\n",
       "      <td>144.8272</td>\n",
       "      <td>4217.0</td>\n",
       "      <td>1.0</td>\n",
       "      <td>...</td>\n",
       "      <td>0.0</td>\n",
       "      <td>0.0</td>\n",
       "      <td>0.0</td>\n",
       "      <td>0.0</td>\n",
       "      <td>0.0</td>\n",
       "      <td>0.0</td>\n",
       "      <td>0.0</td>\n",
       "      <td>0.0</td>\n",
       "      <td>1.0</td>\n",
       "      <td>0.0</td>\n",
       "    </tr>\n",
       "  </tbody>\n",
       "</table>\n",
       "<p>5 rows × 25 columns</p>\n",
       "</div>"
      ],
      "text/plain": [
       "       Rooms  Distance  Postcode  Bedroom2  Bathroom  Landsize  Lattitude  \\\n",
       "12167      1       5.0    3182.0       1.0       1.0       0.0  -37.85984   \n",
       "6524       2       8.0    3016.0       2.0       2.0     193.0  -37.85800   \n",
       "8413       3      12.6    3020.0       3.0       1.0     555.0  -37.79880   \n",
       "2919       3      13.0    3046.0       3.0       1.0     265.0  -37.70830   \n",
       "6043       3      13.3    3020.0       3.0       1.0     673.0  -37.76230   \n",
       "\n",
       "       Longtitude  Propertycount    0  ...    6    7    8    9   10   11   12  \\\n",
       "12167    144.9867        13240.0  0.0  ...  0.0  0.0  0.0  0.0  0.0  0.0  0.0   \n",
       "6524     144.9005         6380.0  1.0  ...  0.0  0.0  0.0  0.0  0.0  0.0  0.0   \n",
       "8413     144.8220         3755.0  1.0  ...  0.0  0.0  0.0  0.0  0.0  0.0  0.0   \n",
       "2919     144.9158         8870.0  0.0  ...  1.0  0.0  0.0  0.0  1.0  0.0  0.0   \n",
       "6043     144.8272         4217.0  1.0  ...  0.0  0.0  0.0  0.0  0.0  0.0  0.0   \n",
       "\n",
       "        13   14   15  \n",
       "12167  1.0  0.0  0.0  \n",
       "6524   0.0  1.0  0.0  \n",
       "8413   0.0  1.0  0.0  \n",
       "2919   0.0  0.0  0.0  \n",
       "6043   0.0  1.0  0.0  \n",
       "\n",
       "[5 rows x 25 columns]"
      ]
     },
     "execution_count": 32,
     "metadata": {},
     "output_type": "execute_result"
    }
   ],
   "source": [
    "# see the update here\n",
    "one_hot_X_train.head()"
   ]
  },
  {
   "cell_type": "markdown",
   "id": "f2851cdd",
   "metadata": {
    "papermill": {
     "duration": 0.063754,
     "end_time": "2021-08-22T06:28:25.782002",
     "exception": false,
     "start_time": "2021-08-22T06:28:25.718248",
     "status": "completed"
    },
    "tags": []
   },
   "source": [
    "See! We have **25 columns**, which is a big!!! This is why we do not use OneHot while there is chance of having many uniques values in catagorical columns.<br>\n",
    "Though, we had taken only the  catagorical coumns containing less than 10 unique catagories.<br>\n",
    "Last thing ramaining is the MAE calculation. So let's do that."
   ]
  },
  {
   "cell_type": "code",
   "execution_count": 33,
   "id": "01ac92e9",
   "metadata": {
    "execution": {
     "iopub.execute_input": "2021-08-22T06:28:25.908124Z",
     "iopub.status.busy": "2021-08-22T06:28:25.907134Z",
     "iopub.status.idle": "2021-08-22T06:28:32.533653Z",
     "shell.execute_reply": "2021-08-22T06:28:32.534121Z"
    },
    "papermill": {
     "duration": 6.692884,
     "end_time": "2021-08-22T06:28:32.534301",
     "exception": false,
     "start_time": "2021-08-22T06:28:25.841417",
     "status": "completed"
    },
    "tags": []
   },
   "outputs": [
    {
     "name": "stdout",
     "output_type": "stream",
     "text": [
      "MAE from Approach 3: One Hot Encoding\n",
      "166089.4893009678\n"
     ]
    }
   ],
   "source": [
    "print(\"MAE from Approach 3: One Hot Encoding\")\n",
    "\n",
    "print(score_dataset(one_hot_X_train, one_hot_X_valid, y_train, y_valid))"
   ]
  },
  {
   "cell_type": "markdown",
   "id": "e0df9f61",
   "metadata": {
    "papermill": {
     "duration": 0.056453,
     "end_time": "2021-08-22T06:28:32.647733",
     "exception": false,
     "start_time": "2021-08-22T06:28:32.591280",
     "status": "completed"
    },
    "tags": []
   },
   "source": [
    "# Can you guess which one performs the best? \n",
    "Normally, **Approach 1** is the *worst* one, and **Approach 3** performs *best* among these three approaches.<br>\n",
    "However, this may vary upon the problem.<br>\n",
    "Note: We could have used get_dummies in terms of onehot here with pandas to shorten our code. [See here](https://pandas.pydata.org/docs/reference/api/pandas.get_dummies.html)<br>\n",
    "So, we conclude that, Approach 2 performs best in this particular problem."
   ]
  },
  {
   "cell_type": "code",
   "execution_count": null,
   "id": "bc1efcc1",
   "metadata": {
    "papermill": {
     "duration": 0.056398,
     "end_time": "2021-08-22T06:28:32.760605",
     "exception": false,
     "start_time": "2021-08-22T06:28:32.704207",
     "status": "completed"
    },
    "tags": []
   },
   "outputs": [],
   "source": []
  }
 ],
 "metadata": {
  "kernelspec": {
   "display_name": "Python 3",
   "language": "python",
   "name": "python3"
  },
  "language_info": {
   "codemirror_mode": {
    "name": "ipython",
    "version": 3
   },
   "file_extension": ".py",
   "mimetype": "text/x-python",
   "name": "python",
   "nbconvert_exporter": "python",
   "pygments_lexer": "ipython3",
   "version": "3.7.10"
  },
  "papermill": {
   "default_parameters": {},
   "duration": 36.884771,
   "end_time": "2021-08-22T06:28:34.504413",
   "environment_variables": {},
   "exception": null,
   "input_path": "__notebook__.ipynb",
   "output_path": "__notebook__.ipynb",
   "parameters": {},
   "start_time": "2021-08-22T06:27:57.619642",
   "version": "2.3.3"
  }
 },
 "nbformat": 4,
 "nbformat_minor": 5
}
