{
 "cells": [
  {
   "cell_type": "markdown",
   "id": "85a0ab9b",
   "metadata": {
    "papermill": {
     "duration": 0.006849,
     "end_time": "2021-08-11T10:45:04.264169",
     "exception": false,
     "start_time": "2021-08-11T10:45:04.257320",
     "status": "completed"
    },
    "tags": []
   },
   "source": [
    "Let's see how we can dominate over overfitting and underfitting"
   ]
  },
  {
   "cell_type": "code",
   "execution_count": 1,
   "id": "fd72524f",
   "metadata": {
    "execution": {
     "iopub.execute_input": "2021-08-11T10:45:04.287013Z",
     "iopub.status.busy": "2021-08-11T10:45:04.284085Z",
     "iopub.status.idle": "2021-08-11T10:45:04.289575Z",
     "shell.execute_reply": "2021-08-11T10:45:04.290211Z",
     "shell.execute_reply.started": "2021-08-11T10:24:37.065240Z"
    },
    "papermill": {
     "duration": 0.020448,
     "end_time": "2021-08-11T10:45:04.290511",
     "exception": false,
     "start_time": "2021-08-11T10:45:04.270063",
     "status": "completed"
    },
    "tags": []
   },
   "outputs": [],
   "source": [
    "import numpy as np \n",
    "import pandas as pd "
   ]
  },
  {
   "cell_type": "markdown",
   "id": "679d943a",
   "metadata": {
    "papermill": {
     "duration": 0.005901,
     "end_time": "2021-08-11T10:45:04.302479",
     "exception": false,
     "start_time": "2021-08-11T10:45:04.296578",
     "status": "completed"
    },
    "tags": []
   },
   "source": [
    "There are a few alternatives for controlling the tree depth, and many allow for some routes through the tree to have greater depth than other routes. But the max_leaf_nodes argument provides a very sensible way to control *overfitting vs underfitting*. The more leaves we allow the model to make, the more we move from the underfitting area to the overfitting area.\n",
    "\n"
   ]
  },
  {
   "cell_type": "code",
   "execution_count": 2,
   "id": "559f146d",
   "metadata": {
    "execution": {
     "iopub.execute_input": "2021-08-11T10:45:04.321073Z",
     "iopub.status.busy": "2021-08-11T10:45:04.320203Z",
     "iopub.status.idle": "2021-08-11T10:45:05.346507Z",
     "shell.execute_reply": "2021-08-11T10:45:05.346021Z",
     "shell.execute_reply.started": "2021-08-11T10:31:54.895695Z"
    },
    "papermill": {
     "duration": 1.038259,
     "end_time": "2021-08-11T10:45:05.346683",
     "exception": false,
     "start_time": "2021-08-11T10:45:04.308424",
     "status": "completed"
    },
    "tags": []
   },
   "outputs": [],
   "source": [
    "# We can use a utility function to help compare MAE scores from different values for max_leaf_nodes:\n",
    "from sklearn.metrics import mean_absolute_error\n",
    "from sklearn.tree import DecisionTreeRegressor\n",
    "\n",
    "# let's create a function  to calculate MAE for our convenient\n",
    "def get_mae(max_leaf_nodes, train_X, val_X, train_y, val_y):\n",
    "    model = DecisionTreeRegressor(max_leaf_nodes = max_leaf_nodes, random_state = 0)\n",
    "\n",
    "    model.fit(train_X, train_y)\n",
    "    prediction = model.predict(val_X)\n",
    "    mae = mean_absolute_error(val_y, prediction)\n",
    "    \n",
    "    return mae\n"
   ]
  },
  {
   "cell_type": "markdown",
   "id": "489d175e",
   "metadata": {
    "papermill": {
     "duration": 0.005854,
     "end_time": "2021-08-11T10:45:05.359286",
     "exception": false,
     "start_time": "2021-08-11T10:45:05.353432",
     "status": "completed"
    },
    "tags": []
   },
   "source": [
    "We're gonna load our data from previous notebooks *(Leaned already)*"
   ]
  },
  {
   "cell_type": "markdown",
   "id": "342f0299",
   "metadata": {
    "papermill": {
     "duration": 0.005385,
     "end_time": "2021-08-11T10:45:05.370710",
     "exception": false,
     "start_time": "2021-08-11T10:45:05.365325",
     "status": "completed"
    },
    "tags": []
   },
   "source": []
  },
  {
   "cell_type": "code",
   "execution_count": 3,
   "id": "2b497735",
   "metadata": {
    "execution": {
     "iopub.execute_input": "2021-08-11T10:45:05.387883Z",
     "iopub.status.busy": "2021-08-11T10:45:05.387263Z",
     "iopub.status.idle": "2021-08-11T10:45:05.507470Z",
     "shell.execute_reply": "2021-08-11T10:45:05.506966Z",
     "shell.execute_reply.started": "2021-08-11T10:36:58.963579Z"
    },
    "papermill": {
     "duration": 0.131254,
     "end_time": "2021-08-11T10:45:05.507636",
     "exception": false,
     "start_time": "2021-08-11T10:45:05.376382",
     "status": "completed"
    },
    "tags": []
   },
   "outputs": [],
   "source": [
    "# Data Loading Code Runs At This Point\n",
    "import pandas as pd\n",
    "    \n",
    "# Load data\n",
    "melbourne_file_path = '../input/melbourne-housing-snapshot/melb_data.csv'\n",
    "melbourne_data = pd.read_csv(melbourne_file_path) \n",
    "# Filter rows with missing values\n",
    "filtered_melbourne_data = melbourne_data.dropna(axis=0)\n",
    "# Choose target and features\n",
    "y = filtered_melbourne_data.Price\n",
    "melbourne_features = ['Rooms', 'Bathroom', 'Landsize', 'BuildingArea', \n",
    "                        'YearBuilt', 'Lattitude', 'Longtitude']\n",
    "X = filtered_melbourne_data[melbourne_features]\n",
    "\n",
    "from sklearn.model_selection import train_test_split\n",
    "\n",
    "# split data into training and validation data, for both features and target\n",
    "train_X, val_X, train_y, val_y = train_test_split(X, y,random_state = 0)"
   ]
  },
  {
   "cell_type": "markdown",
   "id": "76f4ce14",
   "metadata": {
    "papermill": {
     "duration": 0.005596,
     "end_time": "2021-08-11T10:45:05.519150",
     "exception": false,
     "start_time": "2021-08-11T10:45:05.513554",
     "status": "completed"
    },
    "tags": []
   },
   "source": [
    "Now, let's see an analogy how the *max_leaf_nodes* affects our MAE"
   ]
  },
  {
   "cell_type": "code",
   "execution_count": 4,
   "id": "48ff2833",
   "metadata": {
    "execution": {
     "iopub.execute_input": "2021-08-11T10:45:05.539237Z",
     "iopub.status.busy": "2021-08-11T10:45:05.538351Z",
     "iopub.status.idle": "2021-08-11T10:45:05.634256Z",
     "shell.execute_reply": "2021-08-11T10:45:05.633682Z",
     "shell.execute_reply.started": "2021-08-11T10:43:48.033012Z"
    },
    "papermill": {
     "duration": 0.109468,
     "end_time": "2021-08-11T10:45:05.634387",
     "exception": false,
     "start_time": "2021-08-11T10:45:05.524919",
     "status": "completed"
    },
    "tags": []
   },
   "outputs": [
    {
     "name": "stdout",
     "output_type": "stream",
     "text": [
      "Max leaf nodes: 5      Mean Absolute Error: 347380\n",
      "Max leaf nodes: 50      Mean Absolute Error: 258171\n",
      "Max leaf nodes: 500      Mean Absolute Error: 243495\n",
      "Max leaf nodes: 5000      Mean Absolute Error: 254983\n"
     ]
    }
   ],
   "source": [
    "for max_leaf_nodes in [5, 50, 500, 5000]:\n",
    "    test_mae = get_mae(max_leaf_nodes, train_X, val_X, train_y, val_y)\n",
    "    print('Max leaf nodes: %d      Mean Absolute Error: %d' %(max_leaf_nodes, test_mae))"
   ]
  },
  {
   "cell_type": "code",
   "execution_count": null,
   "id": "dbc63abb",
   "metadata": {
    "papermill": {
     "duration": 0.005719,
     "end_time": "2021-08-11T10:45:05.646603",
     "exception": false,
     "start_time": "2021-08-11T10:45:05.640884",
     "status": "completed"
    },
    "tags": []
   },
   "outputs": [],
   "source": []
  }
 ],
 "metadata": {
  "kernelspec": {
   "display_name": "Python 3",
   "language": "python",
   "name": "python3"
  },
  "language_info": {
   "codemirror_mode": {
    "name": "ipython",
    "version": 3
   },
   "file_extension": ".py",
   "mimetype": "text/x-python",
   "name": "python",
   "nbconvert_exporter": "python",
   "pygments_lexer": "ipython3",
   "version": "3.7.10"
  },
  "papermill": {
   "default_parameters": {},
   "duration": 9.723892,
   "end_time": "2021-08-11T10:45:07.316007",
   "environment_variables": {},
   "exception": null,
   "input_path": "__notebook__.ipynb",
   "output_path": "__notebook__.ipynb",
   "parameters": {},
   "start_time": "2021-08-11T10:44:57.592115",
   "version": "2.3.3"
  }
 },
 "nbformat": 4,
 "nbformat_minor": 5
}
