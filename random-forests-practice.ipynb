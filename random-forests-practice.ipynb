{
 "cells": [
  {
   "cell_type": "markdown",
   "id": "a0f480b4",
   "metadata": {
    "papermill": {
     "duration": 0.007256,
     "end_time": "2021-08-14T16:49:25.122056",
     "exception": false,
     "start_time": "2021-08-14T16:49:25.114800",
     "status": "completed"
    },
    "tags": []
   },
   "source": [
    "In this notebook, we're gonna practice the concept **Random Forest** . Let's start! <br>\n",
    "But before that, let's recall the model that was built before!"
   ]
  },
  {
   "cell_type": "code",
   "execution_count": 1,
   "id": "a2ab0407",
   "metadata": {
    "execution": {
     "iopub.execute_input": "2021-08-14T16:49:25.153198Z",
     "iopub.status.busy": "2021-08-14T16:49:25.146779Z",
     "iopub.status.idle": "2021-08-14T16:49:26.398215Z",
     "shell.execute_reply": "2021-08-14T16:49:26.397491Z",
     "shell.execute_reply.started": "2021-08-14T16:29:40.07222Z"
    },
    "papermill": {
     "duration": 1.268855,
     "end_time": "2021-08-14T16:49:26.398370",
     "exception": false,
     "start_time": "2021-08-14T16:49:25.129515",
     "status": "completed"
    },
    "tags": []
   },
   "outputs": [],
   "source": [
    "import pandas as pd\n",
    "\n",
    "# let's  load the data \n",
    "melbourne_path = \"../input/melbourne-housing-snapshot/melb_data.csv\"\n",
    "melbourne_data = pd.read_csv(melbourne_path)\n",
    "\n",
    "# now just filter for missing values\n",
    "melbourne_data = melbourne_data.dropna(axis = 0)\n",
    "\n",
    "# targetting result for predictions\n",
    "y = melbourne_data.Price\n",
    "\n",
    "# we're gonna choose the features for our model\n",
    "melbourne_features = ['Rooms', 'Bathroom', 'Landsize', 'BuildingArea', \n",
    "                        'YearBuilt', 'Lattitude', 'Longtitude']\n",
    "X = melbourne_data[melbourne_features]\n",
    "\n",
    "# just split out the dataset for the training and validation set\n",
    "from sklearn.model_selection import train_test_split\n",
    "train_X, val_X, train_y, val_y = train_test_split(X, y, random_state = 0)\n",
    "\n"
   ]
  },
  {
   "cell_type": "markdown",
   "id": "bfff9765",
   "metadata": {
    "papermill": {
     "duration": 0.004144,
     "end_time": "2021-08-14T16:49:26.407056",
     "exception": false,
     "start_time": "2021-08-14T16:49:26.402912",
     "status": "completed"
    },
    "tags": []
   },
   "source": [
    "Now, let's build the **Random Forest** model similar to the *Decision Tree* was being built"
   ]
  },
  {
   "cell_type": "code",
   "execution_count": 2,
   "id": "0fd995b0",
   "metadata": {
    "execution": {
     "iopub.execute_input": "2021-08-14T16:49:26.421134Z",
     "iopub.status.busy": "2021-08-14T16:49:26.420461Z",
     "iopub.status.idle": "2021-08-14T16:49:28.756061Z",
     "shell.execute_reply": "2021-08-14T16:49:28.755121Z",
     "shell.execute_reply.started": "2021-08-14T16:36:37.302524Z"
    },
    "papermill": {
     "duration": 2.344959,
     "end_time": "2021-08-14T16:49:28.756266",
     "exception": false,
     "start_time": "2021-08-14T16:49:26.411307",
     "status": "completed"
    },
    "tags": []
   },
   "outputs": [
    {
     "name": "stdout",
     "output_type": "stream",
     "text": [
      "191669.7536453626\n"
     ]
    }
   ],
   "source": [
    "from sklearn.ensemble import RandomForestRegressor\n",
    "from sklearn.metrics import mean_absolute_error\n",
    "\n",
    "# let's build a Random Forest model\n",
    "forest_model = RandomForestRegressor(random_state = 1)\n",
    "forest_model.fit(train_X, train_y)\n",
    "\n",
    "model_preds = forest_model.predict(val_X)\n",
    "print(mean_absolute_error(val_y, model_preds))"
   ]
  },
  {
   "cell_type": "markdown",
   "id": "25ddc8e7",
   "metadata": {
    "papermill": {
     "duration": 0.004569,
     "end_time": "2021-08-14T16:49:28.767428",
     "exception": false,
     "start_time": "2021-08-14T16:49:28.762859",
     "status": "completed"
    },
    "tags": []
   },
   "source": [
    "Wow! We've reduced the mean_absolute_error to this as it was almost 250,000.<br>\n",
    "So, it's a good improvement. But not better. We'll see in the next exercise. Bye!"
   ]
  }
 ],
 "metadata": {
  "kernelspec": {
   "display_name": "Python 3",
   "language": "python",
   "name": "python3"
  },
  "language_info": {
   "codemirror_mode": {
    "name": "ipython",
    "version": 3
   },
   "file_extension": ".py",
   "mimetype": "text/x-python",
   "name": "python",
   "nbconvert_exporter": "python",
   "pygments_lexer": "ipython3",
   "version": "3.7.10"
  },
  "papermill": {
   "default_parameters": {},
   "duration": 12.344368,
   "end_time": "2021-08-14T16:49:29.482624",
   "environment_variables": {},
   "exception": null,
   "input_path": "__notebook__.ipynb",
   "output_path": "__notebook__.ipynb",
   "parameters": {},
   "start_time": "2021-08-14T16:49:17.138256",
   "version": "2.3.3"
  }
 },
 "nbformat": 4,
 "nbformat_minor": 5
}
