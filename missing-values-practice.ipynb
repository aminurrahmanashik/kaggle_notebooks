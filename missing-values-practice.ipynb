{
 "cells": [
  {
   "cell_type": "markdown",
   "id": "11266692",
   "metadata": {
    "papermill": {
     "duration": 0.045968,
     "end_time": "2021-08-21T16:55:25.215210",
     "exception": false,
     "start_time": "2021-08-21T16:55:25.169242",
     "status": "completed"
    },
    "tags": []
   },
   "source": [
    "In this particular notebook, we're gonna learn about the control over missing values in our datasets.<br>\n",
    "We are going to use the dataset from [here](https://www.kaggle.com/dansbecker/melbourne-housing-snapshot) "
   ]
  },
  {
   "cell_type": "code",
   "execution_count": 1,
   "id": "9772b7e7",
   "metadata": {
    "execution": {
     "iopub.execute_input": "2021-08-21T16:55:25.312494Z",
     "iopub.status.busy": "2021-08-21T16:55:25.311367Z",
     "iopub.status.idle": "2021-08-21T16:55:26.462352Z",
     "shell.execute_reply": "2021-08-21T16:55:26.461692Z"
    },
    "papermill": {
     "duration": 1.201025,
     "end_time": "2021-08-21T16:55:26.462525",
     "exception": false,
     "start_time": "2021-08-21T16:55:25.261500",
     "status": "completed"
    },
    "tags": []
   },
   "outputs": [],
   "source": [
    "# so let's load our dataset\n",
    "import pandas as pd \n",
    "from sklearn.model_selection import train_test_split\n",
    "\n",
    "data = pd.read_csv('../input/melbourne-housing-snapshot/melb_data.csv')\n",
    "\n",
    "# selected target to drop this column\n",
    "y = data.Price"
   ]
  },
  {
   "cell_type": "markdown",
   "id": "31a42a7c",
   "metadata": {
    "papermill": {
     "duration": 0.044425,
     "end_time": "2021-08-21T16:55:26.551991",
     "exception": false,
     "start_time": "2021-08-21T16:55:26.507566",
     "status": "completed"
    },
    "tags": []
   },
   "source": [
    "Have a check the columns of our dataset"
   ]
  },
  {
   "cell_type": "code",
   "execution_count": 2,
   "id": "f0378d84",
   "metadata": {
    "execution": {
     "iopub.execute_input": "2021-08-21T16:55:26.645106Z",
     "iopub.status.busy": "2021-08-21T16:55:26.644411Z",
     "iopub.status.idle": "2021-08-21T16:55:26.651789Z",
     "shell.execute_reply": "2021-08-21T16:55:26.652232Z",
     "shell.execute_reply.started": "2021-08-16T06:09:12.667941Z"
    },
    "papermill": {
     "duration": 0.0556,
     "end_time": "2021-08-21T16:55:26.652409",
     "exception": false,
     "start_time": "2021-08-21T16:55:26.596809",
     "status": "completed"
    },
    "tags": []
   },
   "outputs": [
    {
     "name": "stdout",
     "output_type": "stream",
     "text": [
      "Index(['Suburb', 'Address', 'Rooms', 'Type', 'Price', 'Method', 'SellerG',\n",
      "       'Date', 'Distance', 'Postcode', 'Bedroom2', 'Bathroom', 'Car',\n",
      "       'Landsize', 'BuildingArea', 'YearBuilt', 'CouncilArea', 'Lattitude',\n",
      "       'Longtitude', 'Regionname', 'Propertycount'],\n",
      "      dtype='object')\n",
      "column size: 21\n"
     ]
    }
   ],
   "source": [
    "print(data.columns)\n",
    "print(\"column size:\", data.columns.size)"
   ]
  },
  {
   "cell_type": "markdown",
   "id": "60bd3c28",
   "metadata": {
    "papermill": {
     "duration": 0.044632,
     "end_time": "2021-08-21T16:55:26.742088",
     "exception": false,
     "start_time": "2021-08-21T16:55:26.697456",
     "status": "completed"
    },
    "tags": []
   },
   "source": [
    "Let's drop the *Price* column which was our target."
   ]
  },
  {
   "cell_type": "code",
   "execution_count": 3,
   "id": "78296fe1",
   "metadata": {
    "execution": {
     "iopub.execute_input": "2021-08-21T16:55:26.840928Z",
     "iopub.status.busy": "2021-08-21T16:55:26.840171Z",
     "iopub.status.idle": "2021-08-21T16:55:26.846497Z",
     "shell.execute_reply": "2021-08-21T16:55:26.845894Z",
     "shell.execute_reply.started": "2021-08-16T06:09:12.675698Z"
    },
    "papermill": {
     "duration": 0.058929,
     "end_time": "2021-08-21T16:55:26.846694",
     "exception": false,
     "start_time": "2021-08-21T16:55:26.787765",
     "status": "completed"
    },
    "tags": []
   },
   "outputs": [],
   "source": [
    "melb_predictors = data.drop(['Price'], axis = 1)"
   ]
  },
  {
   "cell_type": "markdown",
   "id": "8710bf71",
   "metadata": {
    "papermill": {
     "duration": 0.046594,
     "end_time": "2021-08-21T16:55:26.940829",
     "exception": false,
     "start_time": "2021-08-21T16:55:26.894235",
     "status": "completed"
    },
    "tags": []
   },
   "source": [
    "See the new dataset has everything except *Price* column. We can have a look to the size of the columns now, it's 20!"
   ]
  },
  {
   "cell_type": "code",
   "execution_count": 4,
   "id": "cbdfdaac",
   "metadata": {
    "execution": {
     "iopub.execute_input": "2021-08-21T16:55:27.057240Z",
     "iopub.status.busy": "2021-08-21T16:55:27.056311Z",
     "iopub.status.idle": "2021-08-21T16:55:27.063250Z",
     "shell.execute_reply": "2021-08-21T16:55:27.063928Z",
     "shell.execute_reply.started": "2021-08-16T06:09:12.691327Z"
    },
    "papermill": {
     "duration": 0.070211,
     "end_time": "2021-08-21T16:55:27.064155",
     "exception": false,
     "start_time": "2021-08-21T16:55:26.993944",
     "status": "completed"
    },
    "tags": []
   },
   "outputs": [
    {
     "name": "stdout",
     "output_type": "stream",
     "text": [
      "Index(['Suburb', 'Address', 'Rooms', 'Type', 'Method', 'SellerG', 'Date',\n",
      "       'Distance', 'Postcode', 'Bedroom2', 'Bathroom', 'Car', 'Landsize',\n",
      "       'BuildingArea', 'YearBuilt', 'CouncilArea', 'Lattitude', 'Longtitude',\n",
      "       'Regionname', 'Propertycount'],\n",
      "      dtype='object')\n",
      "column size: 20\n"
     ]
    }
   ],
   "source": [
    "print(melb_predictors.columns)\n",
    "print(\"column size:\", melb_predictors.columns.size)"
   ]
  },
  {
   "cell_type": "markdown",
   "id": "5f4eb6dc",
   "metadata": {
    "papermill": {
     "duration": 0.045235,
     "end_time": "2021-08-21T16:55:27.160947",
     "exception": false,
     "start_time": "2021-08-21T16:55:27.115712",
     "status": "completed"
    },
    "tags": []
   },
   "source": [
    "Now, let's make our dataset more interesting by ignoring strings<br>\n",
    "as string have less often efects on our model (for such value based predictions particularly)<br>\n",
    "**Note:** String data type here is *object*\n",
    "\n",
    "\n",
    "\n"
   ]
  },
  {
   "cell_type": "code",
   "execution_count": 5,
   "id": "ad9133d8",
   "metadata": {
    "execution": {
     "iopub.execute_input": "2021-08-21T16:55:27.256960Z",
     "iopub.status.busy": "2021-08-21T16:55:27.255953Z",
     "iopub.status.idle": "2021-08-21T16:55:27.273795Z",
     "shell.execute_reply": "2021-08-21T16:55:27.273199Z",
     "shell.execute_reply.started": "2021-08-16T06:09:12.70368Z"
    },
    "papermill": {
     "duration": 0.06715,
     "end_time": "2021-08-21T16:55:27.273957",
     "exception": false,
     "start_time": "2021-08-21T16:55:27.206807",
     "status": "completed"
    },
    "tags": []
   },
   "outputs": [
    {
     "name": "stdout",
     "output_type": "stream",
     "text": [
      "Suburb object\n",
      "Address object\n",
      "Rooms int64\n",
      "Type object\n",
      "Method object\n",
      "SellerG object\n",
      "Date object\n",
      "Distance float64\n",
      "Postcode float64\n",
      "Bedroom2 float64\n",
      "Bathroom float64\n",
      "Car float64\n",
      "Landsize float64\n",
      "BuildingArea float64\n",
      "YearBuilt float64\n",
      "CouncilArea object\n",
      "Lattitude float64\n",
      "Longtitude float64\n",
      "Regionname object\n",
      "Propertycount float64\n"
     ]
    }
   ],
   "source": [
    "# let's print out the data types of each column\n",
    "for col in melb_predictors.columns:\n",
    "    print(col, data[col].dtype)"
   ]
  },
  {
   "cell_type": "code",
   "execution_count": 6,
   "id": "c11c2e8c",
   "metadata": {
    "execution": {
     "iopub.execute_input": "2021-08-21T16:55:27.376614Z",
     "iopub.status.busy": "2021-08-21T16:55:27.375962Z",
     "iopub.status.idle": "2021-08-21T16:55:27.379272Z",
     "shell.execute_reply": "2021-08-21T16:55:27.378770Z",
     "shell.execute_reply.started": "2021-08-16T06:09:12.720836Z"
    },
    "papermill": {
     "duration": 0.059249,
     "end_time": "2021-08-21T16:55:27.379413",
     "exception": false,
     "start_time": "2021-08-21T16:55:27.320164",
     "status": "completed"
    },
    "tags": []
   },
   "outputs": [],
   "source": [
    "# let's ignore the columns having strings (object dtype)\n",
    "X = melb_predictors.select_dtypes(exclude = ['object'])"
   ]
  },
  {
   "cell_type": "code",
   "execution_count": 7,
   "id": "eb84d99e",
   "metadata": {
    "execution": {
     "iopub.execute_input": "2021-08-21T16:55:27.476936Z",
     "iopub.status.busy": "2021-08-21T16:55:27.476289Z",
     "iopub.status.idle": "2021-08-21T16:55:27.480830Z",
     "shell.execute_reply": "2021-08-21T16:55:27.480194Z",
     "shell.execute_reply.started": "2021-08-16T06:09:12.730324Z"
    },
    "papermill": {
     "duration": 0.055811,
     "end_time": "2021-08-21T16:55:27.480965",
     "exception": false,
     "start_time": "2021-08-21T16:55:27.425154",
     "status": "completed"
    },
    "tags": []
   },
   "outputs": [
    {
     "name": "stdout",
     "output_type": "stream",
     "text": [
      "Index(['Rooms', 'Distance', 'Postcode', 'Bedroom2', 'Bathroom', 'Car',\n",
      "       'Landsize', 'BuildingArea', 'YearBuilt', 'Lattitude', 'Longtitude',\n",
      "       'Propertycount'],\n",
      "      dtype='object')\n",
      "column size: 12\n"
     ]
    }
   ],
   "source": [
    "# let's see the coulmns\n",
    "print(X.columns)\n",
    "print(\"column size:\", X.columns.size)"
   ]
  },
  {
   "cell_type": "markdown",
   "id": "10c536ee",
   "metadata": {
    "papermill": {
     "duration": 0.045898,
     "end_time": "2021-08-21T16:55:27.572697",
     "exception": false,
     "start_time": "2021-08-21T16:55:27.526799",
     "status": "completed"
    },
    "tags": []
   },
   "source": [
    "Well, now the dataset has only 12 columns. Have a look at the dataframe..."
   ]
  },
  {
   "cell_type": "code",
   "execution_count": 8,
   "id": "1acd302f",
   "metadata": {
    "execution": {
     "iopub.execute_input": "2021-08-21T16:55:27.675171Z",
     "iopub.status.busy": "2021-08-21T16:55:27.674160Z",
     "iopub.status.idle": "2021-08-21T16:55:27.711888Z",
     "shell.execute_reply": "2021-08-21T16:55:27.711328Z",
     "shell.execute_reply.started": "2021-08-16T06:09:12.740704Z"
    },
    "papermill": {
     "duration": 0.093418,
     "end_time": "2021-08-21T16:55:27.712031",
     "exception": false,
     "start_time": "2021-08-21T16:55:27.618613",
     "status": "completed"
    },
    "tags": []
   },
   "outputs": [
    {
     "data": {
      "text/html": [
       "<div>\n",
       "<style scoped>\n",
       "    .dataframe tbody tr th:only-of-type {\n",
       "        vertical-align: middle;\n",
       "    }\n",
       "\n",
       "    .dataframe tbody tr th {\n",
       "        vertical-align: top;\n",
       "    }\n",
       "\n",
       "    .dataframe thead th {\n",
       "        text-align: right;\n",
       "    }\n",
       "</style>\n",
       "<table border=\"1\" class=\"dataframe\">\n",
       "  <thead>\n",
       "    <tr style=\"text-align: right;\">\n",
       "      <th></th>\n",
       "      <th>Rooms</th>\n",
       "      <th>Distance</th>\n",
       "      <th>Postcode</th>\n",
       "      <th>Bedroom2</th>\n",
       "      <th>Bathroom</th>\n",
       "      <th>Car</th>\n",
       "      <th>Landsize</th>\n",
       "      <th>BuildingArea</th>\n",
       "      <th>YearBuilt</th>\n",
       "      <th>Lattitude</th>\n",
       "      <th>Longtitude</th>\n",
       "      <th>Propertycount</th>\n",
       "    </tr>\n",
       "  </thead>\n",
       "  <tbody>\n",
       "    <tr>\n",
       "      <th>0</th>\n",
       "      <td>2</td>\n",
       "      <td>2.5</td>\n",
       "      <td>3067.0</td>\n",
       "      <td>2.0</td>\n",
       "      <td>1.0</td>\n",
       "      <td>1.0</td>\n",
       "      <td>202.0</td>\n",
       "      <td>NaN</td>\n",
       "      <td>NaN</td>\n",
       "      <td>-37.79960</td>\n",
       "      <td>144.99840</td>\n",
       "      <td>4019.0</td>\n",
       "    </tr>\n",
       "    <tr>\n",
       "      <th>1</th>\n",
       "      <td>2</td>\n",
       "      <td>2.5</td>\n",
       "      <td>3067.0</td>\n",
       "      <td>2.0</td>\n",
       "      <td>1.0</td>\n",
       "      <td>0.0</td>\n",
       "      <td>156.0</td>\n",
       "      <td>79.0</td>\n",
       "      <td>1900.0</td>\n",
       "      <td>-37.80790</td>\n",
       "      <td>144.99340</td>\n",
       "      <td>4019.0</td>\n",
       "    </tr>\n",
       "    <tr>\n",
       "      <th>2</th>\n",
       "      <td>3</td>\n",
       "      <td>2.5</td>\n",
       "      <td>3067.0</td>\n",
       "      <td>3.0</td>\n",
       "      <td>2.0</td>\n",
       "      <td>0.0</td>\n",
       "      <td>134.0</td>\n",
       "      <td>150.0</td>\n",
       "      <td>1900.0</td>\n",
       "      <td>-37.80930</td>\n",
       "      <td>144.99440</td>\n",
       "      <td>4019.0</td>\n",
       "    </tr>\n",
       "    <tr>\n",
       "      <th>3</th>\n",
       "      <td>3</td>\n",
       "      <td>2.5</td>\n",
       "      <td>3067.0</td>\n",
       "      <td>3.0</td>\n",
       "      <td>2.0</td>\n",
       "      <td>1.0</td>\n",
       "      <td>94.0</td>\n",
       "      <td>NaN</td>\n",
       "      <td>NaN</td>\n",
       "      <td>-37.79690</td>\n",
       "      <td>144.99690</td>\n",
       "      <td>4019.0</td>\n",
       "    </tr>\n",
       "    <tr>\n",
       "      <th>4</th>\n",
       "      <td>4</td>\n",
       "      <td>2.5</td>\n",
       "      <td>3067.0</td>\n",
       "      <td>3.0</td>\n",
       "      <td>1.0</td>\n",
       "      <td>2.0</td>\n",
       "      <td>120.0</td>\n",
       "      <td>142.0</td>\n",
       "      <td>2014.0</td>\n",
       "      <td>-37.80720</td>\n",
       "      <td>144.99410</td>\n",
       "      <td>4019.0</td>\n",
       "    </tr>\n",
       "    <tr>\n",
       "      <th>...</th>\n",
       "      <td>...</td>\n",
       "      <td>...</td>\n",
       "      <td>...</td>\n",
       "      <td>...</td>\n",
       "      <td>...</td>\n",
       "      <td>...</td>\n",
       "      <td>...</td>\n",
       "      <td>...</td>\n",
       "      <td>...</td>\n",
       "      <td>...</td>\n",
       "      <td>...</td>\n",
       "      <td>...</td>\n",
       "    </tr>\n",
       "    <tr>\n",
       "      <th>13575</th>\n",
       "      <td>4</td>\n",
       "      <td>16.7</td>\n",
       "      <td>3150.0</td>\n",
       "      <td>4.0</td>\n",
       "      <td>2.0</td>\n",
       "      <td>2.0</td>\n",
       "      <td>652.0</td>\n",
       "      <td>NaN</td>\n",
       "      <td>1981.0</td>\n",
       "      <td>-37.90562</td>\n",
       "      <td>145.16761</td>\n",
       "      <td>7392.0</td>\n",
       "    </tr>\n",
       "    <tr>\n",
       "      <th>13576</th>\n",
       "      <td>3</td>\n",
       "      <td>6.8</td>\n",
       "      <td>3016.0</td>\n",
       "      <td>3.0</td>\n",
       "      <td>2.0</td>\n",
       "      <td>2.0</td>\n",
       "      <td>333.0</td>\n",
       "      <td>133.0</td>\n",
       "      <td>1995.0</td>\n",
       "      <td>-37.85927</td>\n",
       "      <td>144.87904</td>\n",
       "      <td>6380.0</td>\n",
       "    </tr>\n",
       "    <tr>\n",
       "      <th>13577</th>\n",
       "      <td>3</td>\n",
       "      <td>6.8</td>\n",
       "      <td>3016.0</td>\n",
       "      <td>3.0</td>\n",
       "      <td>2.0</td>\n",
       "      <td>4.0</td>\n",
       "      <td>436.0</td>\n",
       "      <td>NaN</td>\n",
       "      <td>1997.0</td>\n",
       "      <td>-37.85274</td>\n",
       "      <td>144.88738</td>\n",
       "      <td>6380.0</td>\n",
       "    </tr>\n",
       "    <tr>\n",
       "      <th>13578</th>\n",
       "      <td>4</td>\n",
       "      <td>6.8</td>\n",
       "      <td>3016.0</td>\n",
       "      <td>4.0</td>\n",
       "      <td>1.0</td>\n",
       "      <td>5.0</td>\n",
       "      <td>866.0</td>\n",
       "      <td>157.0</td>\n",
       "      <td>1920.0</td>\n",
       "      <td>-37.85908</td>\n",
       "      <td>144.89299</td>\n",
       "      <td>6380.0</td>\n",
       "    </tr>\n",
       "    <tr>\n",
       "      <th>13579</th>\n",
       "      <td>4</td>\n",
       "      <td>6.3</td>\n",
       "      <td>3013.0</td>\n",
       "      <td>4.0</td>\n",
       "      <td>1.0</td>\n",
       "      <td>1.0</td>\n",
       "      <td>362.0</td>\n",
       "      <td>112.0</td>\n",
       "      <td>1920.0</td>\n",
       "      <td>-37.81188</td>\n",
       "      <td>144.88449</td>\n",
       "      <td>6543.0</td>\n",
       "    </tr>\n",
       "  </tbody>\n",
       "</table>\n",
       "<p>13580 rows × 12 columns</p>\n",
       "</div>"
      ],
      "text/plain": [
       "       Rooms  Distance  Postcode  Bedroom2  Bathroom  Car  Landsize  \\\n",
       "0          2       2.5    3067.0       2.0       1.0  1.0     202.0   \n",
       "1          2       2.5    3067.0       2.0       1.0  0.0     156.0   \n",
       "2          3       2.5    3067.0       3.0       2.0  0.0     134.0   \n",
       "3          3       2.5    3067.0       3.0       2.0  1.0      94.0   \n",
       "4          4       2.5    3067.0       3.0       1.0  2.0     120.0   \n",
       "...      ...       ...       ...       ...       ...  ...       ...   \n",
       "13575      4      16.7    3150.0       4.0       2.0  2.0     652.0   \n",
       "13576      3       6.8    3016.0       3.0       2.0  2.0     333.0   \n",
       "13577      3       6.8    3016.0       3.0       2.0  4.0     436.0   \n",
       "13578      4       6.8    3016.0       4.0       1.0  5.0     866.0   \n",
       "13579      4       6.3    3013.0       4.0       1.0  1.0     362.0   \n",
       "\n",
       "       BuildingArea  YearBuilt  Lattitude  Longtitude  Propertycount  \n",
       "0               NaN        NaN  -37.79960   144.99840         4019.0  \n",
       "1              79.0     1900.0  -37.80790   144.99340         4019.0  \n",
       "2             150.0     1900.0  -37.80930   144.99440         4019.0  \n",
       "3               NaN        NaN  -37.79690   144.99690         4019.0  \n",
       "4             142.0     2014.0  -37.80720   144.99410         4019.0  \n",
       "...             ...        ...        ...         ...            ...  \n",
       "13575           NaN     1981.0  -37.90562   145.16761         7392.0  \n",
       "13576         133.0     1995.0  -37.85927   144.87904         6380.0  \n",
       "13577           NaN     1997.0  -37.85274   144.88738         6380.0  \n",
       "13578         157.0     1920.0  -37.85908   144.89299         6380.0  \n",
       "13579         112.0     1920.0  -37.81188   144.88449         6543.0  \n",
       "\n",
       "[13580 rows x 12 columns]"
      ]
     },
     "execution_count": 8,
     "metadata": {},
     "output_type": "execute_result"
    }
   ],
   "source": [
    "X"
   ]
  },
  {
   "cell_type": "markdown",
   "id": "e3fa82cb",
   "metadata": {
    "papermill": {
     "duration": 0.04806,
     "end_time": "2021-08-21T16:55:27.807876",
     "exception": false,
     "start_time": "2021-08-21T16:55:27.759816",
     "status": "completed"
    },
    "tags": []
   },
   "source": [
    "But, here are so many missing values in our dataset and which is a problem! :(<br>\n",
    "Forget this, and more forward. Let's split the current dataset into **train** and **validation** set."
   ]
  },
  {
   "cell_type": "code",
   "execution_count": 9,
   "id": "2b667e84",
   "metadata": {
    "execution": {
     "iopub.execute_input": "2021-08-21T16:55:27.908977Z",
     "iopub.status.busy": "2021-08-21T16:55:27.907940Z",
     "iopub.status.idle": "2021-08-21T16:55:27.914401Z",
     "shell.execute_reply": "2021-08-21T16:55:27.914891Z",
     "shell.execute_reply.started": "2021-08-16T06:09:12.774347Z"
    },
    "papermill": {
     "duration": 0.05985,
     "end_time": "2021-08-21T16:55:27.915088",
     "exception": false,
     "start_time": "2021-08-21T16:55:27.855238",
     "status": "completed"
    },
    "tags": []
   },
   "outputs": [],
   "source": [
    "X_train, X_valid, y_train, y_valid = train_test_split(X, y, train_size = .8, test_size = .2, random_state = 0)"
   ]
  },
  {
   "cell_type": "markdown",
   "id": "01cc7513",
   "metadata": {
    "papermill": {
     "duration": 0.047728,
     "end_time": "2021-08-21T16:55:28.009928",
     "exception": false,
     "start_time": "2021-08-21T16:55:27.962200",
     "status": "completed"
    },
    "tags": []
   },
   "source": [
    "As most often we need to calculate our mean_absolute_error function, we're gonna define a function for it here!<br>\n",
    "**Note:** *n_estimators* is the number of trees you want to build before taking the maximum voting or averages of predictions of random forest.<br>\n",
    "Or, you may think it as the number of trees consisting the random forest."
   ]
  },
  {
   "cell_type": "code",
   "execution_count": 10,
   "id": "cf01066a",
   "metadata": {
    "execution": {
     "iopub.execute_input": "2021-08-21T16:55:28.109300Z",
     "iopub.status.busy": "2021-08-21T16:55:28.108383Z",
     "iopub.status.idle": "2021-08-21T16:55:28.310760Z",
     "shell.execute_reply": "2021-08-21T16:55:28.311260Z",
     "shell.execute_reply.started": "2021-08-16T06:09:12.782772Z"
    },
    "papermill": {
     "duration": 0.253935,
     "end_time": "2021-08-21T16:55:28.311449",
     "exception": false,
     "start_time": "2021-08-21T16:55:28.057514",
     "status": "completed"
    },
    "tags": []
   },
   "outputs": [],
   "source": [
    "from sklearn.ensemble import RandomForestRegressor\n",
    "from sklearn.metrics import mean_absolute_error\n",
    "\n",
    "# function returen absolute mean error of two columns\n",
    "def score_dataset(X_train, X_valid, y_train, y_valid):\n",
    "    model = RandomForestRegressor(n_estimators = 10, random_state = 0)\n",
    "    model.fit(X_train, y_train)\n",
    "    preds = model.predict(X_valid)\n",
    "    return mean_absolute_error(y_valid, preds)\n",
    "    \n",
    "    "
   ]
  },
  {
   "cell_type": "markdown",
   "id": "d487e436",
   "metadata": {
    "papermill": {
     "duration": 0.046621,
     "end_time": "2021-08-21T16:55:28.405308",
     "exception": false,
     "start_time": "2021-08-21T16:55:28.358687",
     "status": "completed"
    },
    "tags": []
   },
   "source": [
    "Now we're gonna deal with the missing values<br>\n",
    "# **Approach 1:** Drop Columns with Missing values"
   ]
  },
  {
   "cell_type": "code",
   "execution_count": 11,
   "id": "39e2bc0b",
   "metadata": {
    "execution": {
     "iopub.execute_input": "2021-08-21T16:55:28.506166Z",
     "iopub.status.busy": "2021-08-21T16:55:28.505213Z",
     "iopub.status.idle": "2021-08-21T16:55:28.534090Z",
     "shell.execute_reply": "2021-08-21T16:55:28.534539Z",
     "shell.execute_reply.started": "2021-08-16T06:09:12.791631Z"
    },
    "papermill": {
     "duration": 0.080583,
     "end_time": "2021-08-21T16:55:28.534782",
     "exception": false,
     "start_time": "2021-08-21T16:55:28.454199",
     "status": "completed"
    },
    "tags": []
   },
   "outputs": [
    {
     "data": {
      "text/html": [
       "<div>\n",
       "<style scoped>\n",
       "    .dataframe tbody tr th:only-of-type {\n",
       "        vertical-align: middle;\n",
       "    }\n",
       "\n",
       "    .dataframe tbody tr th {\n",
       "        vertical-align: top;\n",
       "    }\n",
       "\n",
       "    .dataframe thead th {\n",
       "        text-align: right;\n",
       "    }\n",
       "</style>\n",
       "<table border=\"1\" class=\"dataframe\">\n",
       "  <thead>\n",
       "    <tr style=\"text-align: right;\">\n",
       "      <th></th>\n",
       "      <th>Rooms</th>\n",
       "      <th>Distance</th>\n",
       "      <th>Postcode</th>\n",
       "      <th>Bedroom2</th>\n",
       "      <th>Bathroom</th>\n",
       "      <th>Car</th>\n",
       "      <th>Landsize</th>\n",
       "      <th>BuildingArea</th>\n",
       "      <th>YearBuilt</th>\n",
       "      <th>Lattitude</th>\n",
       "      <th>Longtitude</th>\n",
       "      <th>Propertycount</th>\n",
       "    </tr>\n",
       "  </thead>\n",
       "  <tbody>\n",
       "    <tr>\n",
       "      <th>12167</th>\n",
       "      <td>1</td>\n",
       "      <td>5.0</td>\n",
       "      <td>3182.0</td>\n",
       "      <td>1.0</td>\n",
       "      <td>1.0</td>\n",
       "      <td>1.0</td>\n",
       "      <td>0.0</td>\n",
       "      <td>NaN</td>\n",
       "      <td>1940.0</td>\n",
       "      <td>-37.85984</td>\n",
       "      <td>144.98670</td>\n",
       "      <td>13240.0</td>\n",
       "    </tr>\n",
       "    <tr>\n",
       "      <th>6524</th>\n",
       "      <td>2</td>\n",
       "      <td>8.0</td>\n",
       "      <td>3016.0</td>\n",
       "      <td>2.0</td>\n",
       "      <td>2.0</td>\n",
       "      <td>1.0</td>\n",
       "      <td>193.0</td>\n",
       "      <td>NaN</td>\n",
       "      <td>NaN</td>\n",
       "      <td>-37.85800</td>\n",
       "      <td>144.90050</td>\n",
       "      <td>6380.0</td>\n",
       "    </tr>\n",
       "    <tr>\n",
       "      <th>8413</th>\n",
       "      <td>3</td>\n",
       "      <td>12.6</td>\n",
       "      <td>3020.0</td>\n",
       "      <td>3.0</td>\n",
       "      <td>1.0</td>\n",
       "      <td>1.0</td>\n",
       "      <td>555.0</td>\n",
       "      <td>NaN</td>\n",
       "      <td>NaN</td>\n",
       "      <td>-37.79880</td>\n",
       "      <td>144.82200</td>\n",
       "      <td>3755.0</td>\n",
       "    </tr>\n",
       "    <tr>\n",
       "      <th>2919</th>\n",
       "      <td>3</td>\n",
       "      <td>13.0</td>\n",
       "      <td>3046.0</td>\n",
       "      <td>3.0</td>\n",
       "      <td>1.0</td>\n",
       "      <td>1.0</td>\n",
       "      <td>265.0</td>\n",
       "      <td>NaN</td>\n",
       "      <td>1995.0</td>\n",
       "      <td>-37.70830</td>\n",
       "      <td>144.91580</td>\n",
       "      <td>8870.0</td>\n",
       "    </tr>\n",
       "    <tr>\n",
       "      <th>6043</th>\n",
       "      <td>3</td>\n",
       "      <td>13.3</td>\n",
       "      <td>3020.0</td>\n",
       "      <td>3.0</td>\n",
       "      <td>1.0</td>\n",
       "      <td>2.0</td>\n",
       "      <td>673.0</td>\n",
       "      <td>673.0</td>\n",
       "      <td>1970.0</td>\n",
       "      <td>-37.76230</td>\n",
       "      <td>144.82720</td>\n",
       "      <td>4217.0</td>\n",
       "    </tr>\n",
       "    <tr>\n",
       "      <th>...</th>\n",
       "      <td>...</td>\n",
       "      <td>...</td>\n",
       "      <td>...</td>\n",
       "      <td>...</td>\n",
       "      <td>...</td>\n",
       "      <td>...</td>\n",
       "      <td>...</td>\n",
       "      <td>...</td>\n",
       "      <td>...</td>\n",
       "      <td>...</td>\n",
       "      <td>...</td>\n",
       "      <td>...</td>\n",
       "    </tr>\n",
       "    <tr>\n",
       "      <th>13123</th>\n",
       "      <td>3</td>\n",
       "      <td>5.2</td>\n",
       "      <td>3056.0</td>\n",
       "      <td>3.0</td>\n",
       "      <td>1.0</td>\n",
       "      <td>2.0</td>\n",
       "      <td>212.0</td>\n",
       "      <td>NaN</td>\n",
       "      <td>NaN</td>\n",
       "      <td>-37.77695</td>\n",
       "      <td>144.95785</td>\n",
       "      <td>11918.0</td>\n",
       "    </tr>\n",
       "    <tr>\n",
       "      <th>3264</th>\n",
       "      <td>3</td>\n",
       "      <td>10.5</td>\n",
       "      <td>3081.0</td>\n",
       "      <td>3.0</td>\n",
       "      <td>1.0</td>\n",
       "      <td>1.0</td>\n",
       "      <td>748.0</td>\n",
       "      <td>101.0</td>\n",
       "      <td>1950.0</td>\n",
       "      <td>-37.74160</td>\n",
       "      <td>145.04810</td>\n",
       "      <td>2947.0</td>\n",
       "    </tr>\n",
       "    <tr>\n",
       "      <th>9845</th>\n",
       "      <td>4</td>\n",
       "      <td>6.7</td>\n",
       "      <td>3058.0</td>\n",
       "      <td>4.0</td>\n",
       "      <td>2.0</td>\n",
       "      <td>2.0</td>\n",
       "      <td>441.0</td>\n",
       "      <td>255.0</td>\n",
       "      <td>2002.0</td>\n",
       "      <td>-37.73572</td>\n",
       "      <td>144.97256</td>\n",
       "      <td>11204.0</td>\n",
       "    </tr>\n",
       "    <tr>\n",
       "      <th>10799</th>\n",
       "      <td>3</td>\n",
       "      <td>12.0</td>\n",
       "      <td>3073.0</td>\n",
       "      <td>3.0</td>\n",
       "      <td>1.0</td>\n",
       "      <td>1.0</td>\n",
       "      <td>606.0</td>\n",
       "      <td>NaN</td>\n",
       "      <td>NaN</td>\n",
       "      <td>-37.72057</td>\n",
       "      <td>145.02615</td>\n",
       "      <td>21650.0</td>\n",
       "    </tr>\n",
       "    <tr>\n",
       "      <th>2732</th>\n",
       "      <td>4</td>\n",
       "      <td>6.4</td>\n",
       "      <td>3011.0</td>\n",
       "      <td>4.0</td>\n",
       "      <td>2.0</td>\n",
       "      <td>1.0</td>\n",
       "      <td>319.0</td>\n",
       "      <td>130.0</td>\n",
       "      <td>1915.0</td>\n",
       "      <td>-37.79430</td>\n",
       "      <td>144.88750</td>\n",
       "      <td>7570.0</td>\n",
       "    </tr>\n",
       "  </tbody>\n",
       "</table>\n",
       "<p>10864 rows × 12 columns</p>\n",
       "</div>"
      ],
      "text/plain": [
       "       Rooms  Distance  Postcode  Bedroom2  Bathroom  Car  Landsize  \\\n",
       "12167      1       5.0    3182.0       1.0       1.0  1.0       0.0   \n",
       "6524       2       8.0    3016.0       2.0       2.0  1.0     193.0   \n",
       "8413       3      12.6    3020.0       3.0       1.0  1.0     555.0   \n",
       "2919       3      13.0    3046.0       3.0       1.0  1.0     265.0   \n",
       "6043       3      13.3    3020.0       3.0       1.0  2.0     673.0   \n",
       "...      ...       ...       ...       ...       ...  ...       ...   \n",
       "13123      3       5.2    3056.0       3.0       1.0  2.0     212.0   \n",
       "3264       3      10.5    3081.0       3.0       1.0  1.0     748.0   \n",
       "9845       4       6.7    3058.0       4.0       2.0  2.0     441.0   \n",
       "10799      3      12.0    3073.0       3.0       1.0  1.0     606.0   \n",
       "2732       4       6.4    3011.0       4.0       2.0  1.0     319.0   \n",
       "\n",
       "       BuildingArea  YearBuilt  Lattitude  Longtitude  Propertycount  \n",
       "12167           NaN     1940.0  -37.85984   144.98670        13240.0  \n",
       "6524            NaN        NaN  -37.85800   144.90050         6380.0  \n",
       "8413            NaN        NaN  -37.79880   144.82200         3755.0  \n",
       "2919            NaN     1995.0  -37.70830   144.91580         8870.0  \n",
       "6043          673.0     1970.0  -37.76230   144.82720         4217.0  \n",
       "...             ...        ...        ...         ...            ...  \n",
       "13123           NaN        NaN  -37.77695   144.95785        11918.0  \n",
       "3264          101.0     1950.0  -37.74160   145.04810         2947.0  \n",
       "9845          255.0     2002.0  -37.73572   144.97256        11204.0  \n",
       "10799           NaN        NaN  -37.72057   145.02615        21650.0  \n",
       "2732          130.0     1915.0  -37.79430   144.88750         7570.0  \n",
       "\n",
       "[10864 rows x 12 columns]"
      ]
     },
     "execution_count": 11,
     "metadata": {},
     "output_type": "execute_result"
    }
   ],
   "source": [
    "# just have a look to the datasetn to see NaN or missing values\n",
    "X_train"
   ]
  },
  {
   "cell_type": "code",
   "execution_count": 12,
   "id": "20d13c54",
   "metadata": {
    "execution": {
     "iopub.execute_input": "2021-08-21T16:55:28.634467Z",
     "iopub.status.busy": "2021-08-21T16:55:28.633505Z",
     "iopub.status.idle": "2021-08-21T16:55:28.645147Z",
     "shell.execute_reply": "2021-08-21T16:55:28.644478Z",
     "shell.execute_reply.started": "2021-08-16T06:09:12.830621Z"
    },
    "papermill": {
     "duration": 0.062765,
     "end_time": "2021-08-21T16:55:28.645296",
     "exception": false,
     "start_time": "2021-08-21T16:55:28.582531",
     "status": "completed"
    },
    "tags": []
   },
   "outputs": [
    {
     "name": "stdout",
     "output_type": "stream",
     "text": [
      "12167     True\n",
      "6524      True\n",
      "8413      True\n",
      "2919      True\n",
      "6043     False\n",
      "         ...  \n",
      "13123     True\n",
      "3264     False\n",
      "9845     False\n",
      "10799     True\n",
      "2732     False\n",
      "Name: BuildingArea, Length: 10864, dtype: bool\n",
      "Total missing values 5156\n"
     ]
    }
   ],
   "source": [
    "# Fist we'll see how it works for a single column \n",
    "# actually, we're going to see if any missing value(NULL or NaN) present or not\n",
    "# this line of code below represents missing values as False\n",
    "print(X_train['BuildingArea'].isnull())\n",
    "# we can also print the numner of missing values\n",
    "print(\"Total missing values\", sum(X_train['BuildingArea'].isnull()))"
   ]
  },
  {
   "cell_type": "markdown",
   "id": "93801f04",
   "metadata": {
    "papermill": {
     "duration": 0.048264,
     "end_time": "2021-08-21T16:55:28.741773",
     "exception": false,
     "start_time": "2021-08-21T16:55:28.693509",
     "status": "completed"
    },
    "tags": []
   },
   "source": [
    "See! Mssing values showed as *True* and others have *False*<br>\n",
    "and there are 5156 missing values in this column. Now, just use *.any()* which shows **True** if *missing values > 0*"
   ]
  },
  {
   "cell_type": "code",
   "execution_count": 13,
   "id": "296a9ff2",
   "metadata": {
    "execution": {
     "iopub.execute_input": "2021-08-21T16:55:28.845689Z",
     "iopub.status.busy": "2021-08-21T16:55:28.844910Z",
     "iopub.status.idle": "2021-08-21T16:55:28.848134Z",
     "shell.execute_reply": "2021-08-21T16:55:28.848630Z",
     "shell.execute_reply.started": "2021-08-16T06:09:12.84018Z"
    },
    "papermill": {
     "duration": 0.059279,
     "end_time": "2021-08-21T16:55:28.848803",
     "exception": false,
     "start_time": "2021-08-21T16:55:28.789524",
     "status": "completed"
    },
    "tags": []
   },
   "outputs": [
    {
     "data": {
      "text/plain": [
       "True"
      ]
     },
     "execution_count": 13,
     "metadata": {},
     "output_type": "execute_result"
    }
   ],
   "source": [
    "X_train[\"BuildingArea\"].isnull().any()"
   ]
  },
  {
   "cell_type": "markdown",
   "id": "784b6b76",
   "metadata": {
    "papermill": {
     "duration": 0.048536,
     "end_time": "2021-08-21T16:55:28.945919",
     "exception": false,
     "start_time": "2021-08-21T16:55:28.897383",
     "status": "completed"
    },
    "tags": []
   },
   "source": [
    "**Yes**! Let's do it on our dataset, right!"
   ]
  },
  {
   "cell_type": "code",
   "execution_count": 14,
   "id": "5375942c",
   "metadata": {
    "execution": {
     "iopub.execute_input": "2021-08-21T16:55:29.046720Z",
     "iopub.status.busy": "2021-08-21T16:55:29.046050Z",
     "iopub.status.idle": "2021-08-21T16:55:29.054886Z",
     "shell.execute_reply": "2021-08-21T16:55:29.055387Z",
     "shell.execute_reply.started": "2021-08-16T06:09:12.856066Z"
    },
    "papermill": {
     "duration": 0.061142,
     "end_time": "2021-08-21T16:55:29.055557",
     "exception": false,
     "start_time": "2021-08-21T16:55:28.994415",
     "status": "completed"
    },
    "tags": []
   },
   "outputs": [
    {
     "data": {
      "text/plain": [
       "['Car', 'BuildingArea', 'YearBuilt']"
      ]
     },
     "execution_count": 14,
     "metadata": {},
     "output_type": "execute_result"
    }
   ],
   "source": [
    "# you're gonna get the names of the columns containing any single missing value\n",
    "cols_with_missing = [col for col in X_train.columns if X_train[col].isnull().any()]\n",
    "cols_with_missing"
   ]
  },
  {
   "cell_type": "markdown",
   "id": "374245b8",
   "metadata": {
    "papermill": {
     "duration": 0.049593,
     "end_time": "2021-08-21T16:55:29.154321",
     "exception": false,
     "start_time": "2021-08-21T16:55:29.104728",
     "status": "completed"
    },
    "tags": []
   },
   "source": [
    "See,  these three columns are containing one or more missing values.<br>\n",
    "So, just drop those columns and calculate *mean_absolute_error* again."
   ]
  },
  {
   "cell_type": "code",
   "execution_count": 15,
   "id": "3dd18a4d",
   "metadata": {
    "execution": {
     "iopub.execute_input": "2021-08-21T16:55:29.262920Z",
     "iopub.status.busy": "2021-08-21T16:55:29.262004Z",
     "iopub.status.idle": "2021-08-21T16:55:29.265781Z",
     "shell.execute_reply": "2021-08-21T16:55:29.266268Z",
     "shell.execute_reply.started": "2021-08-16T06:09:12.871817Z"
    },
    "papermill": {
     "duration": 0.063105,
     "end_time": "2021-08-21T16:55:29.266432",
     "exception": false,
     "start_time": "2021-08-21T16:55:29.203327",
     "status": "completed"
    },
    "tags": []
   },
   "outputs": [
    {
     "data": {
      "text/plain": [
       "9"
      ]
     },
     "execution_count": 15,
     "metadata": {},
     "output_type": "execute_result"
    }
   ],
   "source": [
    "reduced_X_train = X_train.drop(cols_with_missing, axis = 1)\n",
    "reduced_X_valid = X_valid.drop(cols_with_missing, axis = 1)\n",
    "# let's print how many columns are ramaning now!\n",
    "reduced_X_train.columns.size"
   ]
  },
  {
   "cell_type": "code",
   "execution_count": 16,
   "id": "bd899828",
   "metadata": {
    "execution": {
     "iopub.execute_input": "2021-08-21T16:55:29.368044Z",
     "iopub.status.busy": "2021-08-21T16:55:29.367066Z",
     "iopub.status.idle": "2021-08-21T16:55:29.915945Z",
     "shell.execute_reply": "2021-08-21T16:55:29.915087Z",
     "shell.execute_reply.started": "2021-08-16T06:09:12.88306Z"
    },
    "papermill": {
     "duration": 0.60118,
     "end_time": "2021-08-21T16:55:29.916309",
     "exception": false,
     "start_time": "2021-08-21T16:55:29.315129",
     "status": "completed"
    },
    "tags": []
   },
   "outputs": [
    {
     "name": "stdout",
     "output_type": "stream",
     "text": [
      "MAE from Approach 1: Drop Columns with Missing values\n",
      "183550.22137772635\n"
     ]
    }
   ],
   "source": [
    "# so let's ca;culate the mean error\n",
    "print(\"MAE from Approach 1: Drop Columns with Missing values\")\n",
    "print(score_dataset(reduced_X_train, reduced_X_valid, y_train, y_valid))"
   ]
  },
  {
   "cell_type": "markdown",
   "id": "892b65a5",
   "metadata": {
    "papermill": {
     "duration": 0.050299,
     "end_time": "2021-08-21T16:55:30.019047",
     "exception": false,
     "start_time": "2021-08-21T16:55:29.968748",
     "status": "completed"
    },
    "tags": []
   },
   "source": [
    "Now,  we're going to see the second approach.\n",
    "# **Approach 2**: Imputation"
   ]
  },
  {
   "cell_type": "markdown",
   "id": "fa24350b",
   "metadata": {
    "papermill": {
     "duration": 0.052085,
     "end_time": "2021-08-21T16:55:30.122205",
     "exception": false,
     "start_time": "2021-08-21T16:55:30.070120",
     "status": "completed"
    },
    "tags": []
   },
   "source": [
    "To learn about how imputation actually works, just go through this link https://scikit-learn.org/stable/modules/impute.html<br>\n",
    "However, we're going to practice it before implement as it's kinda new to us, right!"
   ]
  },
  {
   "cell_type": "code",
   "execution_count": 17,
   "id": "684e9a51",
   "metadata": {
    "execution": {
     "iopub.execute_input": "2021-08-21T16:55:30.230187Z",
     "iopub.status.busy": "2021-08-21T16:55:30.229392Z",
     "iopub.status.idle": "2021-08-21T16:55:30.241049Z",
     "shell.execute_reply": "2021-08-21T16:55:30.241727Z",
     "shell.execute_reply.started": "2021-08-16T06:09:13.418782Z"
    },
    "papermill": {
     "duration": 0.067964,
     "end_time": "2021-08-21T16:55:30.241930",
     "exception": false,
     "start_time": "2021-08-21T16:55:30.173966",
     "status": "completed"
    },
    "tags": []
   },
   "outputs": [
    {
     "data": {
      "text/plain": [
       "array([[ 1.,  2.],\n",
       "       [nan,  3.],\n",
       "       [ 2.,  3.]])"
      ]
     },
     "execution_count": 17,
     "metadata": {},
     "output_type": "execute_result"
    }
   ],
   "source": [
    "# let's import it from sklearn libranry\n",
    "from sklearn.impute import SimpleImputer\n",
    "import numpy as np\n",
    "# declare a numpy array\n",
    "train_array = np.array([[1, 2], [np.nan, 3], [2, 3]])\n",
    "train_array"
   ]
  },
  {
   "cell_type": "markdown",
   "id": "d37d03a3",
   "metadata": {
    "papermill": {
     "duration": 0.051775,
     "end_time": "2021-08-21T16:55:30.345179",
     "exception": false,
     "start_time": "2021-08-21T16:55:30.293404",
     "status": "completed"
    },
    "tags": []
   },
   "source": [
    "See, in our numpy array, we have the 'nan' as missing value.<br>\n",
    "Let's define an imputer on mssing data with the strategy *mean*"
   ]
  },
  {
   "cell_type": "code",
   "execution_count": 18,
   "id": "53cfdb74",
   "metadata": {
    "execution": {
     "iopub.execute_input": "2021-08-21T16:55:30.451167Z",
     "iopub.status.busy": "2021-08-21T16:55:30.450120Z",
     "iopub.status.idle": "2021-08-21T16:55:30.461764Z",
     "shell.execute_reply": "2021-08-21T16:55:30.462291Z",
     "shell.execute_reply.started": "2021-08-16T06:09:13.427078Z"
    },
    "papermill": {
     "duration": 0.06639,
     "end_time": "2021-08-21T16:55:30.462491",
     "exception": false,
     "start_time": "2021-08-21T16:55:30.396101",
     "status": "completed"
    },
    "tags": []
   },
   "outputs": [
    {
     "data": {
      "text/plain": [
       "SimpleImputer()"
      ]
     },
     "execution_count": 18,
     "metadata": {},
     "output_type": "execute_result"
    }
   ],
   "source": [
    "imp = SimpleImputer(missing_values = np.nan, strategy = 'mean')\n",
    "# and fit the imputer on train_array we have just declared\n",
    "imp.fit(train_array)"
   ]
  },
  {
   "cell_type": "markdown",
   "id": "125c0df6",
   "metadata": {
    "papermill": {
     "duration": 0.050743,
     "end_time": "2021-08-21T16:55:30.563853",
     "exception": false,
     "start_time": "2021-08-21T16:55:30.513110",
     "status": "completed"
    },
    "tags": []
   },
   "source": [
    "So, we see the imputer has been created as **SimpleImputer()**<br>\n",
    "As the imputer creation is done, we can  use it for our further use on others."
   ]
  },
  {
   "cell_type": "code",
   "execution_count": 19,
   "id": "aab82d6c",
   "metadata": {
    "execution": {
     "iopub.execute_input": "2021-08-21T16:55:30.672445Z",
     "iopub.status.busy": "2021-08-21T16:55:30.671402Z",
     "iopub.status.idle": "2021-08-21T16:55:30.678909Z",
     "shell.execute_reply": "2021-08-21T16:55:30.678368Z",
     "shell.execute_reply.started": "2021-08-16T06:09:13.441278Z"
    },
    "papermill": {
     "duration": 0.062305,
     "end_time": "2021-08-21T16:55:30.679067",
     "exception": false,
     "start_time": "2021-08-21T16:55:30.616762",
     "status": "completed"
    },
    "tags": []
   },
   "outputs": [
    {
     "data": {
      "text/plain": [
       "array([[1. , 2. ],\n",
       "       [1.5, 3. ],\n",
       "       [2. , 3. ]])"
      ]
     },
     "execution_count": 19,
     "metadata": {},
     "output_type": "execute_result"
    }
   ],
   "source": [
    "# so now we're gonna transfornm our train_array with the inmputer ans replace 'nan' with mean of the entire column\n",
    "imp.transform(train_array)"
   ]
  },
  {
   "cell_type": "markdown",
   "id": "b9e9d77f",
   "metadata": {
    "papermill": {
     "duration": 0.050306,
     "end_time": "2021-08-21T16:55:30.780469",
     "exception": false,
     "start_time": "2021-08-21T16:55:30.730163",
     "status": "completed"
    },
    "tags": []
   },
   "source": [
    "As we already have the **SimpleImputer**() let's use it on another data"
   ]
  },
  {
   "cell_type": "code",
   "execution_count": 20,
   "id": "e4b1f14b",
   "metadata": {
    "execution": {
     "iopub.execute_input": "2021-08-21T16:55:30.890379Z",
     "iopub.status.busy": "2021-08-21T16:55:30.889387Z",
     "iopub.status.idle": "2021-08-21T16:55:30.894437Z",
     "shell.execute_reply": "2021-08-21T16:55:30.893873Z",
     "shell.execute_reply.started": "2021-08-16T06:09:13.452893Z"
    },
    "papermill": {
     "duration": 0.062315,
     "end_time": "2021-08-21T16:55:30.894571",
     "exception": false,
     "start_time": "2021-08-21T16:55:30.832256",
     "status": "completed"
    },
    "tags": []
   },
   "outputs": [
    {
     "data": {
      "text/plain": [
       "array([[nan,  2.],\n",
       "       [ 6., nan],\n",
       "       [ 7.,  6.]])"
      ]
     },
     "execution_count": 20,
     "metadata": {},
     "output_type": "execute_result"
    }
   ],
   "source": [
    "test_array = np.array([[np.nan, 2], [6, np.nan], [7, 6]])\n",
    "test_array"
   ]
  },
  {
   "cell_type": "code",
   "execution_count": 21,
   "id": "092c704e",
   "metadata": {
    "execution": {
     "iopub.execute_input": "2021-08-21T16:55:31.004145Z",
     "iopub.status.busy": "2021-08-21T16:55:31.003325Z",
     "iopub.status.idle": "2021-08-21T16:55:31.007451Z",
     "shell.execute_reply": "2021-08-21T16:55:31.006940Z",
     "shell.execute_reply.started": "2021-08-16T06:09:13.463164Z"
    },
    "papermill": {
     "duration": 0.062032,
     "end_time": "2021-08-21T16:55:31.007603",
     "exception": false,
     "start_time": "2021-08-21T16:55:30.945571",
     "status": "completed"
    },
    "tags": []
   },
   "outputs": [
    {
     "data": {
      "text/plain": [
       "array([[1.5       , 2.        ],\n",
       "       [6.        , 2.66666667],\n",
       "       [7.        , 6.        ]])"
      ]
     },
     "execution_count": 21,
     "metadata": {},
     "output_type": "execute_result"
    }
   ],
   "source": [
    "imp.transform(test_array)"
   ]
  },
  {
   "cell_type": "markdown",
   "id": "4b55aba9",
   "metadata": {
    "papermill": {
     "duration": 0.052177,
     "end_time": "2021-08-21T16:55:31.112209",
     "exception": false,
     "start_time": "2021-08-21T16:55:31.060032",
     "status": "completed"
    },
    "tags": []
   },
   "source": [
    "Simliarly, we can use this with *median* strategy"
   ]
  },
  {
   "cell_type": "code",
   "execution_count": 22,
   "id": "2c8923a4",
   "metadata": {
    "execution": {
     "iopub.execute_input": "2021-08-21T16:55:31.220661Z",
     "iopub.status.busy": "2021-08-21T16:55:31.219961Z",
     "iopub.status.idle": "2021-08-21T16:55:31.225812Z",
     "shell.execute_reply": "2021-08-21T16:55:31.226379Z",
     "shell.execute_reply.started": "2021-08-16T06:09:13.474478Z"
    },
    "papermill": {
     "duration": 0.063029,
     "end_time": "2021-08-21T16:55:31.226537",
     "exception": false,
     "start_time": "2021-08-21T16:55:31.163508",
     "status": "completed"
    },
    "tags": []
   },
   "outputs": [
    {
     "data": {
      "text/plain": [
       "SimpleImputer(strategy='median')"
      ]
     },
     "execution_count": 22,
     "metadata": {},
     "output_type": "execute_result"
    }
   ],
   "source": [
    "imp = SimpleImputer(missing_values = np.nan, strategy = 'median')\n",
    "imp.fit(test_array)"
   ]
  },
  {
   "cell_type": "code",
   "execution_count": 23,
   "id": "826284c6",
   "metadata": {
    "execution": {
     "iopub.execute_input": "2021-08-21T16:55:31.333484Z",
     "iopub.status.busy": "2021-08-21T16:55:31.332887Z",
     "iopub.status.idle": "2021-08-21T16:55:31.339262Z",
     "shell.execute_reply": "2021-08-21T16:55:31.339935Z",
     "shell.execute_reply.started": "2021-08-16T06:09:13.486992Z"
    },
    "papermill": {
     "duration": 0.061641,
     "end_time": "2021-08-21T16:55:31.340111",
     "exception": false,
     "start_time": "2021-08-21T16:55:31.278470",
     "status": "completed"
    },
    "tags": []
   },
   "outputs": [
    {
     "data": {
      "text/plain": [
       "array([[6.5, 2. ],\n",
       "       [6. , 4. ],\n",
       "       [7. , 6. ]])"
      ]
     },
     "execution_count": 23,
     "metadata": {},
     "output_type": "execute_result"
    }
   ],
   "source": [
    "imp.transform(test_array)"
   ]
  },
  {
   "cell_type": "markdown",
   "id": "94c2312a",
   "metadata": {
    "papermill": {
     "duration": 0.051983,
     "end_time": "2021-08-21T16:55:31.444513",
     "exception": false,
     "start_time": "2021-08-21T16:55:31.392530",
     "status": "completed"
    },
    "tags": []
   },
   "source": [
    "Another thing, if we want both the *.fit()* and *.transform()* work together,  then we just use *fit_transform()*<br>\n",
    "rather than  using them individully!"
   ]
  },
  {
   "cell_type": "code",
   "execution_count": 24,
   "id": "7dee561e",
   "metadata": {
    "execution": {
     "iopub.execute_input": "2021-08-21T16:55:31.552951Z",
     "iopub.status.busy": "2021-08-21T16:55:31.552314Z",
     "iopub.status.idle": "2021-08-21T16:55:31.559409Z",
     "shell.execute_reply": "2021-08-21T16:55:31.560003Z",
     "shell.execute_reply.started": "2021-08-16T06:09:13.496462Z"
    },
    "papermill": {
     "duration": 0.063033,
     "end_time": "2021-08-21T16:55:31.560169",
     "exception": false,
     "start_time": "2021-08-21T16:55:31.497136",
     "status": "completed"
    },
    "tags": []
   },
   "outputs": [
    {
     "data": {
      "text/plain": [
       "array([[6.5, 2. ],\n",
       "       [6. , 4. ],\n",
       "       [7. , 6. ]])"
      ]
     },
     "execution_count": 24,
     "metadata": {},
     "output_type": "execute_result"
    }
   ],
   "source": [
    "# we're taking the same 'test_array' which we did previously\n",
    "imp = SimpleImputer(missing_values = np.nan, strategy = 'mean')\n",
    "imp.fit_transform(test_array)"
   ]
  },
  {
   "cell_type": "markdown",
   "id": "73f9668b",
   "metadata": {
    "papermill": {
     "duration": 0.052094,
     "end_time": "2021-08-21T16:55:31.664381",
     "exception": false,
     "start_time": "2021-08-21T16:55:31.612287",
     "status": "completed"
    },
    "tags": []
   },
   "source": [
    "**Wow!** see how this works!<br>\n",
    "Let's do it on our dataset on which we're working off."
   ]
  },
  {
   "cell_type": "code",
   "execution_count": 25,
   "id": "8b7406d5",
   "metadata": {
    "execution": {
     "iopub.execute_input": "2021-08-21T16:55:31.772017Z",
     "iopub.status.busy": "2021-08-21T16:55:31.771380Z",
     "iopub.status.idle": "2021-08-21T16:55:31.775142Z",
     "shell.execute_reply": "2021-08-21T16:55:31.775708Z",
     "shell.execute_reply.started": "2021-08-16T06:09:13.507025Z"
    },
    "papermill": {
     "duration": 0.059483,
     "end_time": "2021-08-21T16:55:31.775870",
     "exception": false,
     "start_time": "2021-08-21T16:55:31.716387",
     "status": "completed"
    },
    "tags": []
   },
   "outputs": [],
   "source": [
    "# we're not passing anything, so the default is strategy = 'mean'\n",
    "my_imputer = SimpleImputer()"
   ]
  },
  {
   "cell_type": "code",
   "execution_count": 26,
   "id": "d47b6551",
   "metadata": {
    "execution": {
     "iopub.execute_input": "2021-08-21T16:55:31.885458Z",
     "iopub.status.busy": "2021-08-21T16:55:31.884828Z",
     "iopub.status.idle": "2021-08-21T16:55:31.897559Z",
     "shell.execute_reply": "2021-08-21T16:55:31.898089Z",
     "shell.execute_reply.started": "2021-08-16T06:09:13.515781Z"
    },
    "papermill": {
     "duration": 0.068638,
     "end_time": "2021-08-21T16:55:31.898255",
     "exception": false,
     "start_time": "2021-08-21T16:55:31.829617",
     "status": "completed"
    },
    "tags": []
   },
   "outputs": [],
   "source": [
    "imputed_X_train = pd.DataFrame(my_imputer.fit_transform(X_train))"
   ]
  },
  {
   "cell_type": "markdown",
   "id": "7ee4c367",
   "metadata": {
    "papermill": {
     "duration": 0.051701,
     "end_time": "2021-08-21T16:55:32.002203",
     "exception": false,
     "start_time": "2021-08-21T16:55:31.950502",
     "status": "completed"
    },
    "tags": []
   },
   "source": [
    "But, we wont do *.fit()* on validation data as this one will be for the test purpose."
   ]
  },
  {
   "cell_type": "code",
   "execution_count": 27,
   "id": "ee94dfb7",
   "metadata": {
    "execution": {
     "iopub.execute_input": "2021-08-21T16:55:32.110390Z",
     "iopub.status.busy": "2021-08-21T16:55:32.109783Z",
     "iopub.status.idle": "2021-08-21T16:55:32.117227Z",
     "shell.execute_reply": "2021-08-21T16:55:32.117845Z",
     "shell.execute_reply.started": "2021-08-16T06:09:13.536567Z"
    },
    "papermill": {
     "duration": 0.062957,
     "end_time": "2021-08-21T16:55:32.118008",
     "exception": false,
     "start_time": "2021-08-21T16:55:32.055051",
     "status": "completed"
    },
    "tags": []
   },
   "outputs": [],
   "source": [
    "imputed_X_valid = pd.DataFrame(my_imputer.transform(X_valid))"
   ]
  },
  {
   "cell_type": "code",
   "execution_count": 28,
   "id": "8305c2ae",
   "metadata": {
    "execution": {
     "iopub.execute_input": "2021-08-21T16:55:32.226717Z",
     "iopub.status.busy": "2021-08-21T16:55:32.226062Z",
     "iopub.status.idle": "2021-08-21T16:55:32.254423Z",
     "shell.execute_reply": "2021-08-21T16:55:32.254972Z",
     "shell.execute_reply.started": "2021-08-16T06:09:13.546181Z"
    },
    "papermill": {
     "duration": 0.084306,
     "end_time": "2021-08-21T16:55:32.255145",
     "exception": false,
     "start_time": "2021-08-21T16:55:32.170839",
     "status": "completed"
    },
    "tags": []
   },
   "outputs": [
    {
     "data": {
      "text/html": [
       "<div>\n",
       "<style scoped>\n",
       "    .dataframe tbody tr th:only-of-type {\n",
       "        vertical-align: middle;\n",
       "    }\n",
       "\n",
       "    .dataframe tbody tr th {\n",
       "        vertical-align: top;\n",
       "    }\n",
       "\n",
       "    .dataframe thead th {\n",
       "        text-align: right;\n",
       "    }\n",
       "</style>\n",
       "<table border=\"1\" class=\"dataframe\">\n",
       "  <thead>\n",
       "    <tr style=\"text-align: right;\">\n",
       "      <th></th>\n",
       "      <th>0</th>\n",
       "      <th>1</th>\n",
       "      <th>2</th>\n",
       "      <th>3</th>\n",
       "      <th>4</th>\n",
       "      <th>5</th>\n",
       "      <th>6</th>\n",
       "      <th>7</th>\n",
       "      <th>8</th>\n",
       "      <th>9</th>\n",
       "      <th>10</th>\n",
       "      <th>11</th>\n",
       "    </tr>\n",
       "  </thead>\n",
       "  <tbody>\n",
       "    <tr>\n",
       "      <th>0</th>\n",
       "      <td>1.0</td>\n",
       "      <td>5.0</td>\n",
       "      <td>3182.0</td>\n",
       "      <td>1.0</td>\n",
       "      <td>1.0</td>\n",
       "      <td>1.0</td>\n",
       "      <td>0.0</td>\n",
       "      <td>153.764119</td>\n",
       "      <td>1940.000000</td>\n",
       "      <td>-37.85984</td>\n",
       "      <td>144.98670</td>\n",
       "      <td>13240.0</td>\n",
       "    </tr>\n",
       "    <tr>\n",
       "      <th>1</th>\n",
       "      <td>2.0</td>\n",
       "      <td>8.0</td>\n",
       "      <td>3016.0</td>\n",
       "      <td>2.0</td>\n",
       "      <td>2.0</td>\n",
       "      <td>1.0</td>\n",
       "      <td>193.0</td>\n",
       "      <td>153.764119</td>\n",
       "      <td>1964.839866</td>\n",
       "      <td>-37.85800</td>\n",
       "      <td>144.90050</td>\n",
       "      <td>6380.0</td>\n",
       "    </tr>\n",
       "    <tr>\n",
       "      <th>2</th>\n",
       "      <td>3.0</td>\n",
       "      <td>12.6</td>\n",
       "      <td>3020.0</td>\n",
       "      <td>3.0</td>\n",
       "      <td>1.0</td>\n",
       "      <td>1.0</td>\n",
       "      <td>555.0</td>\n",
       "      <td>153.764119</td>\n",
       "      <td>1964.839866</td>\n",
       "      <td>-37.79880</td>\n",
       "      <td>144.82200</td>\n",
       "      <td>3755.0</td>\n",
       "    </tr>\n",
       "    <tr>\n",
       "      <th>3</th>\n",
       "      <td>3.0</td>\n",
       "      <td>13.0</td>\n",
       "      <td>3046.0</td>\n",
       "      <td>3.0</td>\n",
       "      <td>1.0</td>\n",
       "      <td>1.0</td>\n",
       "      <td>265.0</td>\n",
       "      <td>153.764119</td>\n",
       "      <td>1995.000000</td>\n",
       "      <td>-37.70830</td>\n",
       "      <td>144.91580</td>\n",
       "      <td>8870.0</td>\n",
       "    </tr>\n",
       "    <tr>\n",
       "      <th>4</th>\n",
       "      <td>3.0</td>\n",
       "      <td>13.3</td>\n",
       "      <td>3020.0</td>\n",
       "      <td>3.0</td>\n",
       "      <td>1.0</td>\n",
       "      <td>2.0</td>\n",
       "      <td>673.0</td>\n",
       "      <td>673.000000</td>\n",
       "      <td>1970.000000</td>\n",
       "      <td>-37.76230</td>\n",
       "      <td>144.82720</td>\n",
       "      <td>4217.0</td>\n",
       "    </tr>\n",
       "    <tr>\n",
       "      <th>...</th>\n",
       "      <td>...</td>\n",
       "      <td>...</td>\n",
       "      <td>...</td>\n",
       "      <td>...</td>\n",
       "      <td>...</td>\n",
       "      <td>...</td>\n",
       "      <td>...</td>\n",
       "      <td>...</td>\n",
       "      <td>...</td>\n",
       "      <td>...</td>\n",
       "      <td>...</td>\n",
       "      <td>...</td>\n",
       "    </tr>\n",
       "    <tr>\n",
       "      <th>10859</th>\n",
       "      <td>3.0</td>\n",
       "      <td>5.2</td>\n",
       "      <td>3056.0</td>\n",
       "      <td>3.0</td>\n",
       "      <td>1.0</td>\n",
       "      <td>2.0</td>\n",
       "      <td>212.0</td>\n",
       "      <td>153.764119</td>\n",
       "      <td>1964.839866</td>\n",
       "      <td>-37.77695</td>\n",
       "      <td>144.95785</td>\n",
       "      <td>11918.0</td>\n",
       "    </tr>\n",
       "    <tr>\n",
       "      <th>10860</th>\n",
       "      <td>3.0</td>\n",
       "      <td>10.5</td>\n",
       "      <td>3081.0</td>\n",
       "      <td>3.0</td>\n",
       "      <td>1.0</td>\n",
       "      <td>1.0</td>\n",
       "      <td>748.0</td>\n",
       "      <td>101.000000</td>\n",
       "      <td>1950.000000</td>\n",
       "      <td>-37.74160</td>\n",
       "      <td>145.04810</td>\n",
       "      <td>2947.0</td>\n",
       "    </tr>\n",
       "    <tr>\n",
       "      <th>10861</th>\n",
       "      <td>4.0</td>\n",
       "      <td>6.7</td>\n",
       "      <td>3058.0</td>\n",
       "      <td>4.0</td>\n",
       "      <td>2.0</td>\n",
       "      <td>2.0</td>\n",
       "      <td>441.0</td>\n",
       "      <td>255.000000</td>\n",
       "      <td>2002.000000</td>\n",
       "      <td>-37.73572</td>\n",
       "      <td>144.97256</td>\n",
       "      <td>11204.0</td>\n",
       "    </tr>\n",
       "    <tr>\n",
       "      <th>10862</th>\n",
       "      <td>3.0</td>\n",
       "      <td>12.0</td>\n",
       "      <td>3073.0</td>\n",
       "      <td>3.0</td>\n",
       "      <td>1.0</td>\n",
       "      <td>1.0</td>\n",
       "      <td>606.0</td>\n",
       "      <td>153.764119</td>\n",
       "      <td>1964.839866</td>\n",
       "      <td>-37.72057</td>\n",
       "      <td>145.02615</td>\n",
       "      <td>21650.0</td>\n",
       "    </tr>\n",
       "    <tr>\n",
       "      <th>10863</th>\n",
       "      <td>4.0</td>\n",
       "      <td>6.4</td>\n",
       "      <td>3011.0</td>\n",
       "      <td>4.0</td>\n",
       "      <td>2.0</td>\n",
       "      <td>1.0</td>\n",
       "      <td>319.0</td>\n",
       "      <td>130.000000</td>\n",
       "      <td>1915.000000</td>\n",
       "      <td>-37.79430</td>\n",
       "      <td>144.88750</td>\n",
       "      <td>7570.0</td>\n",
       "    </tr>\n",
       "  </tbody>\n",
       "</table>\n",
       "<p>10864 rows × 12 columns</p>\n",
       "</div>"
      ],
      "text/plain": [
       "        0     1       2    3    4    5      6           7            8   \\\n",
       "0      1.0   5.0  3182.0  1.0  1.0  1.0    0.0  153.764119  1940.000000   \n",
       "1      2.0   8.0  3016.0  2.0  2.0  1.0  193.0  153.764119  1964.839866   \n",
       "2      3.0  12.6  3020.0  3.0  1.0  1.0  555.0  153.764119  1964.839866   \n",
       "3      3.0  13.0  3046.0  3.0  1.0  1.0  265.0  153.764119  1995.000000   \n",
       "4      3.0  13.3  3020.0  3.0  1.0  2.0  673.0  673.000000  1970.000000   \n",
       "...    ...   ...     ...  ...  ...  ...    ...         ...          ...   \n",
       "10859  3.0   5.2  3056.0  3.0  1.0  2.0  212.0  153.764119  1964.839866   \n",
       "10860  3.0  10.5  3081.0  3.0  1.0  1.0  748.0  101.000000  1950.000000   \n",
       "10861  4.0   6.7  3058.0  4.0  2.0  2.0  441.0  255.000000  2002.000000   \n",
       "10862  3.0  12.0  3073.0  3.0  1.0  1.0  606.0  153.764119  1964.839866   \n",
       "10863  4.0   6.4  3011.0  4.0  2.0  1.0  319.0  130.000000  1915.000000   \n",
       "\n",
       "             9          10       11  \n",
       "0     -37.85984  144.98670  13240.0  \n",
       "1     -37.85800  144.90050   6380.0  \n",
       "2     -37.79880  144.82200   3755.0  \n",
       "3     -37.70830  144.91580   8870.0  \n",
       "4     -37.76230  144.82720   4217.0  \n",
       "...         ...        ...      ...  \n",
       "10859 -37.77695  144.95785  11918.0  \n",
       "10860 -37.74160  145.04810   2947.0  \n",
       "10861 -37.73572  144.97256  11204.0  \n",
       "10862 -37.72057  145.02615  21650.0  \n",
       "10863 -37.79430  144.88750   7570.0  \n",
       "\n",
       "[10864 rows x 12 columns]"
      ]
     },
     "execution_count": 28,
     "metadata": {},
     "output_type": "execute_result"
    }
   ],
   "source": [
    "imputed_X_train"
   ]
  },
  {
   "cell_type": "markdown",
   "id": "6b52d73f",
   "metadata": {
    "papermill": {
     "duration": 0.052648,
     "end_time": "2021-08-21T16:55:32.360636",
     "exception": false,
     "start_time": "2021-08-21T16:55:32.307988",
     "status": "completed"
    },
    "tags": []
   },
   "source": [
    "see imputer has removed the column name, let's put them again"
   ]
  },
  {
   "cell_type": "code",
   "execution_count": 29,
   "id": "85bf514b",
   "metadata": {
    "execution": {
     "iopub.execute_input": "2021-08-21T16:55:32.471836Z",
     "iopub.status.busy": "2021-08-21T16:55:32.471181Z",
     "iopub.status.idle": "2021-08-21T16:55:32.474459Z",
     "shell.execute_reply": "2021-08-21T16:55:32.473982Z",
     "shell.execute_reply.started": "2021-08-16T06:09:13.58427Z"
    },
    "papermill": {
     "duration": 0.061252,
     "end_time": "2021-08-21T16:55:32.474615",
     "exception": false,
     "start_time": "2021-08-21T16:55:32.413363",
     "status": "completed"
    },
    "tags": []
   },
   "outputs": [],
   "source": [
    "imputed_X_train.columns = X_train.columns\n",
    "imputed_X_valid.columns = X_valid.columns"
   ]
  },
  {
   "cell_type": "code",
   "execution_count": 30,
   "id": "094f85a6",
   "metadata": {
    "execution": {
     "iopub.execute_input": "2021-08-21T16:55:32.609087Z",
     "iopub.status.busy": "2021-08-21T16:55:32.608433Z",
     "iopub.status.idle": "2021-08-21T16:55:32.614709Z",
     "shell.execute_reply": "2021-08-21T16:55:32.614163Z",
     "shell.execute_reply.started": "2021-08-16T06:09:13.594566Z"
    },
    "papermill": {
     "duration": 0.087397,
     "end_time": "2021-08-21T16:55:32.614848",
     "exception": false,
     "start_time": "2021-08-21T16:55:32.527451",
     "status": "completed"
    },
    "tags": []
   },
   "outputs": [
    {
     "data": {
      "text/html": [
       "<div>\n",
       "<style scoped>\n",
       "    .dataframe tbody tr th:only-of-type {\n",
       "        vertical-align: middle;\n",
       "    }\n",
       "\n",
       "    .dataframe tbody tr th {\n",
       "        vertical-align: top;\n",
       "    }\n",
       "\n",
       "    .dataframe thead th {\n",
       "        text-align: right;\n",
       "    }\n",
       "</style>\n",
       "<table border=\"1\" class=\"dataframe\">\n",
       "  <thead>\n",
       "    <tr style=\"text-align: right;\">\n",
       "      <th></th>\n",
       "      <th>Rooms</th>\n",
       "      <th>Distance</th>\n",
       "      <th>Postcode</th>\n",
       "      <th>Bedroom2</th>\n",
       "      <th>Bathroom</th>\n",
       "      <th>Car</th>\n",
       "      <th>Landsize</th>\n",
       "      <th>BuildingArea</th>\n",
       "      <th>YearBuilt</th>\n",
       "      <th>Lattitude</th>\n",
       "      <th>Longtitude</th>\n",
       "      <th>Propertycount</th>\n",
       "    </tr>\n",
       "  </thead>\n",
       "  <tbody>\n",
       "    <tr>\n",
       "      <th>0</th>\n",
       "      <td>1.0</td>\n",
       "      <td>5.0</td>\n",
       "      <td>3182.0</td>\n",
       "      <td>1.0</td>\n",
       "      <td>1.0</td>\n",
       "      <td>1.0</td>\n",
       "      <td>0.0</td>\n",
       "      <td>153.764119</td>\n",
       "      <td>1940.000000</td>\n",
       "      <td>-37.85984</td>\n",
       "      <td>144.98670</td>\n",
       "      <td>13240.0</td>\n",
       "    </tr>\n",
       "    <tr>\n",
       "      <th>1</th>\n",
       "      <td>2.0</td>\n",
       "      <td>8.0</td>\n",
       "      <td>3016.0</td>\n",
       "      <td>2.0</td>\n",
       "      <td>2.0</td>\n",
       "      <td>1.0</td>\n",
       "      <td>193.0</td>\n",
       "      <td>153.764119</td>\n",
       "      <td>1964.839866</td>\n",
       "      <td>-37.85800</td>\n",
       "      <td>144.90050</td>\n",
       "      <td>6380.0</td>\n",
       "    </tr>\n",
       "    <tr>\n",
       "      <th>2</th>\n",
       "      <td>3.0</td>\n",
       "      <td>12.6</td>\n",
       "      <td>3020.0</td>\n",
       "      <td>3.0</td>\n",
       "      <td>1.0</td>\n",
       "      <td>1.0</td>\n",
       "      <td>555.0</td>\n",
       "      <td>153.764119</td>\n",
       "      <td>1964.839866</td>\n",
       "      <td>-37.79880</td>\n",
       "      <td>144.82200</td>\n",
       "      <td>3755.0</td>\n",
       "    </tr>\n",
       "    <tr>\n",
       "      <th>3</th>\n",
       "      <td>3.0</td>\n",
       "      <td>13.0</td>\n",
       "      <td>3046.0</td>\n",
       "      <td>3.0</td>\n",
       "      <td>1.0</td>\n",
       "      <td>1.0</td>\n",
       "      <td>265.0</td>\n",
       "      <td>153.764119</td>\n",
       "      <td>1995.000000</td>\n",
       "      <td>-37.70830</td>\n",
       "      <td>144.91580</td>\n",
       "      <td>8870.0</td>\n",
       "    </tr>\n",
       "    <tr>\n",
       "      <th>4</th>\n",
       "      <td>3.0</td>\n",
       "      <td>13.3</td>\n",
       "      <td>3020.0</td>\n",
       "      <td>3.0</td>\n",
       "      <td>1.0</td>\n",
       "      <td>2.0</td>\n",
       "      <td>673.0</td>\n",
       "      <td>673.000000</td>\n",
       "      <td>1970.000000</td>\n",
       "      <td>-37.76230</td>\n",
       "      <td>144.82720</td>\n",
       "      <td>4217.0</td>\n",
       "    </tr>\n",
       "    <tr>\n",
       "      <th>...</th>\n",
       "      <td>...</td>\n",
       "      <td>...</td>\n",
       "      <td>...</td>\n",
       "      <td>...</td>\n",
       "      <td>...</td>\n",
       "      <td>...</td>\n",
       "      <td>...</td>\n",
       "      <td>...</td>\n",
       "      <td>...</td>\n",
       "      <td>...</td>\n",
       "      <td>...</td>\n",
       "      <td>...</td>\n",
       "    </tr>\n",
       "    <tr>\n",
       "      <th>10859</th>\n",
       "      <td>3.0</td>\n",
       "      <td>5.2</td>\n",
       "      <td>3056.0</td>\n",
       "      <td>3.0</td>\n",
       "      <td>1.0</td>\n",
       "      <td>2.0</td>\n",
       "      <td>212.0</td>\n",
       "      <td>153.764119</td>\n",
       "      <td>1964.839866</td>\n",
       "      <td>-37.77695</td>\n",
       "      <td>144.95785</td>\n",
       "      <td>11918.0</td>\n",
       "    </tr>\n",
       "    <tr>\n",
       "      <th>10860</th>\n",
       "      <td>3.0</td>\n",
       "      <td>10.5</td>\n",
       "      <td>3081.0</td>\n",
       "      <td>3.0</td>\n",
       "      <td>1.0</td>\n",
       "      <td>1.0</td>\n",
       "      <td>748.0</td>\n",
       "      <td>101.000000</td>\n",
       "      <td>1950.000000</td>\n",
       "      <td>-37.74160</td>\n",
       "      <td>145.04810</td>\n",
       "      <td>2947.0</td>\n",
       "    </tr>\n",
       "    <tr>\n",
       "      <th>10861</th>\n",
       "      <td>4.0</td>\n",
       "      <td>6.7</td>\n",
       "      <td>3058.0</td>\n",
       "      <td>4.0</td>\n",
       "      <td>2.0</td>\n",
       "      <td>2.0</td>\n",
       "      <td>441.0</td>\n",
       "      <td>255.000000</td>\n",
       "      <td>2002.000000</td>\n",
       "      <td>-37.73572</td>\n",
       "      <td>144.97256</td>\n",
       "      <td>11204.0</td>\n",
       "    </tr>\n",
       "    <tr>\n",
       "      <th>10862</th>\n",
       "      <td>3.0</td>\n",
       "      <td>12.0</td>\n",
       "      <td>3073.0</td>\n",
       "      <td>3.0</td>\n",
       "      <td>1.0</td>\n",
       "      <td>1.0</td>\n",
       "      <td>606.0</td>\n",
       "      <td>153.764119</td>\n",
       "      <td>1964.839866</td>\n",
       "      <td>-37.72057</td>\n",
       "      <td>145.02615</td>\n",
       "      <td>21650.0</td>\n",
       "    </tr>\n",
       "    <tr>\n",
       "      <th>10863</th>\n",
       "      <td>4.0</td>\n",
       "      <td>6.4</td>\n",
       "      <td>3011.0</td>\n",
       "      <td>4.0</td>\n",
       "      <td>2.0</td>\n",
       "      <td>1.0</td>\n",
       "      <td>319.0</td>\n",
       "      <td>130.000000</td>\n",
       "      <td>1915.000000</td>\n",
       "      <td>-37.79430</td>\n",
       "      <td>144.88750</td>\n",
       "      <td>7570.0</td>\n",
       "    </tr>\n",
       "  </tbody>\n",
       "</table>\n",
       "<p>10864 rows × 12 columns</p>\n",
       "</div>"
      ],
      "text/plain": [
       "       Rooms  Distance  Postcode  Bedroom2  Bathroom  Car  Landsize  \\\n",
       "0        1.0       5.0    3182.0       1.0       1.0  1.0       0.0   \n",
       "1        2.0       8.0    3016.0       2.0       2.0  1.0     193.0   \n",
       "2        3.0      12.6    3020.0       3.0       1.0  1.0     555.0   \n",
       "3        3.0      13.0    3046.0       3.0       1.0  1.0     265.0   \n",
       "4        3.0      13.3    3020.0       3.0       1.0  2.0     673.0   \n",
       "...      ...       ...       ...       ...       ...  ...       ...   \n",
       "10859    3.0       5.2    3056.0       3.0       1.0  2.0     212.0   \n",
       "10860    3.0      10.5    3081.0       3.0       1.0  1.0     748.0   \n",
       "10861    4.0       6.7    3058.0       4.0       2.0  2.0     441.0   \n",
       "10862    3.0      12.0    3073.0       3.0       1.0  1.0     606.0   \n",
       "10863    4.0       6.4    3011.0       4.0       2.0  1.0     319.0   \n",
       "\n",
       "       BuildingArea    YearBuilt  Lattitude  Longtitude  Propertycount  \n",
       "0        153.764119  1940.000000  -37.85984   144.98670        13240.0  \n",
       "1        153.764119  1964.839866  -37.85800   144.90050         6380.0  \n",
       "2        153.764119  1964.839866  -37.79880   144.82200         3755.0  \n",
       "3        153.764119  1995.000000  -37.70830   144.91580         8870.0  \n",
       "4        673.000000  1970.000000  -37.76230   144.82720         4217.0  \n",
       "...             ...          ...        ...         ...            ...  \n",
       "10859    153.764119  1964.839866  -37.77695   144.95785        11918.0  \n",
       "10860    101.000000  1950.000000  -37.74160   145.04810         2947.0  \n",
       "10861    255.000000  2002.000000  -37.73572   144.97256        11204.0  \n",
       "10862    153.764119  1964.839866  -37.72057   145.02615        21650.0  \n",
       "10863    130.000000  1915.000000  -37.79430   144.88750         7570.0  \n",
       "\n",
       "[10864 rows x 12 columns]"
      ]
     },
     "execution_count": 30,
     "metadata": {},
     "output_type": "execute_result"
    }
   ],
   "source": [
    "imputed_X_train"
   ]
  },
  {
   "cell_type": "markdown",
   "id": "58013925",
   "metadata": {
    "papermill": {
     "duration": 0.053988,
     "end_time": "2021-08-21T16:55:32.722915",
     "exception": false,
     "start_time": "2021-08-21T16:55:32.668927",
     "status": "completed"
    },
    "tags": []
   },
   "source": [
    "see the column names are back! <br>\n",
    "So, it's time to calculate the *mean_absolute_error* of current dataset"
   ]
  },
  {
   "cell_type": "code",
   "execution_count": 31,
   "id": "b78aad85",
   "metadata": {
    "execution": {
     "iopub.execute_input": "2021-08-21T16:55:32.839516Z",
     "iopub.status.busy": "2021-08-21T16:55:32.838890Z",
     "iopub.status.idle": "2021-08-21T16:55:33.525606Z",
     "shell.execute_reply": "2021-08-21T16:55:33.524831Z",
     "shell.execute_reply.started": "2021-08-16T06:12:14.244958Z"
    },
    "papermill": {
     "duration": 0.748782,
     "end_time": "2021-08-21T16:55:33.525760",
     "exception": false,
     "start_time": "2021-08-21T16:55:32.776978",
     "status": "completed"
    },
    "tags": []
   },
   "outputs": [
    {
     "name": "stdout",
     "output_type": "stream",
     "text": [
      "MAE from Approach 2: Imputation\n",
      "178166.46269899711\n"
     ]
    }
   ],
   "source": [
    "print(\"MAE from Approach 2: Imputation\")\n",
    "print(score_dataset(imputed_X_train, imputed_X_valid, y_train, y_valid))"
   ]
  },
  {
   "cell_type": "markdown",
   "id": "b42dcb41",
   "metadata": {
    "papermill": {
     "duration": 0.055124,
     "end_time": "2021-08-21T16:55:33.636037",
     "exception": false,
     "start_time": "2021-08-21T16:55:33.580913",
     "status": "completed"
    },
    "tags": []
   },
   "source": [
    "This is better! comparing our previous error, right! :)<br>\n",
    "So, the **Approach 2** performs better than the **Approach 1** in this example."
   ]
  },
  {
   "cell_type": "markdown",
   "id": "14ddc78a",
   "metadata": {
    "papermill": {
     "duration": 0.054627,
     "end_time": "2021-08-21T16:55:33.745236",
     "exception": false,
     "start_time": "2021-08-21T16:55:33.690609",
     "status": "completed"
    },
    "tags": []
   },
   "source": [
    "Now, we're gonna see the third approach.<r>\n",
    "# Approach 3: An Extension to Imputation"
   ]
  },
  {
   "cell_type": "code",
   "execution_count": 32,
   "id": "e826a6d0",
   "metadata": {
    "execution": {
     "iopub.execute_input": "2021-08-21T16:55:33.861247Z",
     "iopub.status.busy": "2021-08-21T16:55:33.860351Z",
     "iopub.status.idle": "2021-08-21T16:55:33.864638Z",
     "shell.execute_reply": "2021-08-21T16:55:33.865086Z",
     "shell.execute_reply.started": "2021-08-16T06:35:58.51493Z"
    },
    "papermill": {
     "duration": 0.06512,
     "end_time": "2021-08-21T16:55:33.865268",
     "exception": false,
     "start_time": "2021-08-21T16:55:33.800148",
     "status": "completed"
    },
    "tags": []
   },
   "outputs": [],
   "source": [
    "# making a copy of the original data\n",
    "X_train_plus = X_train.copy()\n",
    "X_valid_plus = X_valid.copy()"
   ]
  },
  {
   "cell_type": "markdown",
   "id": "857b71a0",
   "metadata": {
    "papermill": {
     "duration": 0.053614,
     "end_time": "2021-08-21T16:55:33.974443",
     "exception": false,
     "start_time": "2021-08-21T16:55:33.920829",
     "status": "completed"
    },
    "tags": []
   },
   "source": [
    "Let's make new column(additional) indicating what will be imputed"
   ]
  },
  {
   "cell_type": "code",
   "execution_count": 33,
   "id": "a9b3da4f",
   "metadata": {
    "execution": {
     "iopub.execute_input": "2021-08-21T16:55:34.094575Z",
     "iopub.status.busy": "2021-08-21T16:55:34.093958Z",
     "iopub.status.idle": "2021-08-21T16:55:34.096923Z",
     "shell.execute_reply": "2021-08-21T16:55:34.097403Z",
     "shell.execute_reply.started": "2021-08-16T06:42:39.534276Z"
    },
    "papermill": {
     "duration": 0.068126,
     "end_time": "2021-08-21T16:55:34.097601",
     "exception": false,
     "start_time": "2021-08-21T16:55:34.029475",
     "status": "completed"
    },
    "tags": []
   },
   "outputs": [],
   "source": [
    "# .isnull will return boolian value for each entry of a column\n",
    "for col in cols_with_missing:\n",
    "    X_train_plus[col + '_was_missing'] = X_train_plus[col].isnull()\n",
    "    X_valid_plus[col + '_was_missing'] = X_valid_plus[col].isnull()"
   ]
  },
  {
   "cell_type": "markdown",
   "id": "3d87e23c",
   "metadata": {
    "papermill": {
     "duration": 0.05488,
     "end_time": "2021-08-21T16:55:34.207395",
     "exception": false,
     "start_time": "2021-08-21T16:55:34.152515",
     "status": "completed"
    },
    "tags": []
   },
   "source": [
    "So, again do imputation on our dataset"
   ]
  },
  {
   "cell_type": "code",
   "execution_count": 34,
   "id": "eea85070",
   "metadata": {
    "execution": {
     "iopub.execute_input": "2021-08-21T16:55:34.324559Z",
     "iopub.status.busy": "2021-08-21T16:55:34.323804Z",
     "iopub.status.idle": "2021-08-21T16:55:34.411124Z",
     "shell.execute_reply": "2021-08-21T16:55:34.411623Z",
     "shell.execute_reply.started": "2021-08-16T06:45:33.965664Z"
    },
    "papermill": {
     "duration": 0.149622,
     "end_time": "2021-08-21T16:55:34.411816",
     "exception": false,
     "start_time": "2021-08-21T16:55:34.262194",
     "status": "completed"
    },
    "tags": []
   },
   "outputs": [],
   "source": [
    "new_imputer = SimpleImputer()\n",
    "imputed_X_train_plus = pd.DataFrame(new_imputer.fit_transform(X_train_plus))\n",
    "imputed_X_valid_plus = pd.DataFrame(new_imputer.transform(X_valid_plus))"
   ]
  },
  {
   "cell_type": "code",
   "execution_count": 35,
   "id": "347385ee",
   "metadata": {
    "execution": {
     "iopub.execute_input": "2021-08-21T16:55:34.525860Z",
     "iopub.status.busy": "2021-08-21T16:55:34.525165Z",
     "iopub.status.idle": "2021-08-21T16:55:34.528746Z",
     "shell.execute_reply": "2021-08-21T16:55:34.528107Z",
     "shell.execute_reply.started": "2021-08-16T06:46:55.178744Z"
    },
    "papermill": {
     "duration": 0.063013,
     "end_time": "2021-08-21T16:55:34.528884",
     "exception": false,
     "start_time": "2021-08-21T16:55:34.465871",
     "status": "completed"
    },
    "tags": []
   },
   "outputs": [],
   "source": [
    "# putting the column name back again\n",
    "imputed_X_train_plus.columns = X_train_plus.columns\n",
    "imputed_X_valid_plus.columns = X_valid_plus.columns"
   ]
  },
  {
   "cell_type": "markdown",
   "id": "e1e4e0fc",
   "metadata": {
    "papermill": {
     "duration": 0.054683,
     "end_time": "2021-08-21T16:55:34.638378",
     "exception": false,
     "start_time": "2021-08-21T16:55:34.583695",
     "status": "completed"
    },
    "tags": []
   },
   "source": [
    "Last thing is to calculate the *mean_absolute_error*. Let's do it!"
   ]
  },
  {
   "cell_type": "code",
   "execution_count": 36,
   "id": "3305126a",
   "metadata": {
    "execution": {
     "iopub.execute_input": "2021-08-21T16:55:34.755806Z",
     "iopub.status.busy": "2021-08-21T16:55:34.755093Z",
     "iopub.status.idle": "2021-08-21T16:55:35.477121Z",
     "shell.execute_reply": "2021-08-21T16:55:35.476080Z",
     "shell.execute_reply.started": "2021-08-16T06:49:07.90287Z"
    },
    "papermill": {
     "duration": 0.784104,
     "end_time": "2021-08-21T16:55:35.477365",
     "exception": false,
     "start_time": "2021-08-21T16:55:34.693261",
     "status": "completed"
    },
    "tags": []
   },
   "outputs": [
    {
     "name": "stdout",
     "output_type": "stream",
     "text": [
      "MAE from Approach 3: Extension to Imputation\n",
      "178927.503183954\n"
     ]
    }
   ],
   "source": [
    "print(\"MAE from Approach 3: Extension to Imputation\")\n",
    "print(score_dataset(imputed_X_train_plus, imputed_X_valid_plus, y_train, y_valid))"
   ]
  },
  {
   "cell_type": "markdown",
   "id": "f50981b6",
   "metadata": {
    "papermill": {
     "duration": 0.057919,
     "end_time": "2021-08-21T16:55:35.593146",
     "exception": false,
     "start_time": "2021-08-21T16:55:35.535227",
     "status": "completed"
    },
    "tags": []
   },
   "source": [
    "Ouw!! The score is not improved here than the previous score. :( <br>"
   ]
  },
  {
   "cell_type": "markdown",
   "id": "8eca8657",
   "metadata": {
    "papermill": {
     "duration": 0.055218,
     "end_time": "2021-08-21T16:55:35.703726",
     "exception": false,
     "start_time": "2021-08-21T16:55:35.648508",
     "status": "completed"
    },
    "tags": []
   },
   "source": [
    "**So, why did imputation perform better than dropping the columns?**<br>\n",
    "The training data has 10864 rows and 12 columns, where three columns contain missing data. For each column, less than half of the entries are missing.<br>\n",
    "Thus, dropping the columns removes a lot of useful information, and so it makes sense that imputation would perform better."
   ]
  },
  {
   "cell_type": "markdown",
   "id": "6746863b",
   "metadata": {
    "papermill": {
     "duration": 0.055908,
     "end_time": "2021-08-21T16:55:35.814963",
     "exception": false,
     "start_time": "2021-08-21T16:55:35.759055",
     "status": "completed"
    },
    "tags": []
   },
   "source": [
    "Finally, to wrap up. We conclude by drafting the missing values<br>\n",
    "of that 3 columns containing some missing values"
   ]
  },
  {
   "cell_type": "code",
   "execution_count": 37,
   "id": "69935f71",
   "metadata": {
    "execution": {
     "iopub.execute_input": "2021-08-21T16:55:35.933787Z",
     "iopub.status.busy": "2021-08-21T16:55:35.932278Z",
     "iopub.status.idle": "2021-08-21T16:55:35.953934Z",
     "shell.execute_reply": "2021-08-21T16:55:35.953125Z",
     "shell.execute_reply.started": "2021-08-16T06:56:46.29991Z"
    },
    "papermill": {
     "duration": 0.082582,
     "end_time": "2021-08-21T16:55:35.954143",
     "exception": false,
     "start_time": "2021-08-21T16:55:35.871561",
     "status": "completed"
    },
    "tags": []
   },
   "outputs": [
    {
     "name": "stdout",
     "output_type": "stream",
     "text": [
      "(10864, 12)\n",
      "Car               49\n",
      "BuildingArea    5156\n",
      "YearBuilt       4307\n",
      "dtype: int64\n"
     ]
    }
   ],
   "source": [
    "print(X_train.shape)\n",
    "\n",
    "# number of missing values in each column of X_train\n",
    "missing_val_count_by_column = (X_train.isnull().sum())\n",
    "print(missing_val_count_by_column[missing_val_count_by_column > 0])"
   ]
  },
  {
   "cell_type": "markdown",
   "id": "629f1957",
   "metadata": {
    "papermill": {
     "duration": 0.055897,
     "end_time": "2021-08-21T16:55:36.067399",
     "exception": false,
     "start_time": "2021-08-21T16:55:36.011502",
     "status": "completed"
    },
    "tags": []
   },
   "source": [
    "# Congratualtions!<br>\n",
    "We now know how to deal with missing values in our dataset with atleast three approaches."
   ]
  },
  {
   "cell_type": "code",
   "execution_count": null,
   "id": "3f8101fe",
   "metadata": {
    "papermill": {
     "duration": 0.05832,
     "end_time": "2021-08-21T16:55:36.183672",
     "exception": false,
     "start_time": "2021-08-21T16:55:36.125352",
     "status": "completed"
    },
    "tags": []
   },
   "outputs": [],
   "source": []
  }
 ],
 "metadata": {
  "kernelspec": {
   "display_name": "Python 3",
   "language": "python",
   "name": "python3"
  },
  "language_info": {
   "codemirror_mode": {
    "name": "ipython",
    "version": 3
   },
   "file_extension": ".py",
   "mimetype": "text/x-python",
   "name": "python",
   "nbconvert_exporter": "python",
   "pygments_lexer": "ipython3",
   "version": "3.7.10"
  },
  "papermill": {
   "default_parameters": {},
   "duration": 20.999432,
   "end_time": "2021-08-21T16:55:37.847868",
   "environment_variables": {},
   "exception": null,
   "input_path": "__notebook__.ipynb",
   "output_path": "__notebook__.ipynb",
   "parameters": {},
   "start_time": "2021-08-21T16:55:16.848436",
   "version": "2.3.3"
  }
 },
 "nbformat": 4,
 "nbformat_minor": 5
}
