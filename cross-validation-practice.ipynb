{
 "cells": [
  {
   "cell_type": "markdown",
   "id": "151fff2f",
   "metadata": {
    "papermill": {
     "duration": 0.00874,
     "end_time": "2021-08-19T18:23:23.340194",
     "exception": false,
     "start_time": "2021-08-19T18:23:23.331454",
     "status": "completed"
    },
    "tags": []
   },
   "source": [
    "In this particular notebook, we're gonna learn about *cross-validation* and it's working.<br>\n",
    "For this reason, we choose the dataset from [Melbourne Housing Snapshot](https://www.kaggle.com/dansbecker/melbourne-housing-snapshot)<br>\n",
    "Beofore that, what do you mean by the term **CROSS-VALIDATION** in machine learning models?<br>\n",
    "Cross means shuffling here, and corss validation means the shuffling in main dataset due to the validation dataset which belongs into it.<br>\n",
    "There are some types of problems who generally face while choosing validation dataset. Some approaches could be-\n",
    "* k-Fold\n",
    "* Stratified k-Fold\n",
    "* Leave one out\n",
    "and some others. Let's know some ideas how these are actually doing on dataset."
   ]
  },
  {
   "cell_type": "markdown",
   "id": "bb3c2532",
   "metadata": {
    "papermill": {
     "duration": 0.007347,
     "end_time": "2021-08-19T18:23:23.355696",
     "exception": false,
     "start_time": "2021-08-19T18:23:23.348349",
     "status": "completed"
    },
    "tags": []
   },
   "source": [
    "# K-Fold\n",
    "In this process, we choose random part of the dataset to set as validation dataset e.g 20% most of the time.<br>\n",
    "If we have been declared 20% for the validation dataset from 5000 examples, then random 1000 examples would be there to get selected.<br>\n",
    "Then we find out the prediction for each of the fold *imagine this one {v1, v2, v3, v4, v5}* have been selected  as validation set such as \n",
    "But the problem is, having a perfect ratio of 90% positive and 10% negative examples in the main dataset doesn't surely maintained by the k-Fold technique.<br>\n",
    "More specificly,  each fold doesn't necessarily balanced with 90% +ve and 10% -ve ratio as like as the main dataset. [Click here](https://scikit-learn.org/stable/modules/cross_validation.html) to learn more."
   ]
  },
  {
   "cell_type": "markdown",
   "id": "56d4b2c9",
   "metadata": {
    "papermill": {
     "duration": 0.007255,
     "end_time": "2021-08-19T18:23:23.370554",
     "exception": false,
     "start_time": "2021-08-19T18:23:23.363299",
     "status": "completed"
    },
    "tags": []
   },
   "source": [
    "# Stratified k-Fold\n",
    "In this particular process, we're going to use this process as it provides train/test indices to split data in train/test sets.<br>\n",
    "So, it takes care the ratio of positive or negative data exaples in each folds. [Click here]( https://scikit-learn.org/stable/modules/generated/sklearn.model_selection.StratifiedKFold.html) to learn more."
   ]
  },
  {
   "cell_type": "markdown",
   "id": "9f3afd3b",
   "metadata": {
    "papermill": {
     "duration": 0.007226,
     "end_time": "2021-08-19T18:23:23.385284",
     "exception": false,
     "start_time": "2021-08-19T18:23:23.378058",
     "status": "completed"
    },
    "tags": []
   },
   "source": [
    "# Leave one Out\n",
    "This process is only applicable if there's only 1 validation data in each fold of our entire dataset while the remaining samples form the training set..[Click here](https://scikit-learn.org/stable/modules/generated/sklearn.model_selection.LeaveOneOut.html)<br>\n",
    "So, now we're gonna start our code here. As usual let's load the input data in X and the output data in y."
   ]
  },
  {
   "cell_type": "code",
   "execution_count": 1,
   "id": "9c9fc2d3",
   "metadata": {
    "execution": {
     "iopub.execute_input": "2021-08-19T18:23:23.405388Z",
     "iopub.status.busy": "2021-08-19T18:23:23.403738Z",
     "iopub.status.idle": "2021-08-19T18:23:23.587863Z",
     "shell.execute_reply": "2021-08-19T18:23:23.587173Z",
     "shell.execute_reply.started": "2021-08-19T17:54:53.741301Z"
    },
    "papermill": {
     "duration": 0.195066,
     "end_time": "2021-08-19T18:23:23.588028",
     "exception": false,
     "start_time": "2021-08-19T18:23:23.392962",
     "status": "completed"
    },
    "tags": []
   },
   "outputs": [],
   "source": [
    "import pandas as pd\n",
    "\n",
    "# Read the data\n",
    "data = pd.read_csv('../input/melbourne-housing-snapshot/melb_data.csv')\n",
    "\n",
    "# Select subset of predictors\n",
    "features_cols = ['Rooms', 'Distance', 'Landsize', 'BuildingArea', 'YearBuilt']\n",
    "X = data[features_cols]\n",
    "\n",
    "# Select target\n",
    "y = data.Price"
   ]
  },
  {
   "cell_type": "markdown",
   "id": "86aafcba",
   "metadata": {
    "papermill": {
     "duration": 0.007646,
     "end_time": "2021-08-19T18:23:23.603502",
     "exception": false,
     "start_time": "2021-08-19T18:23:23.595856",
     "status": "completed"
    },
    "tags": []
   },
   "source": [
    "let's print X, and y so see how these they look like."
   ]
  },
  {
   "cell_type": "code",
   "execution_count": 2,
   "id": "fea097ad",
   "metadata": {
    "execution": {
     "iopub.execute_input": "2021-08-19T18:23:23.625945Z",
     "iopub.status.busy": "2021-08-19T18:23:23.625362Z",
     "iopub.status.idle": "2021-08-19T18:23:23.641944Z",
     "shell.execute_reply": "2021-08-19T18:23:23.642359Z",
     "shell.execute_reply.started": "2021-08-19T17:55:46.118023Z"
    },
    "papermill": {
     "duration": 0.030902,
     "end_time": "2021-08-19T18:23:23.642524",
     "exception": false,
     "start_time": "2021-08-19T18:23:23.611622",
     "status": "completed"
    },
    "tags": []
   },
   "outputs": [
    {
     "data": {
      "text/html": [
       "<div>\n",
       "<style scoped>\n",
       "    .dataframe tbody tr th:only-of-type {\n",
       "        vertical-align: middle;\n",
       "    }\n",
       "\n",
       "    .dataframe tbody tr th {\n",
       "        vertical-align: top;\n",
       "    }\n",
       "\n",
       "    .dataframe thead th {\n",
       "        text-align: right;\n",
       "    }\n",
       "</style>\n",
       "<table border=\"1\" class=\"dataframe\">\n",
       "  <thead>\n",
       "    <tr style=\"text-align: right;\">\n",
       "      <th></th>\n",
       "      <th>Rooms</th>\n",
       "      <th>Distance</th>\n",
       "      <th>Landsize</th>\n",
       "      <th>BuildingArea</th>\n",
       "      <th>YearBuilt</th>\n",
       "    </tr>\n",
       "  </thead>\n",
       "  <tbody>\n",
       "    <tr>\n",
       "      <th>0</th>\n",
       "      <td>2</td>\n",
       "      <td>2.5</td>\n",
       "      <td>202.0</td>\n",
       "      <td>NaN</td>\n",
       "      <td>NaN</td>\n",
       "    </tr>\n",
       "    <tr>\n",
       "      <th>1</th>\n",
       "      <td>2</td>\n",
       "      <td>2.5</td>\n",
       "      <td>156.0</td>\n",
       "      <td>79.0</td>\n",
       "      <td>1900.0</td>\n",
       "    </tr>\n",
       "    <tr>\n",
       "      <th>2</th>\n",
       "      <td>3</td>\n",
       "      <td>2.5</td>\n",
       "      <td>134.0</td>\n",
       "      <td>150.0</td>\n",
       "      <td>1900.0</td>\n",
       "    </tr>\n",
       "    <tr>\n",
       "      <th>3</th>\n",
       "      <td>3</td>\n",
       "      <td>2.5</td>\n",
       "      <td>94.0</td>\n",
       "      <td>NaN</td>\n",
       "      <td>NaN</td>\n",
       "    </tr>\n",
       "    <tr>\n",
       "      <th>4</th>\n",
       "      <td>4</td>\n",
       "      <td>2.5</td>\n",
       "      <td>120.0</td>\n",
       "      <td>142.0</td>\n",
       "      <td>2014.0</td>\n",
       "    </tr>\n",
       "  </tbody>\n",
       "</table>\n",
       "</div>"
      ],
      "text/plain": [
       "   Rooms  Distance  Landsize  BuildingArea  YearBuilt\n",
       "0      2       2.5     202.0           NaN        NaN\n",
       "1      2       2.5     156.0          79.0     1900.0\n",
       "2      3       2.5     134.0         150.0     1900.0\n",
       "3      3       2.5      94.0           NaN        NaN\n",
       "4      4       2.5     120.0         142.0     2014.0"
      ]
     },
     "execution_count": 2,
     "metadata": {},
     "output_type": "execute_result"
    }
   ],
   "source": [
    "X.head()"
   ]
  },
  {
   "cell_type": "code",
   "execution_count": 3,
   "id": "71862355",
   "metadata": {
    "execution": {
     "iopub.execute_input": "2021-08-19T18:23:23.665892Z",
     "iopub.status.busy": "2021-08-19T18:23:23.664964Z",
     "iopub.status.idle": "2021-08-19T18:23:23.669010Z",
     "shell.execute_reply": "2021-08-19T18:23:23.668430Z",
     "shell.execute_reply.started": "2021-08-19T17:55:56.993582Z"
    },
    "papermill": {
     "duration": 0.01796,
     "end_time": "2021-08-19T18:23:23.669149",
     "exception": false,
     "start_time": "2021-08-19T18:23:23.651189",
     "status": "completed"
    },
    "tags": []
   },
   "outputs": [
    {
     "data": {
      "text/plain": [
       "0    1480000.0\n",
       "1    1035000.0\n",
       "2    1465000.0\n",
       "3     850000.0\n",
       "4    1600000.0\n",
       "Name: Price, dtype: float64"
      ]
     },
     "execution_count": 3,
     "metadata": {},
     "output_type": "execute_result"
    }
   ],
   "source": [
    "y.head()"
   ]
  },
  {
   "cell_type": "markdown",
   "id": "5c5fe03b",
   "metadata": {
    "papermill": {
     "duration": 0.007978,
     "end_time": "2021-08-19T18:23:23.685550",
     "exception": false,
     "start_time": "2021-08-19T18:23:23.677572",
     "status": "completed"
    },
    "tags": []
   },
   "source": [
    "It is possible to do cross-validatio without doing pipelining! But it is not a good decision.<br>\n",
    "However, pipeline will make the code remarkably straightforward. So, we're gonna a pipeline.<br>\n",
    "For this reason, we'll use an imputer for missing values as the preprocessor, and RandomForestRegressor while defining the model."
   ]
  },
  {
   "cell_type": "code",
   "execution_count": 4,
   "id": "fd7cb9df",
   "metadata": {
    "execution": {
     "iopub.execute_input": "2021-08-19T18:23:23.707165Z",
     "iopub.status.busy": "2021-08-19T18:23:23.706464Z",
     "iopub.status.idle": "2021-08-19T18:23:24.830688Z",
     "shell.execute_reply": "2021-08-19T18:23:24.830167Z",
     "shell.execute_reply.started": "2021-08-19T18:05:32.644579Z"
    },
    "papermill": {
     "duration": 1.137062,
     "end_time": "2021-08-19T18:23:24.830847",
     "exception": false,
     "start_time": "2021-08-19T18:23:23.693785",
     "status": "completed"
    },
    "tags": []
   },
   "outputs": [],
   "source": [
    "from sklearn.ensemble import RandomForestRegressor\n",
    "from sklearn.pipeline import Pipeline\n",
    "from sklearn.impute import SimpleImputer\n",
    "\n",
    "# defining pipeline \n",
    "my_pipeline = Pipeline(steps = [\n",
    "    ('preprocessor', SimpleImputer()),\n",
    "    ('model', RandomForestRegressor(n_estimators = 50, random_state = 0))\n",
    "])"
   ]
  },
  {
   "cell_type": "markdown",
   "id": "41c14337",
   "metadata": {
    "papermill": {
     "duration": 0.008208,
     "end_time": "2021-08-19T18:23:24.847601",
     "exception": false,
     "start_time": "2021-08-19T18:23:24.839393",
     "status": "completed"
    },
    "tags": []
   },
   "source": [
    "Now, we'll be using the *cross_val_score()* ([click here](https://scikit-learn.org/stable/modules/generated/sklearn.model_selection.cross_val_score.html) to see documentation) function to obtain cross validation scores. Here, we'll use *neg_mean_absolute_error*.<br>\n",
    "For this, we need to multiply our function with **-1**. Again, inside the function, we'll be passing the whole X and y as it'll do all the fold for us from the given dataset."
   ]
  },
  {
   "cell_type": "code",
   "execution_count": 5,
   "id": "a9808db3",
   "metadata": {
    "execution": {
     "iopub.execute_input": "2021-08-19T18:23:24.870528Z",
     "iopub.status.busy": "2021-08-19T18:23:24.869615Z",
     "iopub.status.idle": "2021-08-19T18:23:32.533188Z",
     "shell.execute_reply": "2021-08-19T18:23:32.532731Z",
     "shell.execute_reply.started": "2021-08-19T18:14:40.815782Z"
    },
    "papermill": {
     "duration": 7.677276,
     "end_time": "2021-08-19T18:23:32.533320",
     "exception": false,
     "start_time": "2021-08-19T18:23:24.856044",
     "status": "completed"
    },
    "tags": []
   },
   "outputs": [
    {
     "name": "stdout",
     "output_type": "stream",
     "text": [
      "MAE scores:\n",
      " [301628.7893587  303164.4782723  287298.331666   236061.84754543\n",
      " 260383.45111427]\n"
     ]
    }
   ],
   "source": [
    "from sklearn.model_selection import cross_val_score\n",
    "\n",
    "# cv is the number of folds (k actually)\n",
    "my_scores = -1 * cross_val_score(my_pipeline,\n",
    "                                X,\n",
    "                                y,\n",
    "                                cv = 5,\n",
    "                                scoring  = 'neg_mean_absolute_error')\n",
    "\n",
    "print('MAE scores:\\n', my_scores)\n"
   ]
  },
  {
   "cell_type": "markdown",
   "id": "9ebf7602",
   "metadata": {
    "papermill": {
     "duration": 0.00837,
     "end_time": "2021-08-19T18:23:32.550369",
     "exception": false,
     "start_time": "2021-08-19T18:23:32.541999",
     "status": "completed"
    },
    "tags": []
   },
   "source": [
    "See! We got our mean absolute error from each validation set (k = 5). <br>\n",
    "It is a little surprising that we specify negative MAE. Scikit-learn has a convention where all metrics are defined so a high number is better. Using negatives here allows them to be consistent with that convention, though negative MAE is almost unheard of elsewhere.<br>\n",
    "Now, just averaging the scores to get mean value of them."
   ]
  },
  {
   "cell_type": "code",
   "execution_count": 6,
   "id": "e9ba6023",
   "metadata": {
    "execution": {
     "iopub.execute_input": "2021-08-19T18:23:32.571974Z",
     "iopub.status.busy": "2021-08-19T18:23:32.571374Z",
     "iopub.status.idle": "2021-08-19T18:23:32.574182Z",
     "shell.execute_reply": "2021-08-19T18:23:32.574566Z",
     "shell.execute_reply.started": "2021-08-19T18:20:38.043909Z"
    },
    "papermill": {
     "duration": 0.015881,
     "end_time": "2021-08-19T18:23:32.574761",
     "exception": false,
     "start_time": "2021-08-19T18:23:32.558880",
     "status": "completed"
    },
    "tags": []
   },
   "outputs": [
    {
     "name": "stdout",
     "output_type": "stream",
     "text": [
      "Average MEA of our scores:\n",
      "277707.3795913405\n"
     ]
    }
   ],
   "source": [
    "print(\"Average MEA of our scores:\")\n",
    "print(my_scores.mean())"
   ]
  },
  {
   "cell_type": "markdown",
   "id": "2c8a903f",
   "metadata": {
    "papermill": {
     "duration": 0.008639,
     "end_time": "2021-08-19T18:23:32.592478",
     "exception": false,
     "start_time": "2021-08-19T18:23:32.583839",
     "status": "completed"
    },
    "tags": []
   },
   "source": [
    "**Yes! We're done with corss-validation**<br>\n",
    "The good thing is that using cross-validation we no longer need to keep track of separate training and validation sets. <br>\n",
    "So, especially for small datasets...right!!\n",
    "\n"
   ]
  }
 ],
 "metadata": {
  "kernelspec": {
   "display_name": "Python 3",
   "language": "python",
   "name": "python3"
  },
  "language_info": {
   "codemirror_mode": {
    "name": "ipython",
    "version": 3
   },
   "file_extension": ".py",
   "mimetype": "text/x-python",
   "name": "python",
   "nbconvert_exporter": "python",
   "pygments_lexer": "ipython3",
   "version": "3.7.10"
  },
  "papermill": {
   "default_parameters": {},
   "duration": 17.784712,
   "end_time": "2021-08-19T18:23:33.969538",
   "environment_variables": {},
   "exception": null,
   "input_path": "__notebook__.ipynb",
   "output_path": "__notebook__.ipynb",
   "parameters": {},
   "start_time": "2021-08-19T18:23:16.184826",
   "version": "2.3.3"
  }
 },
 "nbformat": 4,
 "nbformat_minor": 5
}
